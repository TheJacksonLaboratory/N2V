{
 "cells": [
  {
   "cell_type": "code",
   "execution_count": 18,
   "metadata": {},
   "outputs": [
    {
     "name": "stdout",
     "output_type": "stream",
     "text": [
      "{'required_time': 0.012836933135986328, 'human_time': 'a moment'}\n"
     ]
    }
   ],
   "source": [
    "from time import time\n",
    "from humanize import naturaldelta\n",
    "from embiggen import Graph, GraphFactory\n",
    "import compress_json\n",
    "\n",
    "start = time()\n",
    "factory = GraphFactory(default_directed=True)\n",
    "graph = factory.read_csv(\n",
    "    \"tests/data/first_walk_test_edges.tsv\",\n",
    "    \"tests/data/first_walk_test_nodes.tsv\",\n",
    "    \n",
    ")\n",
    "graph.random_walk(number=10, length=80)\n",
    "delta = time() - start\n",
    "\n",
    "response = {\n",
    "    \"required_time\": delta,\n",
    "    \"human_time\": naturaldelta(delta)\n",
    "}\n",
    "\n",
    "print(response)\n",
    "\n",
    "compress_json.dump(response, \"time_required.json\")"
   ]
  },
  {
   "cell_type": "code",
   "execution_count": null,
   "metadata": {},
   "outputs": [],
   "source": []
  }
 ],
 "metadata": {
  "kernelspec": {
   "display_name": "Python 3",
   "language": "python",
   "name": "python3"
  },
  "language_info": {
   "codemirror_mode": {
    "name": "ipython",
    "version": 3
   },
   "file_extension": ".py",
   "mimetype": "text/x-python",
   "name": "python",
   "nbconvert_exporter": "python",
   "pygments_lexer": "ipython3",
   "version": "3.7.6"
  }
 },
 "nbformat": 4,
 "nbformat_minor": 4
}
