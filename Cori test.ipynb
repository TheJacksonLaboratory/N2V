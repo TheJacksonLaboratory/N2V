{
 "cells": [
  {
   "cell_type": "code",
   "execution_count": 1,
   "metadata": {},
   "outputs": [
    {
     "name": "stdout",
     "output_type": "stream",
     "text": [
      "{'required_time': 9.44706678390503, 'human_time': '9 seconds'}\n"
     ]
    }
   ],
   "source": [
    "import os\n",
    "#os.environ[\"NUMBA_DISABLE_JIT\"]=\"1\"\n",
    "\n",
    "from time import time\n",
    "from humanize import naturaldelta\n",
    "from embiggen import Graph, GraphFactory\n",
    "import compress_json\n",
    "\n",
    "\n",
    "start = time()\n",
    "factory = GraphFactory(default_directed=True)\n",
    "graph = factory.read_csv(\n",
    "    \"tests/data/first_walk_test_edges.tsv\",\n",
    "    \"tests/data/first_walk_test_nodes.tsv\",\n",
    "    \n",
    ")\n",
    "graph.random_walk(number=10, length=80)\n",
    "delta = time() - start\n",
    "\n",
    "response = {\n",
    "    \"required_time\": delta,\n",
    "    \"human_time\": naturaldelta(delta)\n",
    "}\n",
    "\n",
    "print(response)\n",
    "\n",
    "compress_json.dump(response, \"time_required.json\")"
   ]
  },
  {
   "cell_type": "code",
   "execution_count": 2,
   "metadata": {},
   "outputs": [
    {
     "name": "stdout",
     "output_type": "stream",
     "text": [
      "1.22 ms ± 36.5 µs per loop (mean ± std. dev. of 7 runs, 1000 loops each)\n"
     ]
    }
   ],
   "source": [
    "%timeit graph.random_walk(number=10, length=80)"
   ]
  },
  {
   "cell_type": "code",
   "execution_count": 3,
   "metadata": {},
   "outputs": [
    {
     "name": "stdout",
     "output_type": "stream",
     "text": [
      "5.52 ms ± 87.4 µs per loop (mean ± std. dev. of 7 runs, 100 loops each)\n"
     ]
    }
   ],
   "source": [
    "%%timeit\n",
    "graph = factory.read_csv(\n",
    "    \"tests/data/first_walk_test_edges.tsv\",\n",
    "    \"tests/data/first_walk_test_nodes.tsv\",\n",
    "    \n",
    ")"
   ]
  },
  {
   "cell_type": "code",
   "execution_count": null,
   "metadata": {},
   "outputs": [],
   "source": []
  }
 ],
 "metadata": {
  "kernelspec": {
   "display_name": "Python 3",
   "language": "python",
   "name": "python3"
  },
  "language_info": {
   "codemirror_mode": {
    "name": "ipython",
    "version": 3
   },
   "file_extension": ".py",
   "mimetype": "text/x-python",
   "name": "python",
   "nbconvert_exporter": "python",
   "pygments_lexer": "ipython3",
   "version": "3.7.6"
  }
 },
 "nbformat": 4,
 "nbformat_minor": 4
}
