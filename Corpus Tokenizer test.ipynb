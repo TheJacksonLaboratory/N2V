{
 "cells": [
  {
   "cell_type": "code",
   "execution_count": 1,
   "metadata": {},
   "outputs": [],
   "source": [
    "from embiggen import CorpusTransformer"
   ]
  },
  {
   "cell_type": "code",
   "execution_count": 9,
   "metadata": {},
   "outputs": [],
   "source": [
    "transformer = CorpusTransformer(\n",
    "    apply_stemming=False,\n",
    "    verbose=False,\n",
    "    remove_stop_words=False,\n",
    "    remove_punctuation=False,\n",
    "    min_word_length=0,\n",
    "    to_lower_case=\n",
    ")"
   ]
  },
  {
   "cell_type": "code",
   "execution_count": 10,
   "metadata": {},
   "outputs": [],
   "source": [
    "text = [\n",
    "    \"This is a GENERIC text tokenizer and is only useful for basic examples\",\n",
    "    \"as in any advanced settings there will be need for a custom tokenizer.\"\n",
    "]"
   ]
  },
  {
   "cell_type": "code",
   "execution_count": 11,
   "metadata": {},
   "outputs": [
    {
     "data": {
      "text/plain": [
       "array([array([1, 2, 0, 3, 4, 5], dtype=uint64),\n",
       "       array([6, 7, 8, 9, 0], dtype=uint64)], dtype=object)"
      ]
     },
     "execution_count": 11,
     "metadata": {},
     "output_type": "execute_result"
    }
   ],
   "source": [
    "transformer.fit(text)\n",
    "transformer.transform(text)"
   ]
  },
  {
   "cell_type": "code",
   "execution_count": 12,
   "metadata": {},
   "outputs": [
    {
     "data": {
      "text/plain": [
       "OrderedDict([('generic', 1),\n",
       "             ('text', 1),\n",
       "             ('tokenizer', 2),\n",
       "             ('useful', 1),\n",
       "             ('basic', 1),\n",
       "             ('examples', 1),\n",
       "             ('advanced', 1),\n",
       "             ('settings', 1),\n",
       "             ('need', 1),\n",
       "             ('custom', 1)])"
      ]
     },
     "execution_count": 12,
     "metadata": {},
     "output_type": "execute_result"
    }
   ],
   "source": [
    "transformer._tokenizer.word_counts"
   ]
  },
  {
   "cell_type": "code",
   "execution_count": null,
   "metadata": {},
   "outputs": [],
   "source": []
  }
 ],
 "metadata": {
  "kernelspec": {
   "display_name": "Python 3",
   "language": "python",
   "name": "python3"
  },
  "language_info": {
   "codemirror_mode": {
    "name": "ipython",
    "version": 3
   },
   "file_extension": ".py",
   "mimetype": "text/x-python",
   "name": "python",
   "nbconvert_exporter": "python",
   "pygments_lexer": "ipython3",
   "version": "3.7.6"
  }
 },
 "nbformat": 4,
 "nbformat_minor": 4
}
