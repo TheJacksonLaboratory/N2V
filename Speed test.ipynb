{
 "cells": [
  {
   "cell_type": "code",
   "execution_count": 1,
   "metadata": {},
   "outputs": [],
   "source": [
    "from embiggen.graph import GraphFactory\n",
    "\n",
    "factory = GraphFactory(verbose=False)"
   ]
  },
  {
   "cell_type": "code",
   "execution_count": 2,
   "metadata": {},
   "outputs": [],
   "source": [
    "path = \"tests/data/rand_100nodes_5000edges.graph\""
   ]
  },
  {
   "cell_type": "code",
   "execution_count": 3,
   "metadata": {},
   "outputs": [
    {
     "data": {
      "text/plain": [
       "array([[ 0, 92, 54, ..., 89, 94, 87],\n",
       "       [ 1, 15, 51, ..., 81, 57, 26],\n",
       "       [ 2, 58, 19, ..., 10,  4, 95],\n",
       "       ...,\n",
       "       [96, 28, 64, ..., 80, 26, 29],\n",
       "       [97, 51, 29, ...,  0, 30, 93],\n",
       "       [98, 16, 38, ..., 47, 27, 38]])"
      ]
     },
     "execution_count": 3,
     "metadata": {},
     "output_type": "execute_result"
    }
   ],
   "source": [
    "graph = factory.read_csv(\n",
    "    path,\n",
    "    edge_has_header=False,\n",
    "    start_nodes_column=0,\n",
    "    end_nodes_column=1,\n",
    "    weights_column=2,\n",
    "    return_weight=10,\n",
    "    explore_weight=10\n",
    ")\n",
    "graph.random_walk(100, 100)"
   ]
  },
  {
   "cell_type": "code",
   "execution_count": 4,
   "metadata": {},
   "outputs": [
    {
     "name": "stdout",
     "output_type": "stream",
     "text": [
      "504 ms ± 25.1 ms per loop (mean ± std. dev. of 7 runs, 1 loop each)\n"
     ]
    }
   ],
   "source": [
    "%%timeit\n",
    "graph = factory.read_csv(\n",
    "    path,\n",
    "    edge_has_header=False,\n",
    "    start_nodes_column=0,\n",
    "    end_nodes_column=1,\n",
    "    weights_column=2,\n",
    "    return_weight=10,\n",
    "    explore_weight=10\n",
    ")\n",
    "graph.random_walk(100, 100)"
   ]
  },
  {
   "cell_type": "code",
   "execution_count": 5,
   "metadata": {},
   "outputs": [
    {
     "name": "stdout",
     "output_type": "stream",
     "text": [
      "207 ms ± 4.48 ms per loop (mean ± std. dev. of 7 runs, 1 loop each)\n"
     ]
    }
   ],
   "source": [
    "%%timeit\n",
    "graph.random_walk(100, 100)"
   ]
  },
  {
   "cell_type": "code",
   "execution_count": 9,
   "metadata": {},
   "outputs": [
    {
     "data": {
      "text/plain": [
       "numpy.ndarray"
      ]
     },
     "execution_count": 9,
     "metadata": {},
     "output_type": "execute_result"
    }
   ],
   "source": [
    "type(results)"
   ]
  },
  {
   "cell_type": "code",
   "execution_count": 10,
   "metadata": {},
   "outputs": [],
   "source": [
    "import numpy as np\n",
    "from numba import njit\n",
    "\n",
    "@njit\n",
    "def alias_draw(j: np.ndarray, q: np.ndarray) -> int:\n",
    "    \"\"\"Draw sample from a non-uniform discrete distribution using alias sampling.\n",
    "\n",
    "    Parameters\n",
    "    ----------\n",
    "    j:np.ndarray,\n",
    "        The mapping to the less probable binary outcome,\n",
    "    q: np.ndarray\n",
    "        Uniform distribution over binary outcomes\n",
    "\n",
    "    Returns:\n",
    "        index:int \n",
    "            index of random sample from non-uniform discrete distribution\n",
    "    \"\"\"\n",
    "    # extract a random index for the mixture\n",
    "    index = np.random.randint(0, len(q))\n",
    "    # do the Bernulli trial\n",
    "    if np.random.rand() < q[index]:\n",
    "        # most probable case and fastest\n",
    "        return index\n",
    "    return j[index]\n",
    "\n",
    "def no_njit_alias_draw(j: np.ndarray, q: np.ndarray) -> int:\n",
    "    \"\"\"Draw sample from a non-uniform discrete distribution using alias sampling.\n",
    "\n",
    "    Parameters\n",
    "    ----------\n",
    "    j:np.ndarray,\n",
    "        The mapping to the less probable binary outcome,\n",
    "    q: np.ndarray\n",
    "        Uniform distribution over binary outcomes\n",
    "\n",
    "    Returns:\n",
    "        index:int \n",
    "            index of random sample from non-uniform discrete distribution\n",
    "    \"\"\"\n",
    "    # extract a random index for the mixture\n",
    "    index = np.random.randint(0, len(q))\n",
    "    # do the Bernulli trial\n",
    "    if np.random.rand() < q[index]:\n",
    "        # most probable case and fastest\n",
    "        return index\n",
    "    return j[index]\n",
    "\n",
    "\n",
    "def new_alias_draw(samples_number:int=10000):\n",
    "    samples = np.random.uniform(size=samples_number)\n",
    "    last = samples[0]\n",
    "    i = 1\n",
    "    \n",
    "    @njit\n",
    "    def wrapped(j: np.ndarray, q: np.ndarray) -> int:\n",
    "        \"\"\"Draw sample from a non-uniform discrete distribution using alias sampling.\n",
    "\n",
    "        Parameters\n",
    "        ----------\n",
    "        j:np.ndarray,\n",
    "            The mapping to the less probable binary outcome,\n",
    "        q: np.ndarray\n",
    "            Uniform distribution over binary outcomes\n",
    "\n",
    "        Returns:\n",
    "            index:int \n",
    "                index of random sample from non-uniform discrete distribution\n",
    "        \"\"\"\n",
    "        nonlocal i, last\n",
    "        # extract a random index for the mixture\n",
    "        index = int(samples[i-1] * len(q))\n",
    "        new = samples[i]\n",
    "        i = (i+1)%samples_number\n",
    "        last = new\n",
    "        # do the Bernulli trial\n",
    "        if new < q[index]:\n",
    "            # most probable case and fastest\n",
    "            return index\n",
    "        return j[index]\n",
    "    \n",
    "    return wrapped\n",
    "    \n",
    "wrapped_alias = new_alias_draw()"
   ]
  },
  {
   "cell_type": "code",
   "execution_count": 11,
   "metadata": {},
   "outputs": [],
   "source": [
    "j = np.array([ 1,  0,  1,  2,  2,  2,  3,  6,  9,  6,  9, 10,  9, 10, 11, 11, 14,\n",
    "        18, 16, 28, 30, 30, 30, 31, 34, 18, 25, 34, 26, 37, 28, 30, 31, 37,\n",
    "        32, 37, 43, 34, 37, 44, 46, 46, 38, 42, 43, 50, 44, 50, 46, 50, 48,\n",
    "        53, 53, 50, 53, 54, 55, 54, 56])\n",
    "q = np.array([0.94942529, 1.        , 0.2679803 , 0.6909688 , 0.09688013,\n",
    "        0.67816092, 0.37339901, 0.13563218, 0.65878489, 0.97832512,\n",
    "        0.97504105, 0.80492611, 0.67816092, 0.27126437, 0.65418719,\n",
    "        0.56190476, 0.33661741, 0.        , 0.17405583, 0.01937603,\n",
    "        0.46502463, 0.93004926, 0.93004926, 0.32939245, 0.11625616,\n",
    "        0.8952381 , 0.77142857, 0.91067323, 0.37635468, 0.03875205,\n",
    "        0.67126437, 0.46666667, 0.54844007, 0.94942529, 0.32775041,\n",
    "        0.94942529, 0.13563218, 0.42134647, 0.99178982, 0.67816092,\n",
    "        0.89129721, 0.67816092, 0.73234811, 0.55041051, 0.90344828,\n",
    "        0.        , 0.96584565, 0.93004926, 0.82692939, 0.65878489,\n",
    "        0.25747126, 0.4456486 , 0.69753695, 0.78916256, 0.90213465,\n",
    "        0.77077176, 0.53070608, 0.71691297, 0.17438424])"
   ]
  },
  {
   "cell_type": "code",
   "execution_count": 12,
   "metadata": {},
   "outputs": [
    {
     "name": "stdout",
     "output_type": "stream",
     "text": [
      "437 ns ± 5.31 ns per loop (mean ± std. dev. of 7 runs, 1000000 loops each)\n"
     ]
    }
   ],
   "source": [
    "%%timeit\n",
    "alias_draw(j, q)"
   ]
  },
  {
   "cell_type": "code",
   "execution_count": 13,
   "metadata": {},
   "outputs": [
    {
     "name": "stdout",
     "output_type": "stream",
     "text": [
      "406 ns ± 5.44 ns per loop (mean ± std. dev. of 7 runs, 1000000 loops each)\n"
     ]
    }
   ],
   "source": [
    "%%timeit\n",
    "wrapped_alias(j, q)"
   ]
  },
  {
   "cell_type": "code",
   "execution_count": 14,
   "metadata": {},
   "outputs": [
    {
     "name": "stdout",
     "output_type": "stream",
     "text": [
      "7.06 µs ± 106 ns per loop (mean ± std. dev. of 7 runs, 100000 loops each)\n"
     ]
    }
   ],
   "source": [
    "%%timeit\n",
    "no_njit_alias_draw(j, q)"
   ]
  },
  {
   "cell_type": "code",
   "execution_count": null,
   "metadata": {},
   "outputs": [],
   "source": []
  }
 ],
 "metadata": {
  "kernelspec": {
   "display_name": "Python 3",
   "language": "python",
   "name": "python3"
  },
  "language_info": {
   "codemirror_mode": {
    "name": "ipython",
    "version": 3
   },
   "file_extension": ".py",
   "mimetype": "text/x-python",
   "name": "python",
   "nbconvert_exporter": "python",
   "pygments_lexer": "ipython3",
   "version": "3.7.6"
  }
 },
 "nbformat": 4,
 "nbformat_minor": 4
}
