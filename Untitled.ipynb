{
 "cells": [
  {
   "cell_type": "code",
   "execution_count": 1,
   "metadata": {},
   "outputs": [],
   "source": [
    "import pandas as pd"
   ]
  },
  {
   "cell_type": "code",
   "execution_count": 3,
   "metadata": {},
   "outputs": [
    {
     "data": {
      "text/plain": [
       "array([['g1', 'g2'],\n",
       "       ['g2', 'g3'],\n",
       "       ['g1', 'g3'],\n",
       "       ['p1', 'p2'],\n",
       "       ['p2', 'p3'],\n",
       "       ['p1', 'p3'],\n",
       "       ['g4', 'p4'],\n",
       "       ['g4', 'd2'],\n",
       "       ['d1', 'd2'],\n",
       "       ['d2', 'd3'],\n",
       "       ['g1', 'p1'],\n",
       "       ['g2', 'p1'],\n",
       "       ['g2', 'p2'],\n",
       "       ['g3', 'p3'],\n",
       "       ['g3', 'd1'],\n",
       "       ['g1', 'd3'],\n",
       "       ['d1', 'd3'],\n",
       "       ['g3', 'g4'],\n",
       "       ['g1', 'g4'],\n",
       "       ['p3', 'p4'],\n",
       "       ['p2', 'p4']], dtype=object)"
      ]
     },
     "execution_count": 3,
     "metadata": {},
     "output_type": "execute_result"
    }
   ],
   "source": [
    "pd.read_csv(\"tests/data/unweighted_small_graph.txt\", sep=\"\\t\").values"
   ]
  },
  {
   "cell_type": "code",
   "execution_count": 4,
   "metadata": {},
   "outputs": [
    {
     "data": {
      "text/plain": [
       "type"
      ]
     },
     "execution_count": 4,
     "metadata": {},
     "output_type": "execute_result"
    }
   ],
   "source": [
    "type(pd.DataFrame)"
   ]
  },
  {
   "cell_type": "code",
   "execution_count": null,
   "metadata": {},
   "outputs": [],
   "source": []
  }
 ],
 "metadata": {
  "kernelspec": {
   "display_name": "Python 3",
   "language": "python",
   "name": "python3"
  },
  "language_info": {
   "codemirror_mode": {
    "name": "ipython",
    "version": 3
   },
   "file_extension": ".py",
   "mimetype": "text/x-python",
   "name": "python",
   "nbconvert_exporter": "python",
   "pygments_lexer": "ipython3",
   "version": "3.7.6"
  }
 },
 "nbformat": 4,
 "nbformat_minor": 4
}
