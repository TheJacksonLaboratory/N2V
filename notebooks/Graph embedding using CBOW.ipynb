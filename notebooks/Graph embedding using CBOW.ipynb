{
 "cells": [
  {
   "cell_type": "markdown",
   "metadata": {},
   "source": [
    "# Graph embedding using CBOW\n",
    "[The CBOW model](https://arxiv.org/pdf/1606.04640.pdf) predicts the central word given the context words.\n",
    "\n",
    "In our implementatation, as for both the Binary SkipGram model and the SkipGram model, since the batches walks are lazily generated, the memory requirements are minimal and the method can scale to very big graphs. It can also run on graphs like Monarch (150M edges and 50M nodes) provided that you use a GPU ([or better still a TPU](https://cloud.google.com/ai-platform/training/docs/using-tpus#console)) that is able to fit an embedding model that big, but that is just related to the shear number of nodes."
   ]
  },
  {
   "cell_type": "code",
   "execution_count": 1,
   "metadata": {},
   "outputs": [],
   "source": [
    "import silence_tensorflow.auto # Import needed to avoid TensorFlow warnings and general useless infos."
   ]
  },
  {
   "cell_type": "markdown",
   "metadata": {},
   "source": [
    "## Loading the graphs\n",
    "We load the ppi graph from the repository as a weighted undirected graph.\n",
    "\n",
    "To load the graph we are using the sister package of Embiggen called [Ensmallen](https://github.com/LucaCappelletti94/ensmallen_graph). Ensmallen is a Rust library with python bindings to handle processing of graph files and preprocessing of data for quickly training embedding models.\n",
    "\n",
    "It also supports numerous utilities that can be helpful when dealing with graphs, such as ways to compute holdouts of different kinds on the graph edges."
   ]
  },
  {
   "cell_type": "code",
   "execution_count": 2,
   "metadata": {},
   "outputs": [],
   "source": [
    "from ensmallen_graph import EnsmallenGraph\n",
    "\n",
    "graph = EnsmallenGraph.from_csv(\n",
    "    edge_path=\"../data/ppi/edges.tsv\",\n",
    "    sources_column=\"subject\",\n",
    "    destinations_column=\"object\",\n",
    "    directed=False,\n",
    "    weights_column=\"weight\"\n",
    ")"
   ]
  },
  {
   "cell_type": "markdown",
   "metadata": {},
   "source": [
    "As first thing, we print a short report showing all the avalable graph details, including the number of edges, nodes, trap nodes and both the connected components and the strongly connected components."
   ]
  },
  {
   "cell_type": "code",
   "execution_count": 3,
   "metadata": {},
   "outputs": [
    {
     "data": {
      "text/plain": [
       "{'degrees_mean': '34.25941227814955',\n",
       " 'bidirectional_percentage': '1',\n",
       " 'edges_number': '588748',\n",
       " 'connected_components_number': '181',\n",
       " 'unique_edge_types_number': '0',\n",
       " 'selfloops_percentage': '0',\n",
       " 'singleton_nodes': '0',\n",
       " 'is_directed': 'false',\n",
       " 'density': '0.001993564869255138',\n",
       " 'traps_rate': '0',\n",
       " 'degrees_mode': '1',\n",
       " 'degrees_median': '11',\n",
       " 'nodes_number': '17185',\n",
       " 'strongly_connected_components_number': '181',\n",
       " 'unique_node_types_number': '0'}"
      ]
     },
     "execution_count": 3,
     "metadata": {},
     "output_type": "execute_result"
    }
   ],
   "source": [
    "graph.report()"
   ]
  },
  {
   "cell_type": "markdown",
   "metadata": {},
   "source": [
    "## Creating the training and validation partitions\n",
    "To execute the embedding of the graph with the goal of running Link Prediction on the obtained vectors (after having obtained the edges embeddings from the nodes embeddings), we need to create two partitions of the graph. One containing the training set edges, which is left connected (if the initial graph was connected) or at least with the same number of connected components are the initial graph, and one containing the validation set edges, which may not be connected.\n",
    "\n",
    "The requirement for connectivity is stated in the seminal work from [Leskovec et al.](https://cs.stanford.edu/~jure/pubs/node2vec-kdd16.pdf) but we have no proofs, currently, that actually changes performance of the embedding.\n",
    "\n",
    "#### Limitation in using connected training set\n",
    "Creating holdouts in this fashion allows us to estimate the real-world model performance only for cases when the new edges that we intend to predict are part of the existing graph components and do not ever connect separated components of the graph.\n",
    "\n",
    "### Why not simply using the complete graph in the embedding process\n",
    "If we were to use the complete graph during the embedding process, we would end up encoding the answers for the Link Prediction problem into the embedding for both the training and validation partitions, hence adding a positive bias that would inflate the performance of the models.\n",
    "\n",
    "**NB: the entire graph should be used for embeddings when the task will be a node-label prediction task, when no nodes labels are taken in consideration in any shape of form during the random walks.**\n",
    "\n",
    "### The inevitable presence of false negatives in the embedding training process\n",
    "\n",
    "In the training set of the model there will be inevitably some false negatives. These originates from the sampling of random edges as negatives.\n",
    "\n",
    "In Binary SkipGram, meaning the models that receive two words and tries to predict if the connection exists or not, this sampling is needed to produce negative examples so that the network don't overfit returning always true.\n",
    "\n",
    "In Categorical-Models, such as CBOW and non-binary SkipGram, meaning the one which either receive the context and tries to predict the central word, or receives the word and tries to predict the context, the sample is only present if they use the [Noise Contrastive Estimation (NCE)](https://www.tensorflow.org/api_docs/python/tf/nn/nce_loss) loss which, instead of computing the softmax and the categorical cross entropy, samples a random number of categories per batch and applies, to the choosen outputs, a sigmoid activation function, hence computing the logits, and then computes the binary cross-entropy for each of them. Finally the losses are summed to obtain the final loss.\n",
    "\n",
    "In this case, the problem of false negatives araise from the fact that during the computation of the NCE loss, in order to have negative examples, the function samples random words to use as wrong predictions for the given context. This of course could create false negatives if the choosen random word appears in another batch with the same context, and can be easily shown that this leads to sampling potentialy false negative edges.\n",
    "\n",
    "The only method to avoid these is to do the **embedding on the whole graph** which create a positive bias for the link-prediction.\n",
    "This bias is formed because the embedding is encoding the data by learning which nodes are close and **thus is encoding the link prediction of the validation set and invalidating the link-prediction performances**.\n",
    "\n",
    "Therefore, the only way is to accept the false negatives since in a real world application the link prediction is used as an oracle to explore new possible edges. \n",
    "\n",
    "#### Additional false positives relative to collisions with known training edges\n",
    "For the same sampling issue, there will be also collisions with the training edges. This should be a lesser problem though, as the model will be more likely to see the positive label for any given training edge that the collision, though to the strong imbalance between the number of available training edges and the complete number of edges.\n",
    "\n",
    "This imbalance, in PPI, is around 1 positive edge to 1000 negative edges.\n",
    "\n",
    "### Early stopping criterion for the embedding process\n",
    "For the early stopping criterion used in the embedding process, during the model selection (the procedure where we select the optimal $p$, $q$ and embedding size parameters, amongs others) we can use the validation partition to stop the training early (hence early stopping) when a metric representing of the quality of the embedding stops improving.\n",
    "\n",
    "Since the validation set is not connected we cannot diretly use the validation set for th early stopping, as it would not allow us to create random walks that represent the graph structure.\n",
    "\n",
    "For this reason we need to use the entire training+validation set for the early stopping. This will allow us to compute random walks that should be representative of the graph structure.\n",
    "\n",
    "The validation edges are never fed into the training model as positives, but are only used in the context of the early stopping."
   ]
  },
  {
   "cell_type": "markdown",
   "metadata": {},
   "source": [
    "### Splitting the graph into the two edge partitions\n",
    "As described above, we split the graphs into two partitions:\n",
    "\n",
    "- The training component, with the same number of components as the initial graph\n",
    "- The validation component, that may have more components than the initial graph"
   ]
  },
  {
   "cell_type": "code",
   "execution_count": 4,
   "metadata": {},
   "outputs": [],
   "source": [
    "training, validation = graph.connected_holdout(42, 0.8)"
   ]
  },
  {
   "cell_type": "markdown",
   "metadata": {},
   "source": [
    "The followings are check that are not necessary, but are offered as sanity checks:"
   ]
  },
  {
   "cell_type": "code",
   "execution_count": 5,
   "metadata": {},
   "outputs": [],
   "source": [
    "assert graph > training\n",
    "assert graph > validation\n",
    "assert (training + validation).contains(graph)\n",
    "assert graph.contains(training + validation)\n",
    "assert not training.overlaps(validation)\n",
    "assert not validation.overlaps(training)"
   ]
  },
  {
   "cell_type": "markdown",
   "metadata": {},
   "source": [
    "### Considered parameters\n",
    "We are going to use the following parameters:\n",
    "\n",
    "- **Walk lengths:** $100$ nodes.\n",
    "- **Batch size:** $2^{7} = 128$ walks per batch.\n",
    "- **Walk iterations:** $20$ iterations on the graph.\n",
    "- **Window size:** $4$ nodes, meaning $4$ on the left and $4$ on the right of the center nodes. Consider that the first *window_size* values on the left and the right of the walks will be trimmed.\n",
    "- **Return weight, inverse of $p$:** $1.0$.\n",
    "- **Explore weight, inverse of $q$:** $1.0$.\n",
    "- **Embedding size:** $100$.\n",
    "- **Negative samples:** For the porpose of the [NCE function negative samples](https://www.tensorflow.org/api_docs/python/tf/nn/nce_loss), we are going to use $10$. These are the number of negative classes to randomly sample per batch. This single sample of negative classes is evaluated for each element in the batch.\n",
    "- **Optimizer:** [Nadam](https://www.tensorflow.org/api_docs/python/tf/keras/optimizers/Nadam).\n",
    "- **Early stopping parameters:** We are going to use an Early Stopping criterion on the *validation loss*, with patience $5$ and delta $0.0001$.\n",
    "- **Epochs:** The model will be trained up to $1000$ epochs.\n",
    "- **Learning rate:** since tipically the loss function is quite convex for the embedding problem, we can use a relatively higher learning rate. We are going to us $0.1$ for this example, to get to a faster convergence: this might lead to skipping some better minima that might be identified with a lower learning rate, such as the default one which is $0.0001$."
   ]
  },
  {
   "cell_type": "markdown",
   "metadata": {},
   "source": [
    "#### Setting up the parameters"
   ]
  },
  {
   "cell_type": "code",
   "execution_count": 11,
   "metadata": {},
   "outputs": [],
   "source": [
    "walk_length=100\n",
    "batch_size=2**7\n",
    "iterations=20\n",
    "window_size=4\n",
    "p=1.0\n",
    "q=1.0\n",
    "embedding_size=100\n",
    "negatives_samples=30\n",
    "patience=5\n",
    "delta=0.0001\n",
    "epochs=1000\n",
    "learning_rate=0.1"
   ]
  },
  {
   "cell_type": "markdown",
   "metadata": {},
   "source": [
    "#### Creating the training and validation Keras sequences"
   ]
  },
  {
   "cell_type": "code",
   "execution_count": 7,
   "metadata": {},
   "outputs": [],
   "source": [
    "from embiggen import Node2VecSequence\n",
    "\n",
    "training_sequence = Node2VecSequence(\n",
    "    training,\n",
    "    length=walk_length,\n",
    "    batch_size=batch_size,\n",
    "    iterations=iterations,\n",
    "    window_size=window_size,\n",
    "    return_weight=1/p,\n",
    "    explore_weight=1/q\n",
    ")\n",
    "\n",
    "validation_sequence = Node2VecSequence(\n",
    "    graph, # Here we use the entire graph. This will only be used for the early stopping.\n",
    "    length=walk_length,\n",
    "    batch_size=batch_size,\n",
    "    iterations=iterations,\n",
    "    window_size=window_size,\n",
    "    return_weight=1/p,\n",
    "    explore_weight=1/q\n",
    ")"
   ]
  },
  {
   "cell_type": "markdown",
   "metadata": {},
   "source": [
    "## Creating the CBOW model\n",
    "We are going to setup the model to use, if available, multiple GPUs."
   ]
  },
  {
   "cell_type": "code",
   "execution_count": 13,
   "metadata": {},
   "outputs": [
    {
     "name": "stdout",
     "output_type": "stream",
     "text": [
      "Model: \"CBOW\"\n",
      "__________________________________________________________________________________________________\n",
      "Layer (type)                    Output Shape         Param #     Connected to                     \n",
      "==================================================================================================\n",
      "words_embedding (InputLayer)    [(None, 8)]          0                                            \n",
      "__________________________________________________________________________________________________\n",
      "embedding_4 (Embedding)         (None, 8, 100)       1718500     words_embedding[0][0]            \n",
      "__________________________________________________________________________________________________\n",
      "lambda_4 (Lambda)               (None, 100)          0           embedding_4[0][0]                \n",
      "__________________________________________________________________________________________________\n",
      "input_5 (InputLayer)            [(None, 1)]          0                                            \n",
      "__________________________________________________________________________________________________\n",
      "noise_contrastive_estimation_4  (None, 17185)        1735685     lambda_4[0][0]                   \n",
      "                                                                 input_5[0][0]                    \n",
      "==================================================================================================\n",
      "Total params: 3,454,185\n",
      "Trainable params: 3,454,185\n",
      "Non-trainable params: 0\n",
      "__________________________________________________________________________________________________\n"
     ]
    }
   ],
   "source": [
    "from tensorflow.distribute import MirroredStrategy\n",
    "from tensorflow.keras.optimizers import Nadam\n",
    "from embiggen import CBOW\n",
    "\n",
    "strategy = MirroredStrategy()\n",
    "with strategy.scope():\n",
    "    model = CBOW(\n",
    "        vocabulary_size=training.get_nodes_number(),\n",
    "        embedding_size=embedding_size,\n",
    "        window_size=window_size,\n",
    "        negatives_samples=negatives_samples,\n",
    "        optimizer=Nadam(learning_rate=learning_rate)\n",
    "    )\n",
    "\n",
    "model.summary()"
   ]
  },
  {
   "cell_type": "markdown",
   "metadata": {},
   "source": [
    "## Tuning the CBOW model"
   ]
  },
  {
   "cell_type": "code",
   "execution_count": 15,
   "metadata": {},
   "outputs": [
    {
     "name": "stdout",
     "output_type": "stream",
     "text": [
      "Epoch 1/1000\n",
      "135/135 [==============================] - 46s 343ms/step - loss: 123.3028 - val_loss: 100.8904\n",
      "Epoch 2/1000\n",
      "135/135 [==============================] - 45s 330ms/step - loss: 86.9395 - val_loss: 69.2245\n",
      "Epoch 3/1000\n",
      "135/135 [==============================] - 45s 330ms/step - loss: 60.4109 - val_loss: 51.8342\n",
      "Epoch 4/1000\n",
      "135/135 [==============================] - 45s 330ms/step - loss: 43.4470 - val_loss: 39.4101\n",
      "Epoch 5/1000\n",
      "135/135 [==============================] - 45s 330ms/step - loss: 34.1164 - val_loss: 31.0473\n",
      "Epoch 6/1000\n",
      "135/135 [==============================] - 45s 331ms/step - loss: 28.4625 - val_loss: 24.6451\n",
      "Epoch 7/1000\n",
      "135/135 [==============================] - 44s 329ms/step - loss: 23.5594 - val_loss: 20.1070\n",
      "Epoch 8/1000\n",
      "135/135 [==============================] - 44s 329ms/step - loss: 18.5040 - val_loss: 15.7375\n",
      "Epoch 9/1000\n",
      "135/135 [==============================] - 45s 330ms/step - loss: 15.0477 - val_loss: 13.0238\n",
      "Epoch 10/1000\n",
      "135/135 [==============================] - 45s 330ms/step - loss: 12.0247 - val_loss: 11.4060\n",
      "Epoch 11/1000\n",
      "135/135 [==============================] - 45s 331ms/step - loss: 10.5239 - val_loss: 9.2060\n",
      "Epoch 12/1000\n",
      "135/135 [==============================] - 45s 331ms/step - loss: 8.3094 - val_loss: 8.0499\n",
      "Epoch 13/1000\n",
      "135/135 [==============================] - 45s 330ms/step - loss: 8.0293 - val_loss: 8.0015\n",
      "Epoch 14/1000\n",
      "135/135 [==============================] - 45s 330ms/step - loss: 6.9075 - val_loss: 6.8949\n",
      "Epoch 15/1000\n",
      "135/135 [==============================] - 44s 330ms/step - loss: 6.3015 - val_loss: 5.2659\n",
      "Epoch 16/1000\n",
      "135/135 [==============================] - 45s 332ms/step - loss: 4.7500 - val_loss: 4.8804\n",
      "Epoch 17/1000\n",
      "135/135 [==============================] - 45s 330ms/step - loss: 4.8872 - val_loss: 3.7515\n",
      "Epoch 18/1000\n",
      "135/135 [==============================] - 45s 330ms/step - loss: 3.7178 - val_loss: 3.4290\n",
      "Epoch 19/1000\n",
      "135/135 [==============================] - 45s 330ms/step - loss: 3.5933 - val_loss: 3.0895\n",
      "Epoch 20/1000\n",
      "135/135 [==============================] - 45s 330ms/step - loss: 2.9801 - val_loss: 2.9910\n",
      "Epoch 21/1000\n",
      "135/135 [==============================] - 45s 330ms/step - loss: 2.0540 - val_loss: 2.7557\n",
      "Epoch 22/1000\n",
      "135/135 [==============================] - 44s 329ms/step - loss: 2.4425 - val_loss: 2.3766\n",
      "Epoch 23/1000\n",
      "135/135 [==============================] - 44s 329ms/step - loss: 2.5093 - val_loss: 2.2771\n",
      "Epoch 24/1000\n",
      "135/135 [==============================] - 44s 329ms/step - loss: 2.0865 - val_loss: 1.7390\n",
      "Epoch 25/1000\n",
      "135/135 [==============================] - 44s 329ms/step - loss: 1.9589 - val_loss: 1.4315\n",
      "Epoch 26/1000\n",
      "135/135 [==============================] - 44s 329ms/step - loss: 1.5235 - val_loss: 1.8127\n",
      "Epoch 27/1000\n",
      "135/135 [==============================] - 44s 328ms/step - loss: 1.1901 - val_loss: 1.5318\n",
      "Epoch 28/1000\n",
      "135/135 [==============================] - 44s 329ms/step - loss: 1.4824 - val_loss: 1.2766\n",
      "Epoch 29/1000\n",
      "135/135 [==============================] - 44s 329ms/step - loss: 1.3433 - val_loss: 1.3662\n",
      "Epoch 30/1000\n",
      "135/135 [==============================] - 45s 331ms/step - loss: 1.1053 - val_loss: 1.1798\n",
      "Epoch 31/1000\n",
      "135/135 [==============================] - 44s 329ms/step - loss: 1.0269 - val_loss: 1.1396\n",
      "Epoch 32/1000\n",
      "135/135 [==============================] - 44s 328ms/step - loss: 1.0078 - val_loss: 1.2045\n",
      "Epoch 33/1000\n",
      "135/135 [==============================] - 44s 329ms/step - loss: 1.0299 - val_loss: 1.0340\n",
      "Epoch 34/1000\n",
      "135/135 [==============================] - 44s 328ms/step - loss: 0.7496 - val_loss: 1.1523\n",
      "Epoch 35/1000\n",
      "135/135 [==============================] - 44s 328ms/step - loss: 0.9527 - val_loss: 0.8375\n",
      "Epoch 36/1000\n",
      "135/135 [==============================] - 44s 328ms/step - loss: 0.9513 - val_loss: 1.1109\n",
      "Epoch 37/1000\n",
      "135/135 [==============================] - 44s 329ms/step - loss: 0.7657 - val_loss: 0.8384\n",
      "Epoch 38/1000\n",
      "135/135 [==============================] - 44s 329ms/step - loss: 1.0381 - val_loss: 0.9779\n",
      "Epoch 39/1000\n",
      "135/135 [==============================] - 44s 329ms/step - loss: 0.7629 - val_loss: 0.9471\n",
      "Epoch 40/1000\n",
      "135/135 [==============================] - 44s 328ms/step - loss: 0.6580 - val_loss: 0.9138\n"
     ]
    }
   ],
   "source": [
    "from tensorflow.keras.callbacks import EarlyStopping\n",
    "\n",
    "history = model.fit(\n",
    "    training_sequence,\n",
    "    steps_per_epoch=training_sequence.steps_per_epoch,\n",
    "    validation_data=validation_sequence,\n",
    "    validation_steps=validation_sequence.steps_per_epoch,\n",
    "    epochs=1000,\n",
    "    callbacks=[\n",
    "        EarlyStopping(\n",
    "            \"val_loss\",\n",
    "            min_delta=delta,\n",
    "            patience=patience,\n",
    "            restore_best_weights=True\n",
    "        )\n",
    "    ]\n",
    ")"
   ]
  },
  {
   "cell_type": "markdown",
   "metadata": {},
   "source": [
    "### Saving the model weights\n",
    "We save the obtained model weights:"
   ]
  },
  {
   "cell_type": "code",
   "execution_count": 19,
   "metadata": {},
   "outputs": [],
   "source": [
    "model.save_weights(f\"{model.name}_weights.h5\")"
   ]
  },
  {
   "cell_type": "markdown",
   "metadata": {},
   "source": [
    "### Visualizing the training history\n",
    "We can visualize the performance of the model during the training process as follows:"
   ]
  },
  {
   "cell_type": "code",
   "execution_count": 21,
   "metadata": {},
   "outputs": [
    {
     "data": {
      "image/png": "[encoded data removed]",
      "text/plain": [
       "<Figure size 360x360 with 1 Axes>"
      ]
     },
     "metadata": {
      "needs_background": "light"
     },
     "output_type": "display_data"
    }
   ],
   "source": [
    "from plot_keras_history import plot_history\n",
    "\n",
    "plot_history(history)"
   ]
  },
  {
   "cell_type": "markdown",
   "metadata": {},
   "source": [
    "There may be some hickups in the plot of the history if the model is reloaded from stored weights: [this is a known Keras issue](https://github.com/keras-team/keras/issues/4875) and is not related to either the holdouts used or the model."
   ]
  },
  {
   "cell_type": "markdown",
   "metadata": {},
   "source": [
    "## Saving the obtained embeddings\n",
    "Finally we save our hard earned model embeddings. In another notebook we will show how to do link prediction on the obtained embedding."
   ]
  },
  {
   "cell_type": "code",
   "execution_count": 23,
   "metadata": {},
   "outputs": [],
   "source": [
    "import numpy as np\n",
    "\n",
    "np.save(f\"{model.name}_embedding.npy\", model.embedding)"
   ]
  }
 ],
 "metadata": {
  "kernelspec": {
   "display_name": "Python 3",
   "language": "python",
   "name": "python3"
  },
  "language_info": {
   "codemirror_mode": {
    "name": "ipython",
    "version": 3
   },
   "file_extension": ".py",
   "mimetype": "text/x-python",
   "name": "python",
   "nbconvert_exporter": "python",
   "pygments_lexer": "ipython3",
   "version": "3.7.6"
  }
 },
 "nbformat": 4,
 "nbformat_minor": 4
}
