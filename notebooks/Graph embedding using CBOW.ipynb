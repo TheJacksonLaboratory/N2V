{
 "cells": [
  {
   "cell_type": "markdown",
   "metadata": {},
   "source": [
    "# Graph embedding using CBOW\n",
    "[The CBOW model](https://arxiv.org/pdf/1606.04640.pdf) predicts the central word given the context words.\n",
    "\n",
    "In our implementatation, as for the SkipGram model, since the batches walks are lazily generated, the memory requirements are minimal and the method can scale to very big graphs. It can also run on graphs like Monarch (150M edges and 50M nodes) provided that you use a GPU ([or better still a TPU](https://cloud.google.com/ai-platform/training/docs/using-tpus#console)) that is able to fit an embedding model that big, but that is just related to the shear number of nodes."
   ]
  },
  {
   "cell_type": "code",
   "execution_count": 1,
   "metadata": {},
   "outputs": [],
   "source": [
    "from embiggen import CBOW, NodeCBOWSequence\n",
    "from ensmallen_graph import EnsmallenGraph\n",
    "\n",
    "from tensorflow.keras.callbacks import EarlyStopping\n",
    "import silence_tensorflow.auto\n",
    "import numpy as np\n",
    "from tensorflow.distribute import MirroredStrategy\n",
    "from plot_keras_history import plot_history\n",
    "from plot_keras_history.utils import chain_histories\n",
    "import os\n",
    "import pandas as pd"
   ]
  },
  {
   "cell_type": "markdown",
   "metadata": {},
   "source": [
    "## Loading the graphs\n",
    "We load the ppi graph as a weighted undirected graph."
   ]
  },
  {
   "cell_type": "code",
   "execution_count": 2,
   "metadata": {},
   "outputs": [],
   "source": [
    "graph = EnsmallenGraph.from_csv(\n",
    "    edge_path=\"../data/ppi.tsv\",\n",
    "    sources_column=\"subject\",\n",
    "    destinations_column=\"object\",\n",
    "    directed=False,\n",
    "    weights_column=\"weight\"\n",
    ")"
   ]
  },
  {
   "cell_type": "markdown",
   "metadata": {},
   "source": [
    "As first thing, we plot a short report showing all the avalable graph details, including the number of edges, nodes, trap nodes and both the connected components and the strongly connected components."
   ]
  },
  {
   "cell_type": "code",
   "execution_count": 3,
   "metadata": {},
   "outputs": [
    {
     "data": {
      "text/plain": [
       "{'traps_rate': '0',\n",
       " 'connected_components_number': '181',\n",
       " 'nodes_number': '17185',\n",
       " 'degrees_mean': '34.25941227814955',\n",
       " 'degrees_mode': '1',\n",
       " 'bidirectional_percentage': '1',\n",
       " 'singleton_nodes': '0',\n",
       " 'unique_edge_types_number': '0',\n",
       " 'selfloops_percentage': '0',\n",
       " 'strongly_connected_components_number': '181',\n",
       " 'unique_node_types_number': '0',\n",
       " 'edges_number': '588748',\n",
       " 'is_directed': 'false',\n",
       " 'density': '0.001993564869255138',\n",
       " 'degrees_median': '11'}"
      ]
     },
     "execution_count": 3,
     "metadata": {},
     "output_type": "execute_result"
    }
   ],
   "source": [
    "graph.report()"
   ]
  },
  {
   "cell_type": "markdown",
   "metadata": {},
   "source": [
    "## Creating the holdouts\n",
    "For every one of these examples, we are going to use two experimental setups.\n",
    "\n",
    "We split the graph into a training and validation components.\n",
    "\n",
    "Particularly, the training partition will have the same number of connected components as the original graph, while the validation may have more.\n",
    "\n",
    "We split the two datasets at $0.8$, as done in [Yue et al.](https://academic.oup.com/bioinformatics/article/36/4/1241/5581350).\n",
    "\n",
    "We are going to us two different experimental setups:\n",
    "\n",
    "- One, based on the [Yue et al.](https://academic.oup.com/bioinformatics/article/36/4/1241/5581350) and [Leskovec et al.](https://www.ncbi.nlm.nih.gov/pmc/articles/PMC5108654/) experimental setups, where we completely separate training negatives from validation negatives and leave the validation parts of the graphs (both positives and negatives) as \"holes\" in the graph, neither negative nor positive. This may be slighly sconnected from the real scenario, where we cannot remove from a graph part of the validation edges since they are not known. In particular, the negatives edges used in the validation have the same cardinality as the validation positive edges.\n",
    "- The second one, as close as possible to a real scenario, we will share the negative edges in both the training and validation. In particular in this scenario the validation positive edges appear as negatives during the training, as the assumption made during training with the available data is that any edge that does not appear in the available data is negative.\n",
    "\n",
    "**For the context of CBOW or GloVe, both setups are the one and the same. The difference is relevant in SkipGram embedding and LinkPrediction.**"
   ]
  },
  {
   "cell_type": "markdown",
   "metadata": {},
   "source": [
    "### Splitting the graph into the two components"
   ]
  },
  {
   "cell_type": "code",
   "execution_count": 4,
   "metadata": {},
   "outputs": [],
   "source": [
    "training, validation = graph.holdout(42, 0.8)"
   ]
  },
  {
   "cell_type": "markdown",
   "metadata": {},
   "source": [
    "### Preparing the experimental setup\n",
    "For the experimental setup, we are using walk lengths of $100$ nodes, with batch size (number of walks to be considered in each batch) of $2^{7} = 128$.\n",
    "\n",
    "We are going to use 20 walk iterations for each node.\n",
    "\n",
    "We are going to use a window size of $4$, meaning $4$ nodes on the left and right of every central node. \n",
    "\n",
    "Consider that the first *window_size* values on the left and the right of the walks will be trimmed.\n",
    "\n",
    "To generate the walks we will use the parameters $p$ and $q$ equal to $1.0$.\n",
    "\n",
    "The *embedding_size* is $100$. For the porpose of the [NCE function negative samples](https://www.tensorflow.org/api_docs/python/tf/nn/nce_loss), we are going to use $10$. These are the number of negative classes to randomly sample per batch. This single sample of negative classes is evaluated for each element in the batch.\n",
    "\n",
    "We are going to use Nadam as optimizer. We are going to use an Early Stopping criterion on the *validation loss*, with patience $5$ and delta $0.0001$.\n",
    "\n",
    "The model will be trained up to $1000$ epochs."
   ]
  },
  {
   "cell_type": "markdown",
   "metadata": {},
   "source": [
    "#### Setting up the parameters"
   ]
  },
  {
   "cell_type": "code",
   "execution_count": 5,
   "metadata": {},
   "outputs": [],
   "source": [
    "batch_size=2**7\n",
    "walk_length=100\n",
    "embedding_size=100\n",
    "iterations=20\n",
    "window_size=4\n",
    "p=1.0\n",
    "q=1.0\n",
    "negatives_samples=10\n",
    "patience=5\n",
    "delta=0.0001"
   ]
  },
  {
   "cell_type": "markdown",
   "metadata": {},
   "source": [
    "#### Creating the training and validation Keras sequences"
   ]
  },
  {
   "cell_type": "code",
   "execution_count": 6,
   "metadata": {},
   "outputs": [],
   "source": [
    "training_sequence = NodeCBOWSequence(\n",
    "    training,\n",
    "    length=walk_length,\n",
    "    batch_size=batch_size,\n",
    "    iterations=iterations,\n",
    "    window_size=window_size,\n",
    "    return_weight=1/p,\n",
    "    explore_weight=1/q\n",
    ")\n",
    "\n",
    "validation_sequence = NodeCBOWSequence(\n",
    "    graph, # Here we use the entire graph. This will only be used for the early stopping.\n",
    "    length=walk_length,\n",
    "    batch_size=batch_size,\n",
    "    iterations=iterations,\n",
    "    window_size=window_size,\n",
    "    return_weight=1/p,\n",
    "    explore_weight=1/q\n",
    ")"
   ]
  },
  {
   "cell_type": "markdown",
   "metadata": {},
   "source": [
    "## Creating the CBOW model\n",
    "We are going to setup the model to use, if available, multiple GPUs."
   ]
  },
  {
   "cell_type": "code",
   "execution_count": 7,
   "metadata": {},
   "outputs": [
    {
     "name": "stdout",
     "output_type": "stream",
     "text": [
      "Model: \"CBOW\"\n",
      "__________________________________________________________________________________________________\n",
      "Layer (type)                    Output Shape         Param #     Connected to                     \n",
      "==================================================================================================\n",
      "words_embedding (InputLayer)    [(None, 8)]          0                                            \n",
      "__________________________________________________________________________________________________\n",
      "embedding (Embedding)           (None, 8, 100)       1718500     words_embedding[0][0]            \n",
      "__________________________________________________________________________________________________\n",
      "lambda (Lambda)                 (None, 100)          0           embedding[0][0]                  \n",
      "__________________________________________________________________________________________________\n",
      "input_1 (InputLayer)            [(None, 8)]          0                                            \n",
      "__________________________________________________________________________________________________\n",
      "noise_contrastive_estimation (N (None, 17185)        1735685     lambda[0][0]                     \n",
      "                                                                 input_1[0][0]                    \n",
      "==================================================================================================\n",
      "Total params: 3,454,185\n",
      "Trainable params: 3,454,185\n",
      "Non-trainable params: 0\n",
      "__________________________________________________________________________________________________\n"
     ]
    }
   ],
   "source": [
    "strategy = MirroredStrategy()\n",
    "with strategy.scope():\n",
    "    model = CBOW(\n",
    "        vocabulary_size=training.get_nodes_number(),\n",
    "        embedding_size=embedding_size,\n",
    "        window_size=window_size,\n",
    "        negatives_samples=negatives_samples\n",
    "    )\n",
    "\n",
    "model.summary()"
   ]
  },
  {
   "cell_type": "markdown",
   "metadata": {},
   "source": [
    "#### Loading preprocessed model weights\n",
    "We can optionally load pre-processed model weights, obtained with the very same experimental setup and data, to quickly get through the training step:"
   ]
  },
  {
   "cell_type": "code",
   "execution_count": 8,
   "metadata": {},
   "outputs": [],
   "source": [
    "model_weights = f\"{model.name}_model_weights.h5\"\n",
    "\n",
    "if os.path.exists(model_weights):\n",
    "    model.load_weights(model_weights)"
   ]
  },
  {
   "cell_type": "markdown",
   "metadata": {},
   "source": [
    "If a training history is already available, we want to load it to avoid loosing informations:"
   ]
  },
  {
   "cell_type": "code",
   "execution_count": 9,
   "metadata": {},
   "outputs": [],
   "source": [
    "history = None\n",
    "training_history_path = f\"{model.name}_training_history.csv\"\n",
    "\n",
    "if os.path.exists(training_history_path):\n",
    "    history = pd.read_csv(training_history_path)"
   ]
  },
  {
   "cell_type": "markdown",
   "metadata": {},
   "source": [
    "## Tuning the CBOW model"
   ]
  },
  {
   "cell_type": "code",
   "execution_count": 10,
   "metadata": {},
   "outputs": [
    {
     "name": "stdout",
     "output_type": "stream",
     "text": [
      "Epoch 101/1000\n",
      "135/135 [==============================] - 44s 329ms/step - loss: 3.7816 - val_loss: 4.9396\n",
      "Epoch 102/1000\n",
      "135/135 [==============================] - 44s 323ms/step - loss: 5.7270 - val_loss: 5.9578\n",
      "Epoch 103/1000\n",
      "135/135 [==============================] - 44s 322ms/step - loss: 6.3321 - val_loss: 6.4355\n",
      "Epoch 104/1000\n",
      "135/135 [==============================] - 44s 323ms/step - loss: 6.1671 - val_loss: 6.1910\n",
      "Epoch 105/1000\n",
      "135/135 [==============================] - 44s 322ms/step - loss: 6.4196 - val_loss: 6.4177\n",
      "Epoch 106/1000\n",
      "135/135 [==============================] - 44s 323ms/step - loss: 6.0810 - val_loss: 6.4258\n"
     ]
    }
   ],
   "source": [
    "history = chain_histories(\n",
    "    model.fit(\n",
    "        training_sequence,\n",
    "        steps_per_epoch=training_sequence.steps_per_epoch,\n",
    "        validation_data=validation_sequence,\n",
    "        validation_steps=validation_sequence.steps_per_epoch,\n",
    "        epochs=1000,\n",
    "        initial_epoch=0 if history is None else len(history),\n",
    "        callbacks=[\n",
    "            EarlyStopping(\n",
    "                \"val_loss\",\n",
    "                min_delta=delta,\n",
    "                patience=patience\n",
    "            )\n",
    "        ]\n",
    "    ),\n",
    "    history\n",
    ")"
   ]
  },
  {
   "cell_type": "markdown",
   "metadata": {},
   "source": [
    "### Saving the model weights\n",
    "We save the obtained model weights:"
   ]
  },
  {
   "cell_type": "code",
   "execution_count": 11,
   "metadata": {},
   "outputs": [],
   "source": [
    "model.save_weights(model_weights)"
   ]
  },
  {
   "cell_type": "markdown",
   "metadata": {},
   "source": [
    "### Visualizing the training history\n",
    "We can visualize the performance of the model during the training process as follows:"
   ]
  },
  {
   "cell_type": "code",
   "execution_count": 12,
   "metadata": {},
   "outputs": [
    {
     "data": {
      "image/png": "[encoded data removed]",
      "text/plain": [
       "<Figure size 360x360 with 1 Axes>"
      ]
     },
     "metadata": {
      "needs_background": "light"
     },
     "output_type": "display_data"
    }
   ],
   "source": [
    "plot_history(history)"
   ]
  },
  {
   "cell_type": "markdown",
   "metadata": {},
   "source": [
    "We can save the training history as follows:"
   ]
  },
  {
   "cell_type": "code",
   "execution_count": 13,
   "metadata": {},
   "outputs": [],
   "source": [
    "history.to_csv(training_history_path, index=False)"
   ]
  },
  {
   "cell_type": "markdown",
   "metadata": {},
   "source": [
    "## Saving the obtained embeddings\n",
    "Finally we save our hard earned model embeddings. In another notebook we will show how to do link prediction on the obtained embedding."
   ]
  },
  {
   "cell_type": "code",
   "execution_count": 14,
   "metadata": {},
   "outputs": [],
   "source": [
    "np.save(f\"{model.name}_embedding.npy\", model.embedding)"
   ]
  }
 ],
 "metadata": {
  "kernelspec": {
   "display_name": "Python 3",
   "language": "python",
   "name": "python3"
  },
  "language_info": {
   "codemirror_mode": {
    "name": "ipython",
    "version": 3
   },
   "file_extension": ".py",
   "mimetype": "text/x-python",
   "name": "python",
   "nbconvert_exporter": "python",
   "pygments_lexer": "ipython3",
   "version": "3.7.6"
  }
 },
 "nbformat": 4,
 "nbformat_minor": 4
}
