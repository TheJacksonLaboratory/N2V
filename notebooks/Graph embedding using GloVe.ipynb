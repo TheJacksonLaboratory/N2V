{
 "cells": [
  {
   "cell_type": "markdown",
   "metadata": {},
   "source": [
    "# Graph embedding using GloVe\n",
    "[GloVe embeddings are global embeddings](https://www.aclweb.org/anthology/D14-1162.pdf_). A GloVe model tries to predict, given two elements out of the corpus vocabulary, their cooccurrence frequency.\n",
    "\n",
    "GloVe model do not scale nicely with the graph size, as the cooccurrence matrix requires to be fully rendered (clearly as a CSR) before the model is trained, hence occupying a significant memory portion on huge graphs."
   ]
  },
  {
   "cell_type": "code",
   "execution_count": 1,
   "metadata": {},
   "outputs": [],
   "source": [
    "from embiggen import GloVe\n",
    "from ensmallen_graph import EnsmallenGraph\n",
    "from tensorflow.keras.callbacks import EarlyStopping\n",
    "import silence_tensorflow.auto\n",
    "import numpy as np\n",
    "from tensorflow.distribute import MirroredStrategy\n",
    "from plot_keras_history import plot_history\n",
    "from plot_keras_history.utils import chain_histories\n",
    "import os\n",
    "import pandas as pd"
   ]
  },
  {
   "cell_type": "markdown",
   "metadata": {},
   "source": [
    "## Loading the graphs\n",
    "We load the ppi graph as a weighted undirected graph."
   ]
  },
  {
   "cell_type": "code",
   "execution_count": 6,
   "metadata": {},
   "outputs": [],
   "source": [
    "graph = EnsmallenGraph.from_csv(\n",
    "    edge_path=\"../data/ppi/edges.tsv\",\n",
    "    sources_column=\"subject\",\n",
    "    destinations_column=\"object\",\n",
    "    directed=False,\n",
    "    weights_column=\"weight\"\n",
    ")"
   ]
  },
  {
   "cell_type": "markdown",
   "metadata": {},
   "source": [
    "As first thing, we plot a short report showing all the avalable graph details, including the number of edges, nodes, trap nodes and both the connected components and the strongly connected components."
   ]
  },
  {
   "cell_type": "code",
   "execution_count": 3,
   "metadata": {},
   "outputs": [
    {
     "data": {
      "text/plain": [
       "{'selfloops_percentage': '0',\n",
       " 'unique_edge_types_number': '0',\n",
       " 'unique_node_types_number': '0',\n",
       " 'connected_components_number': '181',\n",
       " 'density': '0.001993564869255138',\n",
       " 'degrees_mean': '34.25941227814955',\n",
       " 'singleton_nodes': '0',\n",
       " 'degrees_mode': '1',\n",
       " 'is_directed': 'false',\n",
       " 'bidirectional_percentage': '1',\n",
       " 'edges_number': '588748',\n",
       " 'strongly_connected_components_number': '181',\n",
       " 'degrees_median': '11',\n",
       " 'nodes_number': '17185',\n",
       " 'traps_rate': '0'}"
      ]
     },
     "execution_count": 3,
     "metadata": {},
     "output_type": "execute_result"
    }
   ],
   "source": [
    "graph.report()"
   ]
  },
  {
   "cell_type": "markdown",
   "metadata": {},
   "source": [
    "## Creating the holdouts\n",
    "For every one of these examples, we are going to use two experimental setups.\n",
    "\n",
    "We split the graph into a training and validation components.\n",
    "\n",
    "Particularly, the training partition will have the same number of connected components as the original graph, while the validation may have more.\n",
    "\n",
    "We split the two datasets at $0.8$, as done in [Yue et al.](https://academic.oup.com/bioinformatics/article/36/4/1241/5581350).\n",
    "\n",
    "We are going to us two different experimental setups:\n",
    "\n",
    "- One, based on the [Yue et al.](https://academic.oup.com/bioinformatics/article/36/4/1241/5581350) and [Leskovec et al.](https://www.ncbi.nlm.nih.gov/pmc/articles/PMC5108654/) experimental setups, where we completely separate training negatives from validation negatives and leave the validation parts of the graphs (both positives and negatives) as \"holes\" in the graph, neither negative nor positive. This may be slighly sconnected from the real scenario, where we cannot remove from a graph part of the validation edges since they are not known. In particular, the negatives edges used in the validation have the same cardinality as the validation positive edges.\n",
    "- The second one, as close as possible to a real scenario, we will share the negative edges in both the training and validation. In particular in this scenario the validation positive edges appear as negatives during the training, as the assumption made during training with the available data is that any edge that does not appear in the available data is negative.\n",
    "\n",
    "**For the context of CBOW or GloVe, both setups are the one and the same. The difference is relevant in SkipGram embedding and LinkPrediction.**"
   ]
  },
  {
   "cell_type": "markdown",
   "metadata": {},
   "source": [
    "### Splitting the graph into the two components"
   ]
  },
  {
   "cell_type": "code",
   "execution_count": 4,
   "metadata": {},
   "outputs": [],
   "source": [
    "training, validation = graph.holdout(42, 0.8)"
   ]
  },
  {
   "cell_type": "markdown",
   "metadata": {},
   "source": [
    "The followings are check that are not necessary, but are offered as sanity checks:"
   ]
  },
  {
   "cell_type": "code",
   "execution_count": 5,
   "metadata": {},
   "outputs": [],
   "source": [
    "assert graph.contains(training + validation)\n",
    "assert (training + validation).contains(graph)\n",
    "assert not training.overlaps(validation)\n",
    "assert not validation.overlaps(training)"
   ]
  },
  {
   "cell_type": "markdown",
   "metadata": {},
   "source": [
    "### Preparing the experimental setup\n",
    "For the experimental setup, we are using walk lengths of $100$ nodes, with batch size (number of walks to be considered in each iteration) of $2^{15} = 32768$.\n",
    "\n",
    "We are going to use 20 walk iterations for each node.\n",
    "\n",
    "We are going to use a window size of $4$, meaning $4$ nodes on the left and right of every central node. \n",
    "\n",
    "Consider that the first *window_size* values on the left and the right of the walks will be trimmed.\n",
    "\n",
    "To generate the walks we will use the parameters $p$ and $q$ equal to $1.0$.\n",
    "\n",
    "The *embedding_size* is $100$. For the glove loss, we are going to use an alpha of $0.75$.\n",
    "\n",
    "We are going to use Nadam as obtimizer. We are going to use an Early Stopping criterion on the *validation loss*, with patience $5$ and delta $0.0001$.\n",
    "\n",
    "The model will be trained up to $1000$ epochs."
   ]
  },
  {
   "cell_type": "markdown",
   "metadata": {},
   "source": [
    "#### Setting up the parameters"
   ]
  },
  {
   "cell_type": "code",
   "execution_count": 5,
   "metadata": {},
   "outputs": [],
   "source": [
    "batch_size=2**15\n",
    "walk_length=100\n",
    "embedding_size=100\n",
    "iterations=20\n",
    "window_size=4\n",
    "p=1.0\n",
    "q=1.0\n",
    "patience=5\n",
    "delta=0.0001\n",
    "glove_alpha=0.75"
   ]
  },
  {
   "cell_type": "markdown",
   "metadata": {},
   "source": [
    "#### Creating the training and validation data"
   ]
  },
  {
   "cell_type": "code",
   "execution_count": 6,
   "metadata": {},
   "outputs": [],
   "source": [
    "train_words, train_contexts, train_labels = training.cooccurence_matrix(\n",
    "    walk_length,\n",
    "    window_size=window_size,\n",
    "    iterations=iterations,\n",
    "    return_weight=1/p,\n",
    "    explore_weight=1/q\n",
    ")\n",
    "\n",
    "valid_words, valid_contexts, valid_labels = graph.cooccurence_matrix(\n",
    "    walk_length,\n",
    "    window_size=window_size,\n",
    "    iterations=iterations,\n",
    "    return_weight=1/p,\n",
    "    explore_weight=1/q\n",
    ")"
   ]
  },
  {
   "cell_type": "markdown",
   "metadata": {},
   "source": [
    "## Creating the GloVe model\n",
    "We are going to setup the model to use, if available, multiple GPUs."
   ]
  },
  {
   "cell_type": "code",
   "execution_count": 7,
   "metadata": {},
   "outputs": [
    {
     "name": "stdout",
     "output_type": "stream",
     "text": [
      "Model: \"GloVe\"\n",
      "__________________________________________________________________________________________________\n",
      "Layer (type)                    Output Shape         Param #     Connected to                     \n",
      "==================================================================================================\n",
      "words_embedding (InputLayer)    [(None, 1)]          0                                            \n",
      "__________________________________________________________________________________________________\n",
      "input_1 (InputLayer)            [(None, 1)]          0                                            \n",
      "__________________________________________________________________________________________________\n",
      "embedding (Embedding)           (None, 1, 100)       1718500     words_embedding[0][0]            \n",
      "__________________________________________________________________________________________________\n",
      "embedding_1 (Embedding)         (None, 1, 100)       1718500     input_1[0][0]                    \n",
      "__________________________________________________________________________________________________\n",
      "dot (Dot)                       (None, 1, 1)         0           embedding[0][0]                  \n",
      "                                                                 embedding_1[0][0]                \n",
      "__________________________________________________________________________________________________\n",
      "embedding_2 (Embedding)         (None, 1, 1)         17185       words_embedding[0][0]            \n",
      "__________________________________________________________________________________________________\n",
      "embedding_3 (Embedding)         (None, 1, 1)         17185       input_1[0][0]                    \n",
      "__________________________________________________________________________________________________\n",
      "add (Add)                       (None, 1, 1)         0           dot[0][0]                        \n",
      "                                                                 embedding_2[0][0]                \n",
      "                                                                 embedding_3[0][0]                \n",
      "__________________________________________________________________________________________________\n",
      "flatten (Flatten)               (None, 1)            0           add[0][0]                        \n",
      "==================================================================================================\n",
      "Total params: 3,471,370\n",
      "Trainable params: 3,471,370\n",
      "Non-trainable params: 0\n",
      "__________________________________________________________________________________________________\n"
     ]
    }
   ],
   "source": [
    "strategy = MirroredStrategy()\n",
    "with strategy.scope():\n",
    "    model = GloVe(\n",
    "        vocabulary_size=training.get_nodes_number(),\n",
    "        embedding_size=embedding_size,\n",
    "        alpha=glove_alpha\n",
    "    )\n",
    "\n",
    "model.summary()"
   ]
  },
  {
   "cell_type": "markdown",
   "metadata": {},
   "source": [
    "#### Loading preprocessed model weights\n",
    "We can optionally load pre-processed model weights, obtained with the very same experimental setup and data, to quickly get through the training step:"
   ]
  },
  {
   "cell_type": "code",
   "execution_count": 8,
   "metadata": {},
   "outputs": [],
   "source": [
    "model_weights = f\"{model.name}_model_weights.h5\"\n",
    "\n",
    "if os.path.exists(model_weights):\n",
    "    model.load_weights(model_weights)"
   ]
  },
  {
   "cell_type": "markdown",
   "metadata": {},
   "source": [
    "If a training history is already available, we want to load it to avoid loosing informations:"
   ]
  },
  {
   "cell_type": "code",
   "execution_count": 9,
   "metadata": {},
   "outputs": [],
   "source": [
    "history = None\n",
    "training_history_path = f\"{model.name}_training_history.csv\"\n",
    "\n",
    "if os.path.exists(training_history_path):\n",
    "    history = pd.read_csv(training_history_path)"
   ]
  },
  {
   "cell_type": "markdown",
   "metadata": {},
   "source": [
    "## Tuning the GloVe model"
   ]
  },
  {
   "cell_type": "code",
   "execution_count": 11,
   "metadata": {},
   "outputs": [
    {
     "name": "stdout",
     "output_type": "stream",
     "text": [
      "Epoch 1/1000\n",
      "826/826 [==============================] - 17s 20ms/step - loss: 0.0377 - val_loss: 0.0155\n",
      "Epoch 2/1000\n",
      "826/826 [==============================] - 15s 18ms/step - loss: 0.0083 - val_loss: 0.0063\n",
      "Epoch 3/1000\n",
      "826/826 [==============================] - 16s 19ms/step - loss: 0.0049 - val_loss: 0.0047\n",
      "Epoch 4/1000\n",
      "826/826 [==============================] - 15s 18ms/step - loss: 0.0039 - val_loss: 0.0039\n",
      "Epoch 5/1000\n",
      "826/826 [==============================] - 15s 18ms/step - loss: 0.0033 - val_loss: 0.0034\n",
      "Epoch 6/1000\n",
      "826/826 [==============================] - 15s 18ms/step - loss: 0.0029 - val_loss: 0.0030\n",
      "Epoch 7/1000\n",
      "826/826 [==============================] - 15s 18ms/step - loss: 0.0026 - val_loss: 0.0027\n",
      "Epoch 8/1000\n",
      "826/826 [==============================] - 15s 18ms/step - loss: 0.0023 - val_loss: 0.0024\n",
      "Epoch 9/1000\n",
      "826/826 [==============================] - 15s 18ms/step - loss: 0.0021 - val_loss: 0.0022\n",
      "Epoch 10/1000\n",
      "826/826 [==============================] - 15s 18ms/step - loss: 0.0020 - val_loss: 0.0021\n",
      "Epoch 11/1000\n",
      "826/826 [==============================] - 15s 18ms/step - loss: 0.0018 - val_loss: 0.0019\n",
      "Epoch 12/1000\n",
      "826/826 [==============================] - 15s 18ms/step - loss: 0.0017 - val_loss: 0.0018\n",
      "Epoch 13/1000\n",
      "826/826 [==============================] - 15s 18ms/step - loss: 0.0016 - val_loss: 0.0017\n",
      "Epoch 14/1000\n",
      "826/826 [==============================] - 15s 18ms/step - loss: 0.0015 - val_loss: 0.0016\n",
      "Epoch 15/1000\n",
      "826/826 [==============================] - 15s 18ms/step - loss: 0.0014 - val_loss: 0.0015\n",
      "Epoch 16/1000\n",
      "826/826 [==============================] - 15s 18ms/step - loss: 0.0013 - val_loss: 0.0014\n",
      "Epoch 17/1000\n",
      "826/826 [==============================] - 15s 18ms/step - loss: 0.0012 - val_loss: 0.0014\n",
      "Epoch 18/1000\n",
      "826/826 [==============================] - 15s 18ms/step - loss: 0.0012 - val_loss: 0.0013\n",
      "Epoch 19/1000\n",
      "826/826 [==============================] - 15s 18ms/step - loss: 0.0011 - val_loss: 0.0012\n",
      "Epoch 20/1000\n",
      "826/826 [==============================] - 15s 18ms/step - loss: 0.0010 - val_loss: 0.0012\n",
      "Epoch 21/1000\n",
      "826/826 [==============================] - 15s 18ms/step - loss: 9.7533e-04 - val_loss: 0.0011\n",
      "Epoch 22/1000\n",
      "826/826 [==============================] - 15s 18ms/step - loss: 9.2466e-04 - val_loss: 0.0011\n",
      "Epoch 23/1000\n",
      "826/826 [==============================] - 15s 18ms/step - loss: 8.7813e-04 - val_loss: 0.0010\n",
      "Epoch 24/1000\n",
      "826/826 [==============================] - 15s 19ms/step - loss: 8.3534e-04 - val_loss: 0.0010\n",
      "Epoch 25/1000\n",
      "826/826 [==============================] - 15s 18ms/step - loss: 7.9587e-04 - val_loss: 9.7879e-04\n",
      "Epoch 26/1000\n",
      "826/826 [==============================] - 15s 18ms/step - loss: 7.5966e-04 - val_loss: 9.4960e-04\n",
      "Epoch 27/1000\n",
      "826/826 [==============================] - 15s 18ms/step - loss: 7.2628e-04 - val_loss: 9.2477e-04\n",
      "Epoch 28/1000\n",
      "826/826 [==============================] - 15s 18ms/step - loss: 6.9571e-04 - val_loss: 9.0174e-04\n",
      "Epoch 29/1000\n",
      "826/826 [==============================] - 15s 18ms/step - loss: 6.6755e-04 - val_loss: 8.8278e-04\n",
      "Epoch 30/1000\n",
      "826/826 [==============================] - 15s 18ms/step - loss: 6.4177e-04 - val_loss: 8.6277e-04\n",
      "Epoch 31/1000\n",
      "826/826 [==============================] - 15s 18ms/step - loss: 6.1789e-04 - val_loss: 8.4665e-04\n",
      "Epoch 32/1000\n",
      "826/826 [==============================] - 15s 18ms/step - loss: 5.9597e-04 - val_loss: 8.3052e-04\n",
      "Epoch 33/1000\n",
      "826/826 [==============================] - 15s 18ms/step - loss: 5.7574e-04 - val_loss: 8.1832e-04\n"
     ]
    }
   ],
   "source": [
    "history = chain_histories(\n",
    "    model.fit(\n",
    "        (train_words, train_contexts), train_labels,\n",
    "        validation_data=((valid_words, valid_contexts), valid_labels),\n",
    "        epochs=1000,\n",
    "        batch_size=batch_size,\n",
    "        initial_epoch=0 if history is None else len(history),\n",
    "        callbacks=[\n",
    "            EarlyStopping(\n",
    "                \"val_loss\",\n",
    "                min_delta=delta,\n",
    "                patience=patience\n",
    "            )\n",
    "        ]\n",
    "    ),\n",
    "    history\n",
    ")"
   ]
  },
  {
   "cell_type": "markdown",
   "metadata": {},
   "source": [
    "### Visualizing the training history\n",
    "We can visualize the performance of the model during the training process as follows:"
   ]
  },
  {
   "cell_type": "code",
   "execution_count": 12,
   "metadata": {},
   "outputs": [
    {
     "data": {
      "image/png": "[encoded data removed]",
      "text/plain": [
       "<Figure size 360x360 with 1 Axes>"
      ]
     },
     "metadata": {
      "needs_background": "light"
     },
     "output_type": "display_data"
    }
   ],
   "source": [
    "plot_history(history)"
   ]
  },
  {
   "cell_type": "markdown",
   "metadata": {},
   "source": [
    "There may be some hickups in the plot of the history if the model is reloaded from stored weights: [this is a known Keras issue](https://github.com/keras-team/keras/issues/4875) and is not related to either the holdouts used or the model."
   ]
  },
  {
   "cell_type": "markdown",
   "metadata": {},
   "source": [
    "We can save the training history as follows:"
   ]
  },
  {
   "cell_type": "code",
   "execution_count": 13,
   "metadata": {},
   "outputs": [],
   "source": [
    "history.to_csv(training_history_path, index=False)"
   ]
  },
  {
   "cell_type": "markdown",
   "metadata": {},
   "source": [
    "## Saving the obtained embeddings\n",
    "Finally we save our hard earned model embeddings. In another notebook we will show how to do link prediction on the obtained embedding."
   ]
  },
  {
   "cell_type": "code",
   "execution_count": 14,
   "metadata": {},
   "outputs": [],
   "source": [
    "np.save(f\"{model.name}_embedding.npy\", model.embedding)"
   ]
  }
 ],
 "metadata": {
  "kernelspec": {
   "display_name": "Python 3",
   "language": "python",
   "name": "python3"
  },
  "language_info": {
   "codemirror_mode": {
    "name": "ipython",
    "version": 3
   },
   "file_extension": ".py",
   "mimetype": "text/x-python",
   "name": "python",
   "nbconvert_exporter": "python",
   "pygments_lexer": "ipython3",
   "version": "3.7.6"
  }
 },
 "nbformat": 4,
 "nbformat_minor": 4
}
