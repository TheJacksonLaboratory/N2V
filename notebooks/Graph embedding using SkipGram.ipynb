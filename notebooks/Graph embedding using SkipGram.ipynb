{
 "cells": [
  {
   "cell_type": "markdown",
   "metadata": {},
   "source": [
    "# Graph embedding using SkipGram\n",
    "The SkipGram model predicts wethever two values extracted from the available vocabulary are in the same context window or not.\n",
    "\n",
    "In our implementatation, as for the CBOW model, since the batches walks are lazily generated, the memory requirements are minimal and the method can scale to very big graphs. It can also run on graphs like Monarch (150M edges and 50M nodes) provided that you use a GPU ([or better still a TPU](https://cloud.google.com/ai-platform/training/docs/using-tpus#console)) that is able to fit an embedding model that big, but that is just related to the shear number of nodes."
   ]
  },
  {
   "cell_type": "code",
   "execution_count": 1,
   "metadata": {},
   "outputs": [],
   "source": [
    "from embiggen import SkipGram, NodeSkipGramSequence\n",
    "from ensmallen_graph import EnsmallenGraph\n",
    "\n",
    "from tensorflow.keras.callbacks import EarlyStopping\n",
    "import silence_tensorflow.auto\n",
    "import numpy as np\n",
    "from tensorflow.distribute import MirroredStrategy\n",
    "from plot_keras_history import plot_history\n",
    "from plot_keras_history.utils import chain_histories\n",
    "import os\n",
    "import pandas as pd"
   ]
  },
  {
   "cell_type": "markdown",
   "metadata": {},
   "source": [
    "## Loading the graphs\n",
    "We load the ppi graph as a weighted undirected graph."
   ]
  },
  {
   "cell_type": "code",
   "execution_count": 2,
   "metadata": {},
   "outputs": [],
   "source": [
    "graph = EnsmallenGraph.from_csv(\n",
    "    edge_path=\"../data/ppi.tsv\",\n",
    "    sources_column=\"subject\",\n",
    "    destinations_column=\"object\",\n",
    "    directed=False,\n",
    "    weights_column=\"weight\"\n",
    ")"
   ]
  },
  {
   "cell_type": "markdown",
   "metadata": {},
   "source": [
    "As first thing, we plot a short report showing all the avalable graph details, including the number of edges, nodes, trap nodes and both the connected components and the strongly connected components."
   ]
  },
  {
   "cell_type": "code",
   "execution_count": 3,
   "metadata": {},
   "outputs": [
    {
     "data": {
      "text/plain": [
       "{'density': '0.001993564869255138',\n",
       " 'degrees_mean': '34.25941227814955',\n",
       " 'unique_node_types_number': '0',\n",
       " 'nodes_number': '17185',\n",
       " 'degrees_mode': '1',\n",
       " 'unique_edge_types_number': '0',\n",
       " 'is_directed': 'false',\n",
       " 'selfloops_percentage': '0',\n",
       " 'degrees_median': '11',\n",
       " 'singleton_nodes': '0',\n",
       " 'bidirectional_percentage': '1',\n",
       " 'connected_components_number': '181',\n",
       " 'strongly_connected_components_number': '181',\n",
       " 'traps_rate': '0',\n",
       " 'edges_number': '588748'}"
      ]
     },
     "execution_count": 3,
     "metadata": {},
     "output_type": "execute_result"
    }
   ],
   "source": [
    "graph.report()"
   ]
  },
  {
   "cell_type": "markdown",
   "metadata": {},
   "source": [
    "## Creating the holdouts\n",
    "For every one of these examples, we are going to use two experimental setups.\n",
    "\n",
    "We split the graph into a training and validation components.\n",
    "\n",
    "Particularly, the training partition will have the same number of connected components as the original graph, while the validation may have more.\n",
    "\n",
    "We split the two datasets at $0.8$, as done in [Yue et al.](https://academic.oup.com/bioinformatics/article/36/4/1241/5581350).\n",
    "\n",
    "We are going to us two different experimental setups:\n",
    "\n",
    "- One, based on the [Yue et al.](https://academic.oup.com/bioinformatics/article/36/4/1241/5581350) and [Leskovec et al.](https://www.ncbi.nlm.nih.gov/pmc/articles/PMC5108654/) experimental setups, where we completely separate training negatives from validation negatives and leave the validation parts of the graphs (both positives and negatives) as \"holes\" in the graph, neither negative nor positive. This may be slighly sconnected from the real scenario, where we cannot remove from a graph part of the validation edges since they are not known. In particular, the negatives edges used in the validation have the same cardinality as the validation positive edges.\n",
    "- The second one, as close as possible to a real scenario, we will share the negative edges in both the training and validation. In particular in this scenario the validation positive edges appear as negatives during the training, as the assumption made during training with the available data is that any edge that does not appear in the available data is negative.\n",
    "\n",
    "**For the context of CBOW or GloVe, both setups are the one and the same. The difference is relevant in SkipGram embedding and LinkPrediction.**"
   ]
  },
  {
   "cell_type": "markdown",
   "metadata": {},
   "source": [
    "### Splitting the graph into the two components"
   ]
  },
  {
   "cell_type": "code",
   "execution_count": 4,
   "metadata": {},
   "outputs": [],
   "source": [
    "training, validation = graph.holdout(42, 0.8)"
   ]
  },
  {
   "cell_type": "markdown",
   "metadata": {},
   "source": [
    "### Preparing the two experimental setups\n",
    "For both the experimental setups, we are using walk lengths of $100$ nodes, with batch size (number of walks to be considered in each batch) of $2^{7} = 128$.\n",
    "\n",
    "We are going to use 20 walk iterations for each node.\n",
    "\n",
    "We are going to use a window size of $4$, meaning $4$ nodes on the left and right of every central node. \n",
    "\n",
    "Consider that the first *window_size* values on the left and the right of the walks will be trimmed.\n",
    "\n",
    "To generate the walks we will use the parameters $p$ and $q$ equal to $1.0$.\n",
    "\n",
    "The *embedding_size* is $100$. We are going to use as positive/negative umbalance $7.0$: this means that we will target to have 7 negative labels for each positive label.\n",
    "\n",
    "We are going to use Nadam as optimizer. We are going to use an Early Stopping criterion on the *validation loss*, with patience $5$ and delta $0.0001$.\n",
    "\n",
    "The model will be trained up to $1000$ epochs."
   ]
  },
  {
   "cell_type": "markdown",
   "metadata": {},
   "source": [
    "#### Setting up the parameters"
   ]
  },
  {
   "cell_type": "code",
   "execution_count": 5,
   "metadata": {},
   "outputs": [],
   "source": [
    "batch_size=2**7\n",
    "walk_length=100\n",
    "embedding_size=100\n",
    "iterations=20\n",
    "window_size=4\n",
    "p=1.0\n",
    "q=1.0\n",
    "positive_negative_umbalance=7.0\n",
    "patience=5\n",
    "delta=0.0001"
   ]
  },
  {
   "cell_type": "markdown",
   "metadata": {},
   "source": [
    "#### Creating the training and validation Keras sequences for the Leskovec-like experimental setup\n",
    "Since in SkipGram it is relevant which of the two experimental setups are used, first we retrieve the negatives partition.\n",
    "\n",
    "The negative validation will contain the same number of edges as the positive validation. In particular **we won't allow self-loops** as no positive edge is a self-loop in PPI, hence it may be easier to distinguish."
   ]
  },
  {
   "cell_type": "code",
   "execution_count": 6,
   "metadata": {},
   "outputs": [],
   "source": [
    "validation_negatives = graph.sample_negatives(\n",
    "    seed=42,\n",
    "    negatives_number=validation.get_edges_number(),\n",
    "    allow_selfloops=False\n",
    ")"
   ]
  },
  {
   "cell_type": "markdown",
   "metadata": {},
   "source": [
    "Then we compose the two graphs, so to be able to specify the set of edges to be avoided in the Leskovec experimental setup."
   ]
  },
  {
   "cell_type": "code",
   "execution_count": 7,
   "metadata": {},
   "outputs": [],
   "source": [
    "complete_validation = validation_negatives + validation"
   ]
  },
  {
   "cell_type": "markdown",
   "metadata": {},
   "source": [
    "#### Creating the training and validation Keras sequences for our new experimental setup\n",
    "In our new experimental setup we simple treat the validation positive edges as negatives during training, since in a real word scenario, when you have a graph and want to predict new positive edges, you don't have the luxury to remove the positive unknown edges from the negatives set.\n",
    "\n",
    "Additionally, there is no negatives partition strictly for the validation set, as you would do for a real world scenario, where the negative edges are just defined as the edges that do not exist in the graph available to you. We expect that this will lead to higher AUPRC values but lower AUROC values, as during the training the model can access all the negative edges, but some of them will be false negatives since they actually are positive validation edges."
   ]
  },
  {
   "cell_type": "markdown",
   "metadata": {},
   "source": [
    "## Tuning the SkipGram model\n",
    "\n",
    "We are going to setup the model to use, if available, multiple GPUs."
   ]
  },
  {
   "cell_type": "code",
   "execution_count": 15,
   "metadata": {},
   "outputs": [],
   "source": [
    "def execute_skipgrams_training(\n",
    "    experimental_setup:str,\n",
    "    graph_to_avoid:EnsmallenGraph=None\n",
    "):\n",
    "    strategy = MirroredStrategy()\n",
    "    with strategy.scope():\n",
    "        model = SkipGram(\n",
    "            vocabulary_size=training.get_nodes_number(),\n",
    "            embedding_size=embedding_size\n",
    "        )\n",
    "\n",
    "    model.summary()\n",
    "    \n",
    "    training_sequence = NodeSkipGramSequence(\n",
    "        training,\n",
    "        length=walk_length,\n",
    "        batch_size=batch_size,\n",
    "        negative_samples=positive_negative_umbalance,\n",
    "        graph_to_avoid=graph_to_avoid,\n",
    "        iterations=iterations,\n",
    "        window_size=window_size,\n",
    "        return_weight=1/p,\n",
    "        explore_weight=1/q\n",
    "    )\n",
    "\n",
    "    validation_sequence = NodeSkipGramSequence(\n",
    "        graph, # Here we use the entire graph. This will only be used for the early stopping.\n",
    "        length=walk_length,\n",
    "        batch_size=batch_size,\n",
    "        negative_samples=positive_negative_umbalance,\n",
    "        iterations=iterations,\n",
    "        window_size=window_size,\n",
    "        return_weight=1/p,\n",
    "        explore_weight=1/q\n",
    "    )\n",
    "    \n",
    "    model_weights = f\"{model.name}_model_{experimental_setup}_weights.h5\"\n",
    "\n",
    "    if os.path.exists(model_weights):\n",
    "        model.load_weights(model_weights)\n",
    "    \n",
    "    history = None\n",
    "    training_history_path = f\"{model.name}_training_{experimental_setup}_history.csv\"\n",
    "\n",
    "    if os.path.exists(training_history_path):\n",
    "        history = pd.read_csv(training_history_path)\n",
    "        \n",
    "    history = chain_histories(\n",
    "        model.fit(\n",
    "            training_sequence,\n",
    "            steps_per_epoch=training_sequence.steps_per_epoch,\n",
    "            validation_data=validation_sequence,\n",
    "            validation_steps=validation_sequence.steps_per_epoch,\n",
    "            epochs=1000,\n",
    "            initial_epoch=0 if history is None else len(history),\n",
    "            callbacks=[\n",
    "                EarlyStopping(\n",
    "                    \"val_loss\",\n",
    "                    min_delta=delta,\n",
    "                    patience=patience\n",
    "                )\n",
    "            ]\n",
    "        ),\n",
    "        history\n",
    "    )\n",
    "    \n",
    "    model.save_weights(model_weights)\n",
    "    plot_history(history)\n",
    "    history.to_csv(training_history_path, index=False)\n",
    "    np.save(f\"{model.name}_{experimental_setup}_embedding.npy\", model.embedding)"
   ]
  },
  {
   "cell_type": "markdown",
   "metadata": {},
   "source": [
    "### Training using the leskovec experimental setup"
   ]
  },
  {
   "cell_type": "code",
   "execution_count": 11,
   "metadata": {},
   "outputs": [
    {
     "name": "stdout",
     "output_type": "stream",
     "text": [
      "Model: \"SkipGram\"\n",
      "__________________________________________________________________________________________________\n",
      "Layer (type)                    Output Shape         Param #     Connected to                     \n",
      "==================================================================================================\n",
      "words_embedding (InputLayer)    [(None, 1)]          0                                            \n",
      "__________________________________________________________________________________________________\n",
      "context (InputLayer)            [(None, 1)]          0                                            \n",
      "__________________________________________________________________________________________________\n",
      "embedding (Embedding)           (None, 1, 100)       1718500     words_embedding[0][0]            \n",
      "__________________________________________________________________________________________________\n",
      "embedding_1 (Embedding)         (None, 1, 100)       1718500     context[0][0]                    \n",
      "__________________________________________________________________________________________________\n",
      "dot (Dot)                       (None, 1, 1)         0           embedding[0][0]                  \n",
      "                                                                 embedding_1[0][0]                \n",
      "__________________________________________________________________________________________________\n",
      "flatten (Flatten)               (None, 1)            0           dot[0][0]                        \n",
      "__________________________________________________________________________________________________\n",
      "dense (Dense)                   (None, 1)            2           flatten[0][0]                    \n",
      "==================================================================================================\n",
      "Total params: 3,437,002\n",
      "Trainable params: 3,437,002\n",
      "Non-trainable params: 0\n",
      "__________________________________________________________________________________________________\n",
      "Epoch 1/1000\n",
      "135/135 [==============================] - 102s 758ms/step - recall: 0.9719 - auprc: 0.9548 - precision: 0.9615 - loss: 0.4945 - auroc: 0.4498 - val_recall: 1.0000 - val_auprc: 0.9428 - val_precision: 0.9539 - val_loss: 0.2620 - val_auroc: 0.3954\n",
      "Epoch 2/1000\n",
      "135/135 [==============================] - 99s 735ms/step - recall: 1.0000 - auprc: 0.9651 - precision: 0.9616 - loss: 0.2054 - auroc: 0.5040 - val_recall: 1.0000 - val_auprc: 0.9657 - val_precision: 0.9539 - val_loss: 0.2052 - val_auroc: 0.5845\n",
      "Epoch 3/1000\n",
      "135/135 [==============================] - 98s 728ms/step - recall: 1.0000 - auprc: 0.9747 - precision: 0.9616 - loss: 0.1788 - auroc: 0.6171 - val_recall: 1.0000 - val_auprc: 0.9720 - val_precision: 0.9539 - val_loss: 0.1951 - val_auroc: 0.6417\n",
      "Epoch 4/1000\n",
      "135/135 [==============================] - 98s 729ms/step - recall: 1.0000 - auprc: 0.9782 - precision: 0.9616 - loss: 0.1713 - auroc: 0.6572 - val_recall: 1.0000 - val_auprc: 0.9748 - val_precision: 0.9539 - val_loss: 0.1900 - val_auroc: 0.6674\n",
      "Epoch 5/1000\n",
      "135/135 [==============================] - 98s 726ms/step - recall: 1.0000 - auprc: 0.9800 - precision: 0.9616 - loss: 0.1668 - auroc: 0.6794 - val_recall: 1.0000 - val_auprc: 0.9765 - val_precision: 0.9539 - val_loss: 0.1863 - val_auroc: 0.6846\n",
      "Epoch 6/1000\n",
      "135/135 [==============================] - 98s 726ms/step - recall: 1.0000 - auprc: 0.9813 - precision: 0.9616 - loss: 0.1632 - auroc: 0.6963 - val_recall: 1.0000 - val_auprc: 0.9778 - val_precision: 0.9539 - val_loss: 0.1830 - val_auroc: 0.6990\n",
      "Epoch 7/1000\n",
      "135/135 [==============================] - 98s 727ms/step - recall: 1.0000 - auprc: 0.9825 - precision: 0.9616 - loss: 0.1600 - auroc: 0.7111 - val_recall: 1.0000 - val_auprc: 0.9789 - val_precision: 0.9539 - val_loss: 0.1802 - val_auroc: 0.7117\n",
      "Epoch 8/1000\n",
      "135/135 [==============================] - 98s 726ms/step - recall: 0.9999 - auprc: 0.9835 - precision: 0.9617 - loss: 0.1570 - auroc: 0.7246 - val_recall: 0.9999 - val_auprc: 0.9801 - val_precision: 0.9540 - val_loss: 0.1771 - val_auroc: 0.7237\n",
      "Epoch 9/1000\n",
      "135/135 [==============================] - 98s 727ms/step - recall: 0.9999 - auprc: 0.9844 - precision: 0.9617 - loss: 0.1541 - auroc: 0.7372 - val_recall: 0.9999 - val_auprc: 0.9811 - val_precision: 0.9539 - val_loss: 0.1745 - val_auroc: 0.7346\n",
      "Epoch 10/1000\n",
      "135/135 [==============================] - 98s 726ms/step - recall: 0.9999 - auprc: 0.9853 - precision: 0.9617 - loss: 0.1513 - auroc: 0.7489 - val_recall: 0.9999 - val_auprc: 0.9820 - val_precision: 0.9539 - val_loss: 0.1719 - val_auroc: 0.7443\n",
      "Epoch 11/1000\n",
      "135/135 [==============================] - 98s 726ms/step - recall: 0.9999 - auprc: 0.9862 - precision: 0.9616 - loss: 0.1488 - auroc: 0.7594 - val_recall: 0.9999 - val_auprc: 0.9830 - val_precision: 0.9539 - val_loss: 0.1695 - val_auroc: 0.7534\n",
      "Epoch 12/1000\n",
      "135/135 [==============================] - 98s 726ms/step - recall: 0.9999 - auprc: 0.9870 - precision: 0.9617 - loss: 0.1464 - auroc: 0.7691 - val_recall: 0.9999 - val_auprc: 0.9837 - val_precision: 0.9539 - val_loss: 0.1675 - val_auroc: 0.7611\n",
      "Epoch 13/1000\n",
      "135/135 [==============================] - 98s 722ms/step - recall: 0.9999 - auprc: 0.9876 - precision: 0.9616 - loss: 0.1442 - auroc: 0.7777 - val_recall: 0.9999 - val_auprc: 0.9844 - val_precision: 0.9540 - val_loss: 0.1656 - val_auroc: 0.7682\n",
      "Epoch 14/1000\n",
      "135/135 [==============================] - 98s 723ms/step - recall: 0.9999 - auprc: 0.9882 - precision: 0.9616 - loss: 0.1423 - auroc: 0.7856 - val_recall: 0.9999 - val_auprc: 0.9850 - val_precision: 0.9539 - val_loss: 0.1641 - val_auroc: 0.7748\n",
      "Epoch 15/1000\n",
      "135/135 [==============================] - 98s 723ms/step - recall: 0.9999 - auprc: 0.9888 - precision: 0.9617 - loss: 0.1405 - auroc: 0.7934 - val_recall: 0.9999 - val_auprc: 0.9856 - val_precision: 0.9539 - val_loss: 0.1627 - val_auroc: 0.7808\n",
      "Epoch 16/1000\n",
      "135/135 [==============================] - 98s 723ms/step - recall: 0.9999 - auprc: 0.9894 - precision: 0.9617 - loss: 0.1390 - auroc: 0.8007 - val_recall: 0.9999 - val_auprc: 0.9861 - val_precision: 0.9540 - val_loss: 0.1615 - val_auroc: 0.7869\n",
      "Epoch 17/1000\n",
      "135/135 [==============================] - 98s 726ms/step - recall: 0.9999 - auprc: 0.9899 - precision: 0.9617 - loss: 0.1377 - auroc: 0.8078 - val_recall: 0.9999 - val_auprc: 0.9866 - val_precision: 0.9540 - val_loss: 0.1605 - val_auroc: 0.7929\n",
      "Epoch 18/1000\n",
      "135/135 [==============================] - 97s 721ms/step - recall: 0.9999 - auprc: 0.9903 - precision: 0.9617 - loss: 0.1366 - auroc: 0.8148 - val_recall: 0.9999 - val_auprc: 0.9870 - val_precision: 0.9540 - val_loss: 0.1597 - val_auroc: 0.7982\n",
      "Epoch 19/1000\n",
      "135/135 [==============================] - 98s 722ms/step - recall: 0.9999 - auprc: 0.9908 - precision: 0.9617 - loss: 0.1356 - auroc: 0.8215 - val_recall: 0.9999 - val_auprc: 0.9874 - val_precision: 0.9540 - val_loss: 0.1589 - val_auroc: 0.8029\n",
      "Epoch 20/1000\n",
      "135/135 [==============================] - 97s 721ms/step - recall: 0.9999 - auprc: 0.9912 - precision: 0.9617 - loss: 0.1346 - auroc: 0.8270 - val_recall: 0.9999 - val_auprc: 0.9877 - val_precision: 0.9540 - val_loss: 0.1583 - val_auroc: 0.8065\n",
      "Epoch 21/1000\n",
      "135/135 [==============================] - 97s 720ms/step - recall: 0.9999 - auprc: 0.9915 - precision: 0.9617 - loss: 0.1337 - auroc: 0.8316 - val_recall: 0.9999 - val_auprc: 0.9879 - val_precision: 0.9540 - val_loss: 0.1578 - val_auroc: 0.8093\n",
      "Epoch 22/1000\n",
      "135/135 [==============================] - 97s 720ms/step - recall: 0.9999 - auprc: 0.9918 - precision: 0.9617 - loss: 0.1330 - auroc: 0.8353 - val_recall: 0.9999 - val_auprc: 0.9881 - val_precision: 0.9540 - val_loss: 0.1573 - val_auroc: 0.8117\n",
      "Epoch 23/1000\n",
      "135/135 [==============================] - 97s 720ms/step - recall: 0.9999 - auprc: 0.9920 - precision: 0.9617 - loss: 0.1323 - auroc: 0.8386 - val_recall: 0.9999 - val_auprc: 0.9883 - val_precision: 0.9540 - val_loss: 0.1569 - val_auroc: 0.8134\n",
      "Epoch 24/1000\n",
      "135/135 [==============================] - 97s 720ms/step - recall: 0.9999 - auprc: 0.9922 - precision: 0.9617 - loss: 0.1318 - auroc: 0.8410 - val_recall: 0.9998 - val_auprc: 0.9884 - val_precision: 0.9540 - val_loss: 0.1568 - val_auroc: 0.8148\n"
     ]
    },
    {
     "name": "stdout",
     "output_type": "stream",
     "text": [
      "Epoch 25/1000\n",
      "135/135 [==============================] - 97s 719ms/step - recall: 0.9999 - auprc: 0.9924 - precision: 0.9617 - loss: 0.1311 - auroc: 0.8435 - val_recall: 0.9998 - val_auprc: 0.9885 - val_precision: 0.9540 - val_loss: 0.1566 - val_auroc: 0.8158\n",
      "Epoch 26/1000\n",
      "135/135 [==============================] - 98s 723ms/step - recall: 0.9999 - auprc: 0.9925 - precision: 0.9617 - loss: 0.1307 - auroc: 0.8452 - val_recall: 0.9998 - val_auprc: 0.9886 - val_precision: 0.9540 - val_loss: 0.1563 - val_auroc: 0.8170\n",
      "Epoch 27/1000\n",
      "135/135 [==============================] - 97s 718ms/step - recall: 0.9999 - auprc: 0.9926 - precision: 0.9617 - loss: 0.1303 - auroc: 0.8468 - val_recall: 0.9998 - val_auprc: 0.9886 - val_precision: 0.9540 - val_loss: 0.1561 - val_auroc: 0.8175\n",
      "Epoch 28/1000\n",
      "135/135 [==============================] - 97s 719ms/step - recall: 0.9999 - auprc: 0.9928 - precision: 0.9617 - loss: 0.1298 - auroc: 0.8484 - val_recall: 0.9998 - val_auprc: 0.9886 - val_precision: 0.9540 - val_loss: 0.1561 - val_auroc: 0.8181\n",
      "Epoch 29/1000\n",
      "135/135 [==============================] - 98s 724ms/step - recall: 0.9999 - auprc: 0.9928 - precision: 0.9617 - loss: 0.1295 - auroc: 0.8496 - val_recall: 0.9998 - val_auprc: 0.9887 - val_precision: 0.9540 - val_loss: 0.1560 - val_auroc: 0.8184\n",
      "Epoch 30/1000\n",
      "135/135 [==============================] - 97s 720ms/step - recall: 0.9999 - auprc: 0.9929 - precision: 0.9617 - loss: 0.1291 - auroc: 0.8506 - val_recall: 0.9998 - val_auprc: 0.9887 - val_precision: 0.9540 - val_loss: 0.1560 - val_auroc: 0.8187\n",
      "Epoch 31/1000\n",
      "135/135 [==============================] - 97s 720ms/step - recall: 0.9999 - auprc: 0.9930 - precision: 0.9617 - loss: 0.1287 - auroc: 0.8516 - val_recall: 0.9997 - val_auprc: 0.9887 - val_precision: 0.9540 - val_loss: 0.1561 - val_auroc: 0.8189\n",
      "Epoch 32/1000\n",
      "135/135 [==============================] - 97s 719ms/step - recall: 0.9999 - auprc: 0.9931 - precision: 0.9617 - loss: 0.1285 - auroc: 0.8526 - val_recall: 0.9997 - val_auprc: 0.9887 - val_precision: 0.9540 - val_loss: 0.1561 - val_auroc: 0.8190\n",
      "Epoch 33/1000\n",
      "135/135 [==============================] - 97s 718ms/step - recall: 0.9999 - auprc: 0.9931 - precision: 0.9617 - loss: 0.1283 - auroc: 0.8532 - val_recall: 0.9997 - val_auprc: 0.9886 - val_precision: 0.9540 - val_loss: 0.1562 - val_auroc: 0.8189\n",
      "Epoch 34/1000\n",
      "135/135 [==============================] - 97s 721ms/step - recall: 0.9999 - auprc: 0.9932 - precision: 0.9617 - loss: 0.1280 - auroc: 0.8540 - val_recall: 0.9997 - val_auprc: 0.9886 - val_precision: 0.9540 - val_loss: 0.1563 - val_auroc: 0.8189\n"
     ]
    },
    {
     "data": {
      "image/png": "[encoded data removed]",
      "text/plain": [
       "<Figure size 1440x720 with 8 Axes>"
      ]
     },
     "metadata": {
      "needs_background": "light"
     },
     "output_type": "display_data"
    }
   ],
   "source": [
    "execute_skipgrams_training(\"leskovec\", graph_to_avoid=complete_validation)"
   ]
  },
  {
   "cell_type": "markdown",
   "metadata": {},
   "source": [
    "### Training using the new experimental setup"
   ]
  },
  {
   "cell_type": "code",
   "execution_count": 18,
   "metadata": {},
   "outputs": [
    {
     "name": "stdout",
     "output_type": "stream",
     "text": [
      "Model: \"SkipGram\"\n",
      "__________________________________________________________________________________________________\n",
      "Layer (type)                    Output Shape         Param #     Connected to                     \n",
      "==================================================================================================\n",
      "words_embedding (InputLayer)    [(None, 1)]          0                                            \n",
      "__________________________________________________________________________________________________\n",
      "context (InputLayer)            [(None, 1)]          0                                            \n",
      "__________________________________________________________________________________________________\n",
      "embedding_6 (Embedding)         (None, 1, 100)       1718500     words_embedding[0][0]            \n",
      "__________________________________________________________________________________________________\n",
      "embedding_7 (Embedding)         (None, 1, 100)       1718500     context[0][0]                    \n",
      "__________________________________________________________________________________________________\n",
      "dot_3 (Dot)                     (None, 1, 1)         0           embedding_6[0][0]                \n",
      "                                                                 embedding_7[0][0]                \n",
      "__________________________________________________________________________________________________\n",
      "flatten_3 (Flatten)             (None, 1)            0           dot_3[0][0]                      \n",
      "__________________________________________________________________________________________________\n",
      "dense_3 (Dense)                 (None, 1)            2           flatten_3[0][0]                  \n",
      "==================================================================================================\n",
      "Total params: 3,437,002\n",
      "Trainable params: 3,437,002\n",
      "Non-trainable params: 0\n",
      "__________________________________________________________________________________________________\n",
      "Epoch 1/1000\n",
      " 79/135 [================>.............] - ETA: 33s - auprc: 0.9557 - recall_3: 0.9647 - loss: 0.6338 - auroc: 0.4539 - precision_3: 0.9632"
     ]
    },
    {
     "ename": "KeyboardInterrupt",
     "evalue": "",
     "output_type": "error",
     "traceback": [
      "\u001b[0;31m---------------------------------------------------------------------------\u001b[0m",
      "\u001b[0;31mKeyboardInterrupt\u001b[0m                         Traceback (most recent call last)",
      "\u001b[0;32m<ipython-input-18-0a1294815030>\u001b[0m in \u001b[0;36m<module>\u001b[0;34m\u001b[0m\n\u001b[0;32m----> 1\u001b[0;31m \u001b[0mexecute_skipgrams_training\u001b[0m\u001b[0;34m(\u001b[0m\u001b[0;34m\"new\"\u001b[0m\u001b[0;34m)\u001b[0m\u001b[0;34m\u001b[0m\u001b[0;34m\u001b[0m\u001b[0m\n\u001b[0m",
      "\u001b[0;32m<ipython-input-15-12cb197a2d55>\u001b[0m in \u001b[0;36mexecute_skipgrams_training\u001b[0;34m(experimental_setup, graph_to_avoid)\u001b[0m\n\u001b[1;32m     58\u001b[0m                     \u001b[0;34m\"val_loss\"\u001b[0m\u001b[0;34m,\u001b[0m\u001b[0;34m\u001b[0m\u001b[0;34m\u001b[0m\u001b[0m\n\u001b[1;32m     59\u001b[0m                     \u001b[0mmin_delta\u001b[0m\u001b[0;34m=\u001b[0m\u001b[0mdelta\u001b[0m\u001b[0;34m,\u001b[0m\u001b[0;34m\u001b[0m\u001b[0;34m\u001b[0m\u001b[0m\n\u001b[0;32m---> 60\u001b[0;31m                     \u001b[0mpatience\u001b[0m\u001b[0;34m=\u001b[0m\u001b[0mpatience\u001b[0m\u001b[0;34m\u001b[0m\u001b[0;34m\u001b[0m\u001b[0m\n\u001b[0m\u001b[1;32m     61\u001b[0m                 )\n\u001b[1;32m     62\u001b[0m             ]\n",
      "\u001b[0;32m~/anaconda3/lib/python3.7/site-packages/embiggen/embedders/embedder.py\u001b[0m in \u001b[0;36mfit\u001b[0;34m(self, *args, **kwargs)\u001b[0m\n\u001b[1;32m    100\u001b[0m     \u001b[0;32mdef\u001b[0m \u001b[0mfit\u001b[0m\u001b[0;34m(\u001b[0m\u001b[0mself\u001b[0m\u001b[0;34m,\u001b[0m \u001b[0;34m*\u001b[0m\u001b[0margs\u001b[0m\u001b[0;34m,\u001b[0m \u001b[0;34m**\u001b[0m\u001b[0mkwargs\u001b[0m\u001b[0;34m)\u001b[0m \u001b[0;34m->\u001b[0m \u001b[0mpd\u001b[0m\u001b[0;34m.\u001b[0m\u001b[0mDataFrame\u001b[0m\u001b[0;34m:\u001b[0m\u001b[0;34m\u001b[0m\u001b[0;34m\u001b[0m\u001b[0m\n\u001b[1;32m    101\u001b[0m         \u001b[0;34m\"\"\"Return pandas dataframe with training history.\"\"\"\u001b[0m\u001b[0;34m\u001b[0m\u001b[0;34m\u001b[0m\u001b[0m\n\u001b[0;32m--> 102\u001b[0;31m         \u001b[0;32mreturn\u001b[0m \u001b[0mpd\u001b[0m\u001b[0;34m.\u001b[0m\u001b[0mDataFrame\u001b[0m\u001b[0;34m(\u001b[0m\u001b[0mself\u001b[0m\u001b[0;34m.\u001b[0m\u001b[0m_model\u001b[0m\u001b[0;34m.\u001b[0m\u001b[0mfit\u001b[0m\u001b[0;34m(\u001b[0m\u001b[0;34m*\u001b[0m\u001b[0margs\u001b[0m\u001b[0;34m,\u001b[0m \u001b[0;34m**\u001b[0m\u001b[0mkwargs\u001b[0m\u001b[0;34m)\u001b[0m\u001b[0;34m.\u001b[0m\u001b[0mhistory\u001b[0m\u001b[0;34m)\u001b[0m\u001b[0;34m\u001b[0m\u001b[0;34m\u001b[0m\u001b[0m\n\u001b[0m",
      "\u001b[0;32m~/anaconda3/lib/python3.7/site-packages/tensorflow/python/keras/engine/training.py\u001b[0m in \u001b[0;36m_method_wrapper\u001b[0;34m(self, *args, **kwargs)\u001b[0m\n\u001b[1;32m     64\u001b[0m   \u001b[0;32mdef\u001b[0m \u001b[0m_method_wrapper\u001b[0m\u001b[0;34m(\u001b[0m\u001b[0mself\u001b[0m\u001b[0;34m,\u001b[0m \u001b[0;34m*\u001b[0m\u001b[0margs\u001b[0m\u001b[0;34m,\u001b[0m \u001b[0;34m**\u001b[0m\u001b[0mkwargs\u001b[0m\u001b[0;34m)\u001b[0m\u001b[0;34m:\u001b[0m\u001b[0;34m\u001b[0m\u001b[0;34m\u001b[0m\u001b[0m\n\u001b[1;32m     65\u001b[0m     \u001b[0;32mif\u001b[0m \u001b[0;32mnot\u001b[0m \u001b[0mself\u001b[0m\u001b[0;34m.\u001b[0m\u001b[0m_in_multi_worker_mode\u001b[0m\u001b[0;34m(\u001b[0m\u001b[0;34m)\u001b[0m\u001b[0;34m:\u001b[0m  \u001b[0;31m# pylint: disable=protected-access\u001b[0m\u001b[0;34m\u001b[0m\u001b[0;34m\u001b[0m\u001b[0m\n\u001b[0;32m---> 66\u001b[0;31m       \u001b[0;32mreturn\u001b[0m \u001b[0mmethod\u001b[0m\u001b[0;34m(\u001b[0m\u001b[0mself\u001b[0m\u001b[0;34m,\u001b[0m \u001b[0;34m*\u001b[0m\u001b[0margs\u001b[0m\u001b[0;34m,\u001b[0m \u001b[0;34m**\u001b[0m\u001b[0mkwargs\u001b[0m\u001b[0;34m)\u001b[0m\u001b[0;34m\u001b[0m\u001b[0;34m\u001b[0m\u001b[0m\n\u001b[0m\u001b[1;32m     67\u001b[0m \u001b[0;34m\u001b[0m\u001b[0m\n\u001b[1;32m     68\u001b[0m     \u001b[0;31m# Running inside `run_distribute_coordinator` already.\u001b[0m\u001b[0;34m\u001b[0m\u001b[0;34m\u001b[0m\u001b[0;34m\u001b[0m\u001b[0m\n",
      "\u001b[0;32m~/anaconda3/lib/python3.7/site-packages/tensorflow/python/keras/engine/training.py\u001b[0m in \u001b[0;36mfit\u001b[0;34m(self, x, y, batch_size, epochs, verbose, callbacks, validation_split, validation_data, shuffle, class_weight, sample_weight, initial_epoch, steps_per_epoch, validation_steps, validation_batch_size, validation_freq, max_queue_size, workers, use_multiprocessing)\u001b[0m\n\u001b[1;32m    846\u001b[0m                 batch_size=batch_size):\n\u001b[1;32m    847\u001b[0m               \u001b[0mcallbacks\u001b[0m\u001b[0;34m.\u001b[0m\u001b[0mon_train_batch_begin\u001b[0m\u001b[0;34m(\u001b[0m\u001b[0mstep\u001b[0m\u001b[0;34m)\u001b[0m\u001b[0;34m\u001b[0m\u001b[0;34m\u001b[0m\u001b[0m\n\u001b[0;32m--> 848\u001b[0;31m               \u001b[0mtmp_logs\u001b[0m \u001b[0;34m=\u001b[0m \u001b[0mtrain_function\u001b[0m\u001b[0;34m(\u001b[0m\u001b[0miterator\u001b[0m\u001b[0;34m)\u001b[0m\u001b[0;34m\u001b[0m\u001b[0;34m\u001b[0m\u001b[0m\n\u001b[0m\u001b[1;32m    849\u001b[0m               \u001b[0;31m# Catch OutOfRangeError for Datasets of unknown size.\u001b[0m\u001b[0;34m\u001b[0m\u001b[0;34m\u001b[0m\u001b[0;34m\u001b[0m\u001b[0m\n\u001b[1;32m    850\u001b[0m               \u001b[0;31m# This blocks until the batch has finished executing.\u001b[0m\u001b[0;34m\u001b[0m\u001b[0;34m\u001b[0m\u001b[0;34m\u001b[0m\u001b[0m\n",
      "\u001b[0;32m~/anaconda3/lib/python3.7/site-packages/tensorflow/python/eager/def_function.py\u001b[0m in \u001b[0;36m__call__\u001b[0;34m(self, *args, **kwds)\u001b[0m\n\u001b[1;32m    578\u001b[0m         \u001b[0mxla_context\u001b[0m\u001b[0;34m.\u001b[0m\u001b[0mExit\u001b[0m\u001b[0;34m(\u001b[0m\u001b[0;34m)\u001b[0m\u001b[0;34m\u001b[0m\u001b[0;34m\u001b[0m\u001b[0m\n\u001b[1;32m    579\u001b[0m     \u001b[0;32melse\u001b[0m\u001b[0;34m:\u001b[0m\u001b[0;34m\u001b[0m\u001b[0;34m\u001b[0m\u001b[0m\n\u001b[0;32m--> 580\u001b[0;31m       \u001b[0mresult\u001b[0m \u001b[0;34m=\u001b[0m \u001b[0mself\u001b[0m\u001b[0;34m.\u001b[0m\u001b[0m_call\u001b[0m\u001b[0;34m(\u001b[0m\u001b[0;34m*\u001b[0m\u001b[0margs\u001b[0m\u001b[0;34m,\u001b[0m \u001b[0;34m**\u001b[0m\u001b[0mkwds\u001b[0m\u001b[0;34m)\u001b[0m\u001b[0;34m\u001b[0m\u001b[0;34m\u001b[0m\u001b[0m\n\u001b[0m\u001b[1;32m    581\u001b[0m \u001b[0;34m\u001b[0m\u001b[0m\n\u001b[1;32m    582\u001b[0m     \u001b[0;32mif\u001b[0m \u001b[0mtracing_count\u001b[0m \u001b[0;34m==\u001b[0m \u001b[0mself\u001b[0m\u001b[0;34m.\u001b[0m\u001b[0m_get_tracing_count\u001b[0m\u001b[0;34m(\u001b[0m\u001b[0;34m)\u001b[0m\u001b[0;34m:\u001b[0m\u001b[0;34m\u001b[0m\u001b[0;34m\u001b[0m\u001b[0m\n",
      "\u001b[0;32m~/anaconda3/lib/python3.7/site-packages/tensorflow/python/eager/def_function.py\u001b[0m in \u001b[0;36m_call\u001b[0;34m(self, *args, **kwds)\u001b[0m\n\u001b[1;32m    609\u001b[0m       \u001b[0;31m# In this case we have created variables on the first call, so we run the\u001b[0m\u001b[0;34m\u001b[0m\u001b[0;34m\u001b[0m\u001b[0;34m\u001b[0m\u001b[0m\n\u001b[1;32m    610\u001b[0m       \u001b[0;31m# defunned version which is guaranteed to never create variables.\u001b[0m\u001b[0;34m\u001b[0m\u001b[0;34m\u001b[0m\u001b[0;34m\u001b[0m\u001b[0m\n\u001b[0;32m--> 611\u001b[0;31m       \u001b[0;32mreturn\u001b[0m \u001b[0mself\u001b[0m\u001b[0;34m.\u001b[0m\u001b[0m_stateless_fn\u001b[0m\u001b[0;34m(\u001b[0m\u001b[0;34m*\u001b[0m\u001b[0margs\u001b[0m\u001b[0;34m,\u001b[0m \u001b[0;34m**\u001b[0m\u001b[0mkwds\u001b[0m\u001b[0;34m)\u001b[0m  \u001b[0;31m# pylint: disable=not-callable\u001b[0m\u001b[0;34m\u001b[0m\u001b[0;34m\u001b[0m\u001b[0m\n\u001b[0m\u001b[1;32m    612\u001b[0m     \u001b[0;32melif\u001b[0m \u001b[0mself\u001b[0m\u001b[0;34m.\u001b[0m\u001b[0m_stateful_fn\u001b[0m \u001b[0;32mis\u001b[0m \u001b[0;32mnot\u001b[0m \u001b[0;32mNone\u001b[0m\u001b[0;34m:\u001b[0m\u001b[0;34m\u001b[0m\u001b[0;34m\u001b[0m\u001b[0m\n\u001b[1;32m    613\u001b[0m       \u001b[0;31m# Release the lock early so that multiple threads can perform the call\u001b[0m\u001b[0;34m\u001b[0m\u001b[0;34m\u001b[0m\u001b[0;34m\u001b[0m\u001b[0m\n",
      "\u001b[0;32m~/anaconda3/lib/python3.7/site-packages/tensorflow/python/eager/function.py\u001b[0m in \u001b[0;36m__call__\u001b[0;34m(self, *args, **kwargs)\u001b[0m\n\u001b[1;32m   2418\u001b[0m     \u001b[0;32mwith\u001b[0m \u001b[0mself\u001b[0m\u001b[0;34m.\u001b[0m\u001b[0m_lock\u001b[0m\u001b[0;34m:\u001b[0m\u001b[0;34m\u001b[0m\u001b[0;34m\u001b[0m\u001b[0m\n\u001b[1;32m   2419\u001b[0m       \u001b[0mgraph_function\u001b[0m\u001b[0;34m,\u001b[0m \u001b[0margs\u001b[0m\u001b[0;34m,\u001b[0m \u001b[0mkwargs\u001b[0m \u001b[0;34m=\u001b[0m \u001b[0mself\u001b[0m\u001b[0;34m.\u001b[0m\u001b[0m_maybe_define_function\u001b[0m\u001b[0;34m(\u001b[0m\u001b[0margs\u001b[0m\u001b[0;34m,\u001b[0m \u001b[0mkwargs\u001b[0m\u001b[0;34m)\u001b[0m\u001b[0;34m\u001b[0m\u001b[0;34m\u001b[0m\u001b[0m\n\u001b[0;32m-> 2420\u001b[0;31m     \u001b[0;32mreturn\u001b[0m \u001b[0mgraph_function\u001b[0m\u001b[0;34m.\u001b[0m\u001b[0m_filtered_call\u001b[0m\u001b[0;34m(\u001b[0m\u001b[0margs\u001b[0m\u001b[0;34m,\u001b[0m \u001b[0mkwargs\u001b[0m\u001b[0;34m)\u001b[0m  \u001b[0;31m# pylint: disable=protected-access\u001b[0m\u001b[0;34m\u001b[0m\u001b[0;34m\u001b[0m\u001b[0m\n\u001b[0m\u001b[1;32m   2421\u001b[0m \u001b[0;34m\u001b[0m\u001b[0m\n\u001b[1;32m   2422\u001b[0m   \u001b[0;34m@\u001b[0m\u001b[0mproperty\u001b[0m\u001b[0;34m\u001b[0m\u001b[0;34m\u001b[0m\u001b[0m\n",
      "\u001b[0;32m~/anaconda3/lib/python3.7/site-packages/tensorflow/python/eager/function.py\u001b[0m in \u001b[0;36m_filtered_call\u001b[0;34m(self, args, kwargs)\u001b[0m\n\u001b[1;32m   1663\u001b[0m          if isinstance(t, (ops.Tensor,\n\u001b[1;32m   1664\u001b[0m                            resource_variable_ops.BaseResourceVariable))),\n\u001b[0;32m-> 1665\u001b[0;31m         self.captured_inputs)\n\u001b[0m\u001b[1;32m   1666\u001b[0m \u001b[0;34m\u001b[0m\u001b[0m\n\u001b[1;32m   1667\u001b[0m   \u001b[0;32mdef\u001b[0m \u001b[0m_call_flat\u001b[0m\u001b[0;34m(\u001b[0m\u001b[0mself\u001b[0m\u001b[0;34m,\u001b[0m \u001b[0margs\u001b[0m\u001b[0;34m,\u001b[0m \u001b[0mcaptured_inputs\u001b[0m\u001b[0;34m,\u001b[0m \u001b[0mcancellation_manager\u001b[0m\u001b[0;34m=\u001b[0m\u001b[0;32mNone\u001b[0m\u001b[0;34m)\u001b[0m\u001b[0;34m:\u001b[0m\u001b[0;34m\u001b[0m\u001b[0;34m\u001b[0m\u001b[0m\n",
      "\u001b[0;32m~/anaconda3/lib/python3.7/site-packages/tensorflow/python/eager/function.py\u001b[0m in \u001b[0;36m_call_flat\u001b[0;34m(self, args, captured_inputs, cancellation_manager)\u001b[0m\n\u001b[1;32m   1744\u001b[0m       \u001b[0;31m# No tape is watching; skip to running the function.\u001b[0m\u001b[0;34m\u001b[0m\u001b[0;34m\u001b[0m\u001b[0;34m\u001b[0m\u001b[0m\n\u001b[1;32m   1745\u001b[0m       return self._build_call_outputs(self._inference_function.call(\n\u001b[0;32m-> 1746\u001b[0;31m           ctx, args, cancellation_manager=cancellation_manager))\n\u001b[0m\u001b[1;32m   1747\u001b[0m     forward_backward = self._select_forward_and_backward_functions(\n\u001b[1;32m   1748\u001b[0m         \u001b[0margs\u001b[0m\u001b[0;34m,\u001b[0m\u001b[0;34m\u001b[0m\u001b[0;34m\u001b[0m\u001b[0m\n",
      "\u001b[0;32m~/anaconda3/lib/python3.7/site-packages/tensorflow/python/eager/function.py\u001b[0m in \u001b[0;36mcall\u001b[0;34m(self, ctx, args, cancellation_manager)\u001b[0m\n\u001b[1;32m    596\u001b[0m               \u001b[0minputs\u001b[0m\u001b[0;34m=\u001b[0m\u001b[0margs\u001b[0m\u001b[0;34m,\u001b[0m\u001b[0;34m\u001b[0m\u001b[0;34m\u001b[0m\u001b[0m\n\u001b[1;32m    597\u001b[0m               \u001b[0mattrs\u001b[0m\u001b[0;34m=\u001b[0m\u001b[0mattrs\u001b[0m\u001b[0;34m,\u001b[0m\u001b[0;34m\u001b[0m\u001b[0;34m\u001b[0m\u001b[0m\n\u001b[0;32m--> 598\u001b[0;31m               ctx=ctx)\n\u001b[0m\u001b[1;32m    599\u001b[0m         \u001b[0;32melse\u001b[0m\u001b[0;34m:\u001b[0m\u001b[0;34m\u001b[0m\u001b[0;34m\u001b[0m\u001b[0m\n\u001b[1;32m    600\u001b[0m           outputs = execute.execute_with_cancellation(\n",
      "\u001b[0;32m~/anaconda3/lib/python3.7/site-packages/tensorflow/python/eager/execute.py\u001b[0m in \u001b[0;36mquick_execute\u001b[0;34m(op_name, num_outputs, inputs, attrs, ctx, name)\u001b[0m\n\u001b[1;32m     58\u001b[0m     \u001b[0mctx\u001b[0m\u001b[0;34m.\u001b[0m\u001b[0mensure_initialized\u001b[0m\u001b[0;34m(\u001b[0m\u001b[0;34m)\u001b[0m\u001b[0;34m\u001b[0m\u001b[0;34m\u001b[0m\u001b[0m\n\u001b[1;32m     59\u001b[0m     tensors = pywrap_tfe.TFE_Py_Execute(ctx._handle, device_name, op_name,\n\u001b[0;32m---> 60\u001b[0;31m                                         inputs, attrs, num_outputs)\n\u001b[0m\u001b[1;32m     61\u001b[0m   \u001b[0;32mexcept\u001b[0m \u001b[0mcore\u001b[0m\u001b[0;34m.\u001b[0m\u001b[0m_NotOkStatusException\u001b[0m \u001b[0;32mas\u001b[0m \u001b[0me\u001b[0m\u001b[0;34m:\u001b[0m\u001b[0;34m\u001b[0m\u001b[0;34m\u001b[0m\u001b[0m\n\u001b[1;32m     62\u001b[0m     \u001b[0;32mif\u001b[0m \u001b[0mname\u001b[0m \u001b[0;32mis\u001b[0m \u001b[0;32mnot\u001b[0m \u001b[0;32mNone\u001b[0m\u001b[0;34m:\u001b[0m\u001b[0;34m\u001b[0m\u001b[0;34m\u001b[0m\u001b[0m\n",
      "\u001b[0;31mKeyboardInterrupt\u001b[0m: "
     ]
    }
   ],
   "source": [
    "execute_skipgrams_training(\"new\")"
   ]
  }
 ],
 "metadata": {
  "kernelspec": {
   "display_name": "Python 3",
   "language": "python",
   "name": "python3"
  },
  "language_info": {
   "codemirror_mode": {
    "name": "ipython",
    "version": 3
   },
   "file_extension": ".py",
   "mimetype": "text/x-python",
   "name": "python",
   "nbconvert_exporter": "python",
   "pygments_lexer": "ipython3",
   "version": "3.7.6"
  }
 },
 "nbformat": 4,
 "nbformat_minor": 4
}
