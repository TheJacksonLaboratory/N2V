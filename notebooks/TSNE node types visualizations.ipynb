{
 "cells": [
  {
   "cell_type": "markdown",
   "metadata": {},
   "source": [
    "# TSNE node types visualizations"
   ]
  },
  {
   "cell_type": "code",
   "execution_count": 4,
   "metadata": {},
   "outputs": [],
   "source": [
    "import os\n",
    "from glob import glob\n",
    "from tqdm.auto import tqdm\n",
    "import numpy as np"
   ]
  },
  {
   "cell_type": "markdown",
   "metadata": {},
   "source": [
    "Here we are going to use the [tsne-cuda](https://github.com/CannyLab/tsne-cuda) implementation from Berkeley, which is the fastest I know.\n",
    "\n",
    "Since it may be not the easiest one to install, we make available all the rendered tsne embeddings in the folder \"tsne\" within the same repository."
   ]
  },
  {
   "cell_type": "code",
   "execution_count": 5,
   "metadata": {},
   "outputs": [],
   "source": [
    "try:\n",
    "    from tsnecuda import TSNE\n",
    "except ModuleNotFoundError:\n",
    "    from MulticoreTSNE import MulticoreTSNE as TSNE"
   ]
  },
  {
   "cell_type": "markdown",
   "metadata": {},
   "source": [
    "We retrieve all the embeddings to further embed using TSNE"
   ]
  },
  {
   "cell_type": "code",
   "execution_count": 6,
   "metadata": {},
   "outputs": [],
   "source": [
    "paths = glob(\"*_embedding.npy\")"
   ]
  },
  {
   "cell_type": "markdown",
   "metadata": {},
   "source": [
    "## Executing the TSNE embeddings"
   ]
  },
  {
   "cell_type": "markdown",
   "metadata": {},
   "source": [
    "We compute TSNE for different values of perplexity to check if the embedding is stable."
   ]
  },
  {
   "cell_type": "code",
   "execution_count": 7,
   "metadata": {},
   "outputs": [
    {
     "data": {
      "application/vnd.jupyter.widget-view+json": {
       "model_id": "79a7545aa5254c67bd213d506c4ec5c7",
       "version_major": 2,
       "version_minor": 0
      },
      "text/plain": [
       "HBox(children=(FloatProgress(value=0.0, description='Embedding all paths', max=4.0, style=ProgressStyle(descri…"
      ]
     },
     "metadata": {},
     "output_type": "display_data"
    },
    {
     "data": {
      "application/vnd.jupyter.widget-view+json": {
       "model_id": "",
       "version_major": 2,
       "version_minor": 0
      },
      "text/plain": [
       "HBox(children=(FloatProgress(value=0.0, description='Perplexities', max=5.0, style=ProgressStyle(description_w…"
      ]
     },
     "metadata": {},
     "output_type": "display_data"
    },
    {
     "data": {
      "application/vnd.jupyter.widget-view+json": {
       "model_id": "",
       "version_major": 2,
       "version_minor": 0
      },
      "text/plain": [
       "HBox(children=(FloatProgress(value=0.0, description='Perplexities', max=5.0, style=ProgressStyle(description_w…"
      ]
     },
     "metadata": {},
     "output_type": "display_data"
    },
    {
     "data": {
      "application/vnd.jupyter.widget-view+json": {
       "model_id": "",
       "version_major": 2,
       "version_minor": 0
      },
      "text/plain": [
       "HBox(children=(FloatProgress(value=0.0, description='Perplexities', max=5.0, style=ProgressStyle(description_w…"
      ]
     },
     "metadata": {},
     "output_type": "display_data"
    },
    {
     "data": {
      "application/vnd.jupyter.widget-view+json": {
       "model_id": "",
       "version_major": 2,
       "version_minor": 0
      },
      "text/plain": [
       "HBox(children=(FloatProgress(value=0.0, description='Perplexities', max=5.0, style=ProgressStyle(description_w…"
      ]
     },
     "metadata": {},
     "output_type": "display_data"
    },
    {
     "name": "stdout",
     "output_type": "stream",
     "text": [
      "\n"
     ]
    }
   ],
   "source": [
    "perplexities = (20, 50, 80, 200, 500)\n",
    "\n",
    "os.makedirs(\"tsne\", exist_ok=True)\n",
    "\n",
    "for path in tqdm(paths, desc=\"Embedding all paths\"):\n",
    "    for perplexity in tqdm(perplexities, desc=\"Perplexities\", leave=False):\n",
    "        tsne_path = f\"tsne/{perplexity}_{path}\"\n",
    "        if os.path.exists(tsne_path):\n",
    "            continue\n",
    "        tsne = TSNE(\n",
    "            perplexity=perplexity\n",
    "        )\n",
    "        np.save(\n",
    "            tsne_path,\n",
    "            tsne.fit_transform(np.load(path))\n",
    "        )"
   ]
  },
  {
   "cell_type": "markdown",
   "metadata": {},
   "source": [
    "## Loading the graph\n",
    "Here we load, as done previously, the PPI graph data."
   ]
  },
  {
   "cell_type": "code",
   "execution_count": null,
   "metadata": {},
   "outputs": [],
   "source": []
  },
  {
   "cell_type": "code",
   "execution_count": 8,
   "metadata": {},
   "outputs": [
    {
     "ename": "NameError",
     "evalue": "name 'EnsmallenGraph' is not defined",
     "output_type": "error",
     "traceback": [
      "\u001b[0;31m---------------------------------------------------------------------------\u001b[0m",
      "\u001b[0;31mNameError\u001b[0m                                 Traceback (most recent call last)",
      "\u001b[0;32m<ipython-input-8-c76d02cb5de1>\u001b[0m in \u001b[0;36m<module>\u001b[0;34m\u001b[0m\n\u001b[0;32m----> 1\u001b[0;31m \u001b[0;32mdef\u001b[0m \u001b[0mfilter_embedding\u001b[0m\u001b[0;34m(\u001b[0m\u001b[0mgraph\u001b[0m\u001b[0;34m:\u001b[0m\u001b[0mEnsmallenGraph\u001b[0m\u001b[0;34m,\u001b[0m \u001b[0membedding\u001b[0m\u001b[0;34m:\u001b[0m\u001b[0mnp\u001b[0m\u001b[0;34m.\u001b[0m\u001b[0marray\u001b[0m\u001b[0;34m,\u001b[0m \u001b[0;34m)\u001b[0m\u001b[0;34m:\u001b[0m\u001b[0;34m\u001b[0m\u001b[0;34m\u001b[0m\u001b[0m\n\u001b[0m\u001b[1;32m      2\u001b[0m     \u001b[0;31m# Get the node type ids\u001b[0m\u001b[0;34m\u001b[0m\u001b[0;34m\u001b[0m\u001b[0;34m\u001b[0m\u001b[0m\n\u001b[1;32m      3\u001b[0m     node_types_ids = [\n\u001b[1;32m      4\u001b[0m         \u001b[0mgraph\u001b[0m\u001b[0;34m.\u001b[0m\u001b[0mget_node_type_id\u001b[0m\u001b[0;34m(\u001b[0m\u001b[0mnode_id\u001b[0m\u001b[0;34m)\u001b[0m\u001b[0;34m\u001b[0m\u001b[0;34m\u001b[0m\u001b[0m\n\u001b[1;32m      5\u001b[0m         \u001b[0;32mfor\u001b[0m \u001b[0mnode_id\u001b[0m \u001b[0;32min\u001b[0m \u001b[0mrange\u001b[0m\u001b[0;34m(\u001b[0m\u001b[0mgraph\u001b[0m\u001b[0;34m.\u001b[0m\u001b[0mget_nodes_number\u001b[0m\u001b[0;34m(\u001b[0m\u001b[0;34m)\u001b[0m\u001b[0;34m)\u001b[0m\u001b[0;34m\u001b[0m\u001b[0;34m\u001b[0m\u001b[0m\n",
      "\u001b[0;31mNameError\u001b[0m: name 'EnsmallenGraph' is not defined"
     ]
    }
   ],
   "source": [
    "def filter_embedding(graph:EnsmallenGraph, embedding:np.array, ):\n",
    "    # Get the node type ids\n",
    "    node_types_ids = [\n",
    "        graph.get_node_type_id(node_id)\n",
    "        for node_id in range(graph.get_nodes_number())\n",
    "    ]\n",
    "    \n",
    "    # Obtain the most common ones\n",
    "    common_node_types = list(dict(\n",
    "        sorted(Counter(node_types_ids).items(), key=lambda x: x[1], reverse=True)[:10]\n",
    "    ).keys())\n",
    "    common_node_types_names = [\n",
    "        graph.node_types_reverse_mapping[common_node_type]\n",
    "        for common_node_type in common_node_types\n",
    "    ]\n",
    "    common_node_types_set = common_node_types\n",
    "    colors = list(TABLEAU_COLORS.keys())\n",
    "\n",
    "    filtered_node_ids, filtered_node_types_ids = list(zip(*[\n",
    "        (node_id, node_type)\n",
    "        for node_id, node_type in enumerate(node_types_ids)\n",
    "        if node_type in common_node_types_set and not graph.is_node_trap(node_id)\n",
    "    ]))\n",
    "\n",
    "    return embedding[list(filtered_node_ids)].T, filtered_node_types_ids, common_node_types_names"
   ]
  },
  {
   "cell_type": "code",
   "execution_count": 9,
   "metadata": {},
   "outputs": [
    {
     "ename": "NameError",
     "evalue": "name 'EnsmallenGraph' is not defined",
     "output_type": "error",
     "traceback": [
      "\u001b[0;31m---------------------------------------------------------------------------\u001b[0m",
      "\u001b[0;31mNameError\u001b[0m                                 Traceback (most recent call last)",
      "\u001b[0;32m<ipython-input-9-7752b52548a2>\u001b[0m in \u001b[0;36m<module>\u001b[0;34m\u001b[0m\n\u001b[1;32m      1\u001b[0m def plot_embedding(\n\u001b[0;32m----> 2\u001b[0;31m     \u001b[0mgraph\u001b[0m\u001b[0;34m:\u001b[0m\u001b[0mEnsmallenGraph\u001b[0m\u001b[0;34m,\u001b[0m\u001b[0;34m\u001b[0m\u001b[0;34m\u001b[0m\u001b[0m\n\u001b[0m\u001b[1;32m      3\u001b[0m     \u001b[0mtsne_embedding\u001b[0m\u001b[0;34m:\u001b[0m\u001b[0mnp\u001b[0m\u001b[0;34m.\u001b[0m\u001b[0mndarray\u001b[0m\u001b[0;34m,\u001b[0m\u001b[0;34m\u001b[0m\u001b[0;34m\u001b[0m\u001b[0m\n\u001b[1;32m      4\u001b[0m     \u001b[0membedding_name\u001b[0m\u001b[0;34m:\u001b[0m\u001b[0mstr\u001b[0m\u001b[0;34m,\u001b[0m\u001b[0;34m\u001b[0m\u001b[0;34m\u001b[0m\u001b[0m\n\u001b[1;32m      5\u001b[0m     \u001b[0mdirectory\u001b[0m\u001b[0;34m:\u001b[0m\u001b[0mstr\u001b[0m\u001b[0;34m,\u001b[0m\u001b[0;34m\u001b[0m\u001b[0;34m\u001b[0m\u001b[0m\n",
      "\u001b[0;31mNameError\u001b[0m: name 'EnsmallenGraph' is not defined"
     ]
    }
   ],
   "source": [
    "def plot_embedding(\n",
    "    graph:EnsmallenGraph,\n",
    "    tsne_embedding:np.ndarray,\n",
    "    embedding_name:str,\n",
    "    directory:str,\n",
    "    epochs:int,\n",
    "    model:str,\n",
    "    embedding_type:str\n",
    "):\n",
    "    if graph.node_types_mapping is not None:\n",
    "        (x, y), node_types, common_node_types_names = filter_embedding(graph, tsne_embedding)\n",
    "    else:\n",
    "        (x, y) = tsne_embedding.T\n",
    "        node_types = np.zeros(graph.get_nodes_number(), dtype=np.uint8)\n",
    "        common_node_types_names = [\"No node type provided\"]\n",
    "\n",
    "    fig, axes = plt.subplots(figsize=(10,10), dpi=200)\n",
    "    colors = list(TABLEAU_COLORS.keys())[:len(common_node_types_names)]\n",
    "    \n",
    "    axes.set_title(f\"{embedding_type} {embedding_name} embedding for {directory}, obtained using {model} trained for {epochs} epochs\")\n",
    "    scatter = axes.scatter(x, y, s=0.25, c=node_types, cmap=ListedColormap(colors))\n",
    "    plt.legend(handles=scatter.legend_elements()[0], labels=common_node_types_names)\n",
    "    plt.savefig(f\"{directory}_{embedding_name}_{model}.png\")\n",
    "    plt.show()"
   ]
  },
  {
   "cell_type": "code",
   "execution_count": null,
   "metadata": {},
   "outputs": [],
   "source": [
    "import numpy as np\n",
    "import matplotlib.pyplot as plt\n",
    "import matplotlib.cm as cm\n",
    "from scipy.ndimage.filters import gaussian_filter\n",
    "\n",
    "def plot_embedding_degrees_heatmap(\n",
    "    graph:EnsmallenGraph,\n",
    "    embedding:np.ndarray,\n",
    "    embedding_name:str,\n",
    "    directory:str,\n",
    "    epochs:int,\n",
    "    model:str,\n",
    "    embedding_type:str\n",
    "):\n",
    "    fig, axes = plt.subplots(figsize=(10,10), dpi=200)\n",
    "    cm = plt.cm.get_cmap('RdYlBu')\n",
    "    degrees = np.array([\n",
    "        min(5, max(1, graph.degree(node)))\n",
    "        for node in range(graph.get_nodes_number())\n",
    "    ])\n",
    "    sc = axes.scatter(\n",
    "        *embedding.T,\n",
    "        c=degrees,\n",
    "        s=0.1,\n",
    "        cmap=cm\n",
    "        #norm=LogNorm(\n",
    "        #    vmin=max(1, degrees.min()),\n",
    "        #    vmax=np.median(degrees)*5,\n",
    "        #    clip=True\n",
    "        #)\n",
    "    )\n",
    "\n",
    "    fig.colorbar(sc, ax=axes)\n",
    "    axes.set_title(f\"Degrees heatmap {embedding_type} {embedding_name} embedding for {directory}, obtained using {model} trained for {epochs} epochs\")\n",
    "    plt.show()"
   ]
  }
 ],
 "metadata": {
  "environment": {
   "name": "tf2-gpu.2-1.m48",
   "type": "gcloud",
   "uri": "gcr.io/deeplearning-platform-release/tf2-gpu.2-1:m48"
  },
  "kernelspec": {
   "display_name": "Python 3",
   "language": "python",
   "name": "python3"
  },
  "language_info": {
   "codemirror_mode": {
    "name": "ipython",
    "version": 3
   },
   "file_extension": ".py",
   "mimetype": "text/x-python",
   "name": "python",
   "nbconvert_exporter": "python",
   "pygments_lexer": "ipython3",
   "version": "3.7.6"
  }
 },
 "nbformat": 4,
 "nbformat_minor": 4
}
