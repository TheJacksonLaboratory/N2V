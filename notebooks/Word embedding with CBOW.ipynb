{
 "cells": [
  {
   "cell_type": "markdown",
   "metadata": {},
   "source": [
    "# Word embedding using CBOW\n",
    "[The CBOW model](https://arxiv.org/pdf/1606.04640.pdf) predicts the central word given the context words.\n",
    "\n",
    "In our implementatation, as for both the Binary SkipGram model and the SkipGram model, since the batches walks are lazily generated, the memory requirements are minimal and the method can scale to very big texts."
   ]
  },
  {
   "cell_type": "code",
   "execution_count": 1,
   "metadata": {},
   "outputs": [],
   "source": [
    "import silence_tensorflow.auto # Import needed to avoid TensorFlow warnings and general useless infos."
   ]
  },
  {
   "cell_type": "markdown",
   "metadata": {},
   "source": [
    "## The parameters for this example\n",
    "We are going to use as batch size $512$, the number of texts to use for each training epoch. The result embedding size, the space of the resulting vectors, is $100$. The window size is $3$, meaning the context will be formed of the four words after and before the one we are considering as the center. \n",
    "\n",
    "The negative samples are the number of samples to randomly extract as negatives during the NCE. We are going to use $10$ for these values. \n",
    "\n",
    "Relative to the early stopping mechanism, we are going to monitor the training loss, using a variation delta $0.0001$ and a patience of $50$ epochs."
   ]
  },
  {
   "cell_type": "code",
   "execution_count": 2,
   "metadata": {},
   "outputs": [],
   "source": [
    "batch_size = 512\n",
    "embedding_size = 30\n",
    "window_size=10\n",
    "negatives_samples=20\n",
    "delta=0.00001\n",
    "patience=20\n",
    "min_counts=5"
   ]
  },
  {
   "cell_type": "markdown",
   "metadata": {},
   "source": [
    "## Using NLTK\n",
    "Since we are going to use NLTK, other than installing the package, don't forget to also [execute the download of the data related to the package](https://www.nltk.org/data.html), such as the stopwords:\n",
    "\n",
    "```bash\n",
    "python -m nltk.downloader all\n",
    "```\n",
    "\n",
    "NLTK is a library with *many* tools for executing NLP, that here we are not exploring in the necessary depth.\n",
    "\n",
    "Before starting to write your custom tokenizer, please to look into NLTK and choose the tools and are useful for your use case."
   ]
  },
  {
   "cell_type": "markdown",
   "metadata": {},
   "source": [
    "## Loading the texts\n",
    "Here we are going to take in consideration the Hillary emails:"
   ]
  },
  {
   "cell_type": "code",
   "execution_count": 3,
   "metadata": {},
   "outputs": [],
   "source": [
    "import pandas as pd\n",
    "import numpy as np\n",
    "emails = pd.read_csv(\"../data/texts/Emails.csv\")[\"RawText\"].tolist()"
   ]
  },
  {
   "cell_type": "markdown",
   "metadata": {},
   "source": [
    "## Encoding the texts"
   ]
  },
  {
   "cell_type": "markdown",
   "metadata": {},
   "source": [
    "Here we use the [the Keras Tokenizer](https://keras.io/api/preprocessing/text/). This tokenizer **is NOT by any means complete** and should only be used for examples and educational porposes.\n",
    "\n",
    "In this **very simple** tokenizer, we apply stemming using Porter stemming and drop english stop words.\n",
    "\n",
    "For any real world application, you will also need a custom synonims' dictionary: here we are using a general porpose synonims dictionary that may apply or not in your own application."
   ]
  },
  {
   "cell_type": "code",
   "execution_count": 4,
   "metadata": {},
   "outputs": [
    {
     "data": {
      "application/vnd.jupyter.widget-view+json": {
       "model_id": "75fd4ad3279b472ebfa4d24ba142e6ae",
       "version_major": 2,
       "version_minor": 0
      },
      "text/plain": [
       "HBox(children=(FloatProgress(value=0.0, description='Tokenizing', max=7945.0, style=ProgressStyle(description_…"
      ]
     },
     "metadata": {},
     "output_type": "display_data"
    },
    {
     "name": "stdout",
     "output_type": "stream",
     "text": [
      "\n"
     ]
    },
    {
     "data": {
      "application/vnd.jupyter.widget-view+json": {
       "model_id": "c88f567f6ac047cb8ae4090eb44be9c8",
       "version_major": 2,
       "version_minor": 0
      },
      "text/plain": [
       "HBox(children=(FloatProgress(value=0.0, description='Tokenizing', max=7945.0, style=ProgressStyle(description_…"
      ]
     },
     "metadata": {},
     "output_type": "display_data"
    },
    {
     "name": "stdout",
     "output_type": "stream",
     "text": [
      "\n"
     ]
    },
    {
     "data": {
      "application/vnd.jupyter.widget-view+json": {
       "model_id": "f17dd06c76da470e9d22c793f8123f7d",
       "version_major": 2,
       "version_minor": 0
      },
      "text/plain": [
       "HBox(children=(FloatProgress(value=0.0, description='Tokenizing', max=7945.0, style=ProgressStyle(description_…"
      ]
     },
     "metadata": {},
     "output_type": "display_data"
    },
    {
     "name": "stdout",
     "output_type": "stream",
     "text": [
      "\n"
     ]
    }
   ],
   "source": [
    "from embiggen import CorpusTransformer\n",
    "\n",
    "transformer = CorpusTransformer()\n",
    "transformer.fit(emails, min_count=min_counts)\n",
    "encoded_emails = transformer.transform(emails, min_length=window_size*2+1)"
   ]
  },
  {
   "cell_type": "code",
   "execution_count": 5,
   "metadata": {},
   "outputs": [
    {
     "name": "stdout",
     "output_type": "stream",
     "text": [
      "The transformer will use 16064 different terms.\n"
     ]
    }
   ],
   "source": [
    "print(f\"The transformer will use {transformer.vocabulary_size} different terms.\")"
   ]
  },
  {
   "cell_type": "markdown",
   "metadata": {},
   "source": [
    "## Creating the training sequences\n",
    "We create the training sequence:"
   ]
  },
  {
   "cell_type": "code",
   "execution_count": 6,
   "metadata": {},
   "outputs": [],
   "source": [
    "from embiggen import Word2VecSequence\n",
    "\n",
    "word2vec_sequence = Word2VecSequence(\n",
    "    encoded_emails,\n",
    "    batch_size=batch_size,\n",
    "    window_size=window_size\n",
    ")"
   ]
  },
  {
   "cell_type": "markdown",
   "metadata": {},
   "source": [
    "## Creating the embedding model\n",
    "Here, finally, we create the embedding model. If available, we setup the model so to run on multiple GPUs:"
   ]
  },
  {
   "cell_type": "code",
   "execution_count": 7,
   "metadata": {},
   "outputs": [
    {
     "name": "stdout",
     "output_type": "stream",
     "text": [
      "Model: \"CBOW\"\n",
      "__________________________________________________________________________________________________\n",
      "Layer (type)                    Output Shape         Param #     Connected to                     \n",
      "==================================================================================================\n",
      "words_embedding (InputLayer)    [(None, 20)]         0                                            \n",
      "__________________________________________________________________________________________________\n",
      "embedding (Embedding)           (None, 20, 30)       481920      words_embedding[0][0]            \n",
      "__________________________________________________________________________________________________\n",
      "lambda (Lambda)                 (None, 30)           0           embedding[0][0]                  \n",
      "__________________________________________________________________________________________________\n",
      "input_1 (InputLayer)            [(None, 1)]          0                                            \n",
      "__________________________________________________________________________________________________\n",
      "noise_contrastive_estimation (N (None, 16064)        497984      lambda[0][0]                     \n",
      "                                                                 input_1[0][0]                    \n",
      "==================================================================================================\n",
      "Total params: 979,904\n",
      "Trainable params: 979,904\n",
      "Non-trainable params: 0\n",
      "__________________________________________________________________________________________________\n"
     ]
    }
   ],
   "source": [
    "from tensorflow.distribute import MirroredStrategy\n",
    "from embiggen import CBOW\n",
    "from tensorflow.keras.optimizers import Nadam\n",
    "\n",
    "strategy = MirroredStrategy()\n",
    "with strategy.scope():\n",
    "    model = CBOW(\n",
    "        vocabulary_size=transformer.vocabulary_size,\n",
    "        embedding_size=embedding_size,\n",
    "        optimizer=Nadam(0.1),\n",
    "        window_size=window_size,\n",
    "        negatives_samples=negatives_samples,\n",
    "    )\n",
    "\n",
    "model.summary()"
   ]
  },
  {
   "cell_type": "markdown",
   "metadata": {},
   "source": [
    "### Training the embedding model\n",
    "Now here we execute the training of the embedding model:"
   ]
  },
  {
   "cell_type": "code",
   "execution_count": 8,
   "metadata": {
    "scrolled": true
   },
   "outputs": [
    {
     "name": "stdout",
     "output_type": "stream",
     "text": [
      "Epoch 1/1000\n",
      "16/16 [==============================] - 3s 207ms/step - loss: 90.3520 - lr: 0.1000\n",
      "Epoch 2/1000\n",
      "16/16 [==============================] - 3s 184ms/step - loss: 90.4788 - lr: 0.1000\n",
      "Epoch 3/1000\n",
      "16/16 [==============================] - 3s 185ms/step - loss: 90.3327 - lr: 0.1000\n",
      "Epoch 4/1000\n",
      "16/16 [==============================] - 3s 186ms/step - loss: 88.0463 - lr: 0.1000\n",
      "Epoch 5/1000\n",
      "16/16 [==============================] - 3s 179ms/step - loss: 91.7140 - lr: 0.1000\n",
      "Epoch 6/1000\n",
      "16/16 [==============================] - 3s 183ms/step - loss: 83.4745 - lr: 0.1000\n",
      "Epoch 7/1000\n",
      "16/16 [==============================] - 3s 184ms/step - loss: 84.3317 - lr: 0.1000\n",
      "Epoch 8/1000\n",
      "16/16 [==============================] - 3s 185ms/step - loss: 82.1789 - lr: 0.1000\n",
      "Epoch 9/1000\n",
      "16/16 [==============================] - 3s 173ms/step - loss: 73.9614 - lr: 0.1000\n",
      "Epoch 10/1000\n",
      "16/16 [==============================] - 3s 189ms/step - loss: 73.7302 - lr: 0.1000\n",
      "Epoch 11/1000\n",
      "16/16 [==============================] - 3s 178ms/step - loss: 71.1473 - lr: 0.1000\n",
      "Epoch 12/1000\n",
      "16/16 [==============================] - 3s 176ms/step - loss: 70.6386 - lr: 0.1000\n",
      "Epoch 13/1000\n",
      "16/16 [==============================] - 3s 182ms/step - loss: 69.9744 - lr: 0.1000\n",
      "Epoch 14/1000\n",
      "16/16 [==============================] - 3s 170ms/step - loss: 58.7966 - lr: 0.1000\n",
      "Epoch 15/1000\n",
      "16/16 [==============================] - 3s 173ms/step - loss: 63.8902 - lr: 0.1000\n",
      "Epoch 16/1000\n",
      "16/16 [==============================] - 3s 182ms/step - loss: 63.0863 - lr: 0.1000\n",
      "Epoch 17/1000\n",
      "16/16 [==============================] - 3s 182ms/step - loss: 58.0693 - lr: 0.1000\n",
      "Epoch 18/1000\n",
      "16/16 [==============================] - 3s 178ms/step - loss: 64.7387 - lr: 0.1000\n",
      "Epoch 19/1000\n",
      "16/16 [==============================] - 3s 172ms/step - loss: 55.0552 - lr: 0.1000\n",
      "Epoch 20/1000\n",
      "16/16 [==============================] - 3s 181ms/step - loss: 56.4020 - lr: 0.1000\n",
      "Epoch 21/1000\n",
      "16/16 [==============================] - 3s 174ms/step - loss: 56.2044 - lr: 0.1000\n",
      "Epoch 22/1000\n",
      "16/16 [==============================] - 3s 177ms/step - loss: 51.0879 - lr: 0.1000\n",
      "Epoch 23/1000\n",
      "16/16 [==============================] - 3s 173ms/step - loss: 50.6151 - lr: 0.1000\n",
      "Epoch 24/1000\n",
      "16/16 [==============================] - 3s 169ms/step - loss: 52.0308 - lr: 0.1000\n",
      "Epoch 25/1000\n",
      "16/16 [==============================] - 3s 181ms/step - loss: 47.9643 - lr: 0.1000\n",
      "Epoch 26/1000\n",
      "16/16 [==============================] - 3s 179ms/step - loss: 48.1632 - lr: 0.1000\n",
      "Epoch 27/1000\n",
      "16/16 [==============================] - 3s 175ms/step - loss: 50.0850 - lr: 0.1000\n",
      "Epoch 28/1000\n",
      "16/16 [==============================] - 3s 182ms/step - loss: 41.4581 - lr: 0.1000\n",
      "Epoch 29/1000\n",
      "16/16 [==============================] - 3s 180ms/step - loss: 41.6204 - lr: 0.1000\n",
      "Epoch 30/1000\n",
      "16/16 [==============================] - 3s 179ms/step - loss: 44.4876 - lr: 0.1000\n",
      "Epoch 31/1000\n",
      "16/16 [==============================] - 3s 175ms/step - loss: 37.3096 - lr: 0.1000\n",
      "Epoch 32/1000\n",
      "16/16 [==============================] - 3s 177ms/step - loss: 41.5372 - lr: 0.1000\n",
      "Epoch 33/1000\n",
      "16/16 [==============================] - 3s 185ms/step - loss: 36.1593 - lr: 0.1000\n",
      "Epoch 34/1000\n",
      "16/16 [==============================] - 3s 173ms/step - loss: 36.3620 - lr: 0.1000\n",
      "Epoch 35/1000\n",
      "16/16 [==============================] - 3s 178ms/step - loss: 35.7404 - lr: 0.1000\n",
      "Epoch 36/1000\n",
      "16/16 [==============================] - 3s 180ms/step - loss: 37.5984 - lr: 0.1000\n",
      "Epoch 37/1000\n",
      "16/16 [==============================] - 3s 182ms/step - loss: 36.7972 - lr: 0.1000\n",
      "Epoch 38/1000\n",
      "16/16 [==============================] - 3s 174ms/step - loss: 34.3841 - lr: 0.1000\n",
      "Epoch 39/1000\n",
      "16/16 [==============================] - 3s 171ms/step - loss: 39.5570 - lr: 0.1000\n",
      "Epoch 40/1000\n",
      "16/16 [==============================] - 3s 174ms/step - loss: 35.3073 - lr: 0.1000\n",
      "Epoch 41/1000\n",
      "16/16 [==============================] - 3s 178ms/step - loss: 39.0771 - lr: 0.1000\n",
      "Epoch 42/1000\n",
      "16/16 [==============================] - 3s 192ms/step - loss: 33.6631 - lr: 0.1000\n",
      "Epoch 43/1000\n",
      "16/16 [==============================] - 3s 173ms/step - loss: 29.0932 - lr: 0.1000\n",
      "Epoch 44/1000\n",
      "16/16 [==============================] - 3s 171ms/step - loss: 35.8334 - lr: 0.1000\n",
      "Epoch 45/1000\n",
      "16/16 [==============================] - 3s 172ms/step - loss: 32.1757 - lr: 0.1000\n",
      "Epoch 46/1000\n",
      "16/16 [==============================] - 3s 168ms/step - loss: 30.0428 - lr: 0.1000\n",
      "Epoch 47/1000\n",
      "16/16 [==============================] - 3s 171ms/step - loss: 31.7772 - lr: 0.1000\n",
      "Epoch 48/1000\n",
      "16/16 [==============================] - 3s 168ms/step - loss: 28.0955 - lr: 0.1000\n",
      "Epoch 49/1000\n",
      "16/16 [==============================] - 3s 174ms/step - loss: 28.1586 - lr: 0.1000\n",
      "Epoch 50/1000\n",
      "16/16 [==============================] - 3s 172ms/step - loss: 27.3740 - lr: 0.1000\n",
      "Epoch 51/1000\n",
      "16/16 [==============================] - 3s 176ms/step - loss: 27.9271 - lr: 0.1000\n",
      "Epoch 52/1000\n",
      "16/16 [==============================] - 3s 172ms/step - loss: 28.6591 - lr: 0.1000\n",
      "Epoch 53/1000\n",
      "16/16 [==============================] - 3s 173ms/step - loss: 28.2535 - lr: 0.1000\n",
      "Epoch 54/1000\n",
      "16/16 [==============================] - 3s 178ms/step - loss: 26.2024 - lr: 0.1000\n",
      "Epoch 55/1000\n",
      "16/16 [==============================] - 3s 175ms/step - loss: 24.5050 - lr: 0.1000\n",
      "Epoch 56/1000\n",
      "16/16 [==============================] - 3s 172ms/step - loss: 24.1294 - lr: 0.1000\n",
      "Epoch 57/1000\n",
      "16/16 [==============================] - 3s 169ms/step - loss: 25.0563 - lr: 0.1000\n",
      "Epoch 58/1000\n",
      "16/16 [==============================] - 3s 169ms/step - loss: 21.3670 - lr: 0.1000\n",
      "Epoch 59/1000\n",
      "16/16 [==============================] - 3s 171ms/step - loss: 22.2562 - lr: 0.1000\n",
      "Epoch 60/1000\n",
      "16/16 [==============================] - 3s 175ms/step - loss: 22.3899 - lr: 0.1000\n",
      "Epoch 61/1000\n",
      "16/16 [==============================] - 3s 171ms/step - loss: 21.3385 - lr: 0.1000\n",
      "Epoch 62/1000\n",
      "16/16 [==============================] - 3s 177ms/step - loss: 21.6902 - lr: 0.1000\n",
      "Epoch 63/1000\n",
      "16/16 [==============================] - 3s 176ms/step - loss: 23.6503 - lr: 0.1000\n",
      "Epoch 64/1000\n",
      "16/16 [==============================] - 3s 171ms/step - loss: 21.9417 - lr: 0.1000\n",
      "Epoch 65/1000\n",
      "16/16 [==============================] - 3s 169ms/step - loss: 22.2367 - lr: 0.1000\n",
      "Epoch 66/1000\n",
      "16/16 [==============================] - 3s 170ms/step - loss: 21.1151 - lr: 0.1000\n",
      "Epoch 67/1000\n",
      "16/16 [==============================] - 3s 169ms/step - loss: 21.7464 - lr: 0.1000\n",
      "Epoch 68/1000\n",
      "16/16 [==============================] - 3s 173ms/step - loss: 21.8480 - lr: 0.1000\n",
      "Epoch 69/1000\n",
      "16/16 [==============================] - 3s 180ms/step - loss: 19.5425 - lr: 0.1000\n",
      "Epoch 70/1000\n",
      "16/16 [==============================] - 3s 173ms/step - loss: 18.8363 - lr: 0.1000\n",
      "Epoch 71/1000\n",
      "16/16 [==============================] - 3s 173ms/step - loss: 18.8774 - lr: 0.1000\n",
      "Epoch 72/1000\n",
      "16/16 [==============================] - 3s 173ms/step - loss: 18.2445 - lr: 0.1000\n",
      "Epoch 73/1000\n",
      "16/16 [==============================] - 3s 169ms/step - loss: 19.2973 - lr: 0.1000\n",
      "Epoch 74/1000\n",
      "16/16 [==============================] - 3s 175ms/step - loss: 17.5629 - lr: 0.1000\n",
      "Epoch 75/1000\n",
      "16/16 [==============================] - 3s 168ms/step - loss: 19.3740 - lr: 0.1000\n",
      "Epoch 76/1000\n",
      "16/16 [==============================] - 3s 173ms/step - loss: 21.8713 - lr: 0.1000\n",
      "Epoch 77/1000\n",
      "16/16 [==============================] - 3s 171ms/step - loss: 17.1415 - lr: 0.1000\n",
      "Epoch 78/1000\n",
      "16/16 [==============================] - 3s 174ms/step - loss: 19.5465 - lr: 0.1000\n",
      "Epoch 79/1000\n",
      "16/16 [==============================] - 3s 171ms/step - loss: 17.7376 - lr: 0.1000\n",
      "Epoch 80/1000\n",
      "16/16 [==============================] - 3s 175ms/step - loss: 15.0628 - lr: 0.1000\n",
      "Epoch 81/1000\n",
      "16/16 [==============================] - 3s 176ms/step - loss: 20.0261 - lr: 0.1000\n",
      "Epoch 82/1000\n",
      "16/16 [==============================] - 3s 169ms/step - loss: 18.6252 - lr: 0.1000\n",
      "Epoch 83/1000\n",
      "16/16 [==============================] - 3s 178ms/step - loss: 20.3975 - lr: 0.1000\n",
      "Epoch 84/1000\n"
     ]
    },
    {
     "name": "stdout",
     "output_type": "stream",
     "text": [
      "16/16 [==============================] - 3s 186ms/step - loss: 15.3879 - lr: 0.1000\n",
      "Epoch 85/1000\n",
      "16/16 [==============================] - 3s 175ms/step - loss: 19.1891 - lr: 0.1000\n",
      "Epoch 86/1000\n",
      "16/16 [==============================] - 3s 172ms/step - loss: 14.9802 - lr: 0.1000\n",
      "Epoch 87/1000\n",
      "16/16 [==============================] - 3s 167ms/step - loss: 16.7089 - lr: 0.1000\n",
      "Epoch 88/1000\n",
      "16/16 [==============================] - 3s 170ms/step - loss: 15.1324 - lr: 0.1000\n",
      "Epoch 89/1000\n",
      "16/16 [==============================] - 3s 181ms/step - loss: 15.0507 - lr: 0.1000\n",
      "Epoch 90/1000\n",
      "16/16 [==============================] - 3s 175ms/step - loss: 15.4262 - lr: 0.1000\n",
      "Epoch 91/1000\n",
      "16/16 [==============================] - 3s 171ms/step - loss: 13.8883 - lr: 0.1000\n",
      "Epoch 92/1000\n",
      "16/16 [==============================] - 3s 179ms/step - loss: 14.6502 - lr: 0.1000\n",
      "Epoch 93/1000\n",
      "16/16 [==============================] - 3s 175ms/step - loss: 14.2833 - lr: 0.1000\n",
      "Epoch 94/1000\n",
      "16/16 [==============================] - 3s 172ms/step - loss: 16.7748 - lr: 0.1000\n",
      "Epoch 95/1000\n",
      "16/16 [==============================] - 3s 171ms/step - loss: 15.8301 - lr: 0.1000\n",
      "Epoch 96/1000\n",
      "16/16 [==============================] - 3s 169ms/step - loss: 15.5903 - lr: 0.1000\n",
      "Epoch 97/1000\n",
      "16/16 [==============================] - 3s 174ms/step - loss: 15.9734 - lr: 0.1000\n",
      "Epoch 98/1000\n",
      "16/16 [==============================] - 3s 177ms/step - loss: 13.2920 - lr: 0.1000\n",
      "Epoch 99/1000\n",
      "16/16 [==============================] - 3s 171ms/step - loss: 12.8289 - lr: 0.1000\n",
      "Epoch 100/1000\n",
      "16/16 [==============================] - 3s 182ms/step - loss: 15.2727 - lr: 0.1000\n",
      "Epoch 101/1000\n",
      "16/16 [==============================] - 3s 181ms/step - loss: 12.8557 - lr: 0.1000\n",
      "Epoch 102/1000\n",
      "16/16 [==============================] - 3s 177ms/step - loss: 14.0829 - lr: 0.1000\n",
      "Epoch 103/1000\n",
      "16/16 [==============================] - 3s 177ms/step - loss: 9.3932 - lr: 0.1000\n",
      "Epoch 104/1000\n",
      "16/16 [==============================] - 3s 171ms/step - loss: 14.4868 - lr: 0.1000\n",
      "Epoch 105/1000\n",
      "16/16 [==============================] - 3s 177ms/step - loss: 11.4335 - lr: 0.1000\n",
      "Epoch 106/1000\n",
      "16/16 [==============================] - 3s 177ms/step - loss: 10.2862 - lr: 0.1000\n",
      "Epoch 107/1000\n",
      "16/16 [==============================] - 3s 173ms/step - loss: 10.7895 - lr: 0.1000\n",
      "Epoch 108/1000\n",
      "16/16 [==============================] - 3s 169ms/step - loss: 13.9625 - lr: 0.1000\n",
      "Epoch 109/1000\n",
      "16/16 [==============================] - 3s 175ms/step - loss: 13.2178 - lr: 0.1000\n",
      "Epoch 110/1000\n",
      "16/16 [==============================] - 3s 177ms/step - loss: 12.0831 - lr: 0.1000\n",
      "Epoch 111/1000\n",
      "16/16 [==============================] - 3s 172ms/step - loss: 11.4788 - lr: 0.1000\n",
      "Epoch 112/1000\n",
      "16/16 [==============================] - 3s 171ms/step - loss: 13.1586 - lr: 0.1000\n",
      "Epoch 113/1000\n",
      "16/16 [==============================] - 3s 178ms/step - loss: 12.4469 - lr: 0.1000\n",
      "Epoch 114/1000\n",
      "16/16 [==============================] - 3s 173ms/step - loss: 13.1506 - lr: 0.0100\n",
      "Epoch 115/1000\n",
      "16/16 [==============================] - 3s 176ms/step - loss: 11.8797 - lr: 0.0100\n",
      "Epoch 116/1000\n",
      "16/16 [==============================] - 3s 176ms/step - loss: 11.9450 - lr: 0.0100\n",
      "Epoch 117/1000\n",
      "16/16 [==============================] - 3s 173ms/step - loss: 11.6723 - lr: 0.0100\n",
      "Epoch 118/1000\n",
      "16/16 [==============================] - 3s 171ms/step - loss: 9.5305 - lr: 0.0100\n",
      "Epoch 119/1000\n",
      "16/16 [==============================] - 3s 182ms/step - loss: 11.2980 - lr: 0.0100\n",
      "Epoch 120/1000\n",
      "16/16 [==============================] - 3s 172ms/step - loss: 10.4613 - lr: 0.0100\n",
      "Epoch 121/1000\n",
      "16/16 [==============================] - 3s 181ms/step - loss: 10.8713 - lr: 0.0100\n",
      "Epoch 122/1000\n",
      "16/16 [==============================] - 3s 171ms/step - loss: 10.3092 - lr: 0.0100\n",
      "Epoch 123/1000\n",
      "16/16 [==============================] - 3s 178ms/step - loss: 10.3934 - lr: 0.0100\n"
     ]
    }
   ],
   "source": [
    "from tensorflow.keras.callbacks import EarlyStopping, ReduceLROnPlateau\n",
    "\n",
    "history = model.fit(\n",
    "    word2vec_sequence,\n",
    "    steps_per_epoch=word2vec_sequence.steps_per_epoch,\n",
    "    epochs=1000,\n",
    "    callbacks=[\n",
    "        EarlyStopping(\n",
    "            \"loss\",\n",
    "            min_delta=delta,\n",
    "            patience=patience,\n",
    "            restore_best_weights=True\n",
    "        ),\n",
    "        ReduceLROnPlateau(monitor=\"loss\", patience=patience//2)\n",
    "    ]\n",
    ")"
   ]
  },
  {
   "cell_type": "markdown",
   "metadata": {},
   "source": [
    "### Plotting the history\n",
    "We plot the training history:"
   ]
  },
  {
   "cell_type": "code",
   "execution_count": 9,
   "metadata": {},
   "outputs": [
    {
     "data": {
      "image/png": "[encoded data removed]",
      "text/plain": [
       "<Figure size 720x360 with 2 Axes>"
      ]
     },
     "metadata": {
      "needs_background": "light"
     },
     "output_type": "display_data"
    }
   ],
   "source": [
    "from plot_keras_history import plot_history\n",
    "plot_history(history)"
   ]
  },
  {
   "cell_type": "markdown",
   "metadata": {},
   "source": [
    "## Computing the cosine similarities"
   ]
  },
  {
   "cell_type": "code",
   "execution_count": 10,
   "metadata": {},
   "outputs": [],
   "source": [
    "from sklearn.metrics.pairwise import cosine_similarity\n",
    "similarities = cosine_similarity(model.embedding)"
   ]
  },
  {
   "cell_type": "code",
   "execution_count": 13,
   "metadata": {},
   "outputs": [
    {
     "data": {
      "text/plain": [
       "['two 278 impoverish nostra ethyl billie origin courthouse original one']"
      ]
     },
     "execution_count": 13,
     "metadata": {},
     "output_type": "execute_result"
    }
   ],
   "source": [
    "word = \"one\"\n",
    "similarity = similarities[transformer.get_word_id(transformer.get_synonim(word))]\n",
    "transformer.reverse_transform([\n",
    "    similarity.argsort()[-10:]\n",
    "])"
   ]
  },
  {
   "cell_type": "code",
   "execution_count": 14,
   "metadata": {},
   "outputs": [
    {
     "data": {
      "text/plain": [
       "array([0.60983264, 0.61272895, 0.61666757, 0.6209198 , 0.6264574 ,\n",
       "       0.6283671 , 0.6699164 , 0.67266273, 0.85760397, 1.        ],\n",
       "      dtype=float32)"
      ]
     },
     "execution_count": 14,
     "metadata": {},
     "output_type": "execute_result"
    }
   ],
   "source": [
    "similarity[similarity.argsort()[-10:]]"
   ]
  },
  {
   "cell_type": "code",
   "execution_count": null,
   "metadata": {},
   "outputs": [],
   "source": []
  }
 ],
 "metadata": {
  "kernelspec": {
   "display_name": "Python 3",
   "language": "python",
   "name": "python3"
  },
  "language_info": {
   "codemirror_mode": {
    "name": "ipython",
    "version": 3
   },
   "file_extension": ".py",
   "mimetype": "text/x-python",
   "name": "python",
   "nbconvert_exporter": "python",
   "pygments_lexer": "ipython3",
   "version": "3.7.6"
  }
 },
 "nbformat": 4,
 "nbformat_minor": 4
}
