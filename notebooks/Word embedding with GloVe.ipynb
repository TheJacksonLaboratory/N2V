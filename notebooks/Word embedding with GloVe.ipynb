{
 "cells": [
  {
   "cell_type": "markdown",
   "metadata": {},
   "source": [
    "# Word embedding using GloVe\n",
    "[GloVe embeddings are global embeddings](https://www.aclweb.org/anthology/D14-1162.pdf_). A GloVe model tries to predict, given two elements out of the corpus vocabulary, their cooccurrence frequency.\n",
    "\n",
    "GloVe model do not scale nicely with the vocabulary size, as the cooccurrence matrix requires to be fully rendered (clearly as a CSR) before the model is trained, hence occupying a significant memory portion on huge texts."
   ]
  },
  {
   "cell_type": "code",
   "execution_count": 1,
   "metadata": {},
   "outputs": [],
   "source": [
    "import silence_tensorflow.auto # Import needed to avoid TensorFlow warnings and general useless infos."
   ]
  },
  {
   "cell_type": "markdown",
   "metadata": {},
   "source": [
    "## The parameters for this example\n",
    "We are going to use as batch size $512$, the number of texts to use for each training epoch. The result embedding size, the space of the resulting vectors, is $100$. The window size is $3$, meaning the context will be formed of the four words after and before the one we are considering as the center. \n",
    "\n",
    "The negative samples are the number of samples to randomly extract as negatives during the NCE. We are going to use $10$ for these values. \n",
    "\n",
    "Relative to the early stopping mechanism, we are going to monitor the training loss, using a variation delta $0.0001$ and a patience of $50$ epochs."
   ]
  },
  {
   "cell_type": "code",
   "execution_count": 28,
   "metadata": {},
   "outputs": [],
   "source": [
    "batch_size = 2**14\n",
    "embedding_size = 30\n",
    "window_size=10\n",
    "delta=0.00001\n",
    "patience=20\n",
    "min_counts=5"
   ]
  },
  {
   "cell_type": "markdown",
   "metadata": {},
   "source": [
    "## Using NLTK\n",
    "Since we are going to use NLTK, other than installing the package, don't forget to also [execute the download of the data related to the package](https://www.nltk.org/data.html), such as the stopwords:\n",
    "\n",
    "```bash\n",
    "python -m nltk.downloader all\n",
    "```\n",
    "\n",
    "NLTK is a library with *many* tools for executing NLP, that here we are not exploring in the necessary depth.\n",
    "\n",
    "Before starting to write your custom tokenizer, please to look into NLTK and choose the tools and are useful for your use case."
   ]
  },
  {
   "cell_type": "markdown",
   "metadata": {},
   "source": [
    "## Loading the texts\n",
    "Here we are going to take in consideration the Hillary emails:"
   ]
  },
  {
   "cell_type": "code",
   "execution_count": 3,
   "metadata": {},
   "outputs": [],
   "source": [
    "import pandas as pd\n",
    "import numpy as np\n",
    "emails = pd.read_csv(\"../data/texts/Emails.csv\")[\"RawText\"].tolist()"
   ]
  },
  {
   "cell_type": "markdown",
   "metadata": {},
   "source": [
    "## Encoding the texts"
   ]
  },
  {
   "cell_type": "markdown",
   "metadata": {},
   "source": [
    "Here we use the [the Keras Tokenizer](https://keras.io/api/preprocessing/text/). This tokenizer **is NOT by any means complete** and should only be used for examples and educational porposes.\n",
    "\n",
    "In this **very simple** tokenizer, we apply stemming using Porter stemming and drop english stop words.\n",
    "\n",
    "For any real world application, you will also need a custom synonims' dictionary: here we are using a general porpose synonims dictionary that may apply or not in your own application."
   ]
  },
  {
   "cell_type": "code",
   "execution_count": 4,
   "metadata": {},
   "outputs": [
    {
     "data": {
      "application/vnd.jupyter.widget-view+json": {
       "model_id": "ea3f82a6ff3e474dbd910eaeee4d9a62",
       "version_major": 2,
       "version_minor": 0
      },
      "text/plain": [
       "HBox(children=(FloatProgress(value=0.0, description='Tokenizing', max=7945.0, style=ProgressStyle(description_…"
      ]
     },
     "metadata": {},
     "output_type": "display_data"
    },
    {
     "name": "stdout",
     "output_type": "stream",
     "text": [
      "\n"
     ]
    },
    {
     "data": {
      "application/vnd.jupyter.widget-view+json": {
       "model_id": "48708ba78f704b6b9e821cb46b988748",
       "version_major": 2,
       "version_minor": 0
      },
      "text/plain": [
       "HBox(children=(FloatProgress(value=0.0, description='Tokenizing', max=7945.0, style=ProgressStyle(description_…"
      ]
     },
     "metadata": {},
     "output_type": "display_data"
    },
    {
     "name": "stdout",
     "output_type": "stream",
     "text": [
      "\n"
     ]
    },
    {
     "data": {
      "application/vnd.jupyter.widget-view+json": {
       "model_id": "a7d46b21f2334fbd8b5927b52bf97710",
       "version_major": 2,
       "version_minor": 0
      },
      "text/plain": [
       "HBox(children=(FloatProgress(value=0.0, description='Tokenizing', max=7945.0, style=ProgressStyle(description_…"
      ]
     },
     "metadata": {},
     "output_type": "display_data"
    },
    {
     "name": "stdout",
     "output_type": "stream",
     "text": [
      "\n"
     ]
    }
   ],
   "source": [
    "from embiggen import CorpusTransformer\n",
    "\n",
    "transformer = CorpusTransformer()\n",
    "transformer.fit(emails, min_count=min_counts)\n",
    "encoded_emails = transformer.transform(emails, min_length=window_size*2+1)"
   ]
  },
  {
   "cell_type": "code",
   "execution_count": 5,
   "metadata": {},
   "outputs": [
    {
     "name": "stdout",
     "output_type": "stream",
     "text": [
      "The transformer will use 16064 different terms.\n"
     ]
    }
   ],
   "source": [
    "print(f\"The transformer will use {transformer.vocabulary_size} different terms.\")"
   ]
  },
  {
   "cell_type": "markdown",
   "metadata": {},
   "source": [
    "## Creating the training data\n",
    "We create the training data as the CSR representation of the cooccurrence matrix:"
   ]
  },
  {
   "cell_type": "code",
   "execution_count": 7,
   "metadata": {},
   "outputs": [],
   "source": [
    "from ensmallen_graph import preprocessing\n",
    "\n",
    "words, ctxs, freq = preprocessing.cooccurence_matrix(\n",
    "    encoded_emails,\n",
    "    window_size=window_size,\n",
    "    verbose=False\n",
    ")"
   ]
  },
  {
   "cell_type": "markdown",
   "metadata": {},
   "source": [
    "## Creating the embedding model\n",
    "Here, finally, we create the embedding model. If available, we setup the model so to run on multiple GPUs:"
   ]
  },
  {
   "cell_type": "code",
   "execution_count": 29,
   "metadata": {},
   "outputs": [
    {
     "name": "stdout",
     "output_type": "stream",
     "text": [
      "Model: \"GloVe\"\n",
      "__________________________________________________________________________________________________\n",
      "Layer (type)                    Output Shape         Param #     Connected to                     \n",
      "==================================================================================================\n",
      "words_embedding (InputLayer)    [(None, 1)]          0                                            \n",
      "__________________________________________________________________________________________________\n",
      "input_5 (InputLayer)            [(None, 1)]          0                                            \n",
      "__________________________________________________________________________________________________\n",
      "embedding_16 (Embedding)        (None, 1, 30)        481920      words_embedding[0][0]            \n",
      "__________________________________________________________________________________________________\n",
      "embedding_17 (Embedding)        (None, 1, 30)        481920      input_5[0][0]                    \n",
      "__________________________________________________________________________________________________\n",
      "dot_4 (Dot)                     (None, 1, 1)         0           embedding_16[0][0]               \n",
      "                                                                 embedding_17[0][0]               \n",
      "__________________________________________________________________________________________________\n",
      "embedding_18 (Embedding)        (None, 1, 1)         16064       words_embedding[0][0]            \n",
      "__________________________________________________________________________________________________\n",
      "embedding_19 (Embedding)        (None, 1, 1)         16064       input_5[0][0]                    \n",
      "__________________________________________________________________________________________________\n",
      "add_4 (Add)                     (None, 1, 1)         0           dot_4[0][0]                      \n",
      "                                                                 embedding_18[0][0]               \n",
      "                                                                 embedding_19[0][0]               \n",
      "__________________________________________________________________________________________________\n",
      "flatten_4 (Flatten)             (None, 1)            0           add_4[0][0]                      \n",
      "==================================================================================================\n",
      "Total params: 995,968\n",
      "Trainable params: 995,968\n",
      "Non-trainable params: 0\n",
      "__________________________________________________________________________________________________\n"
     ]
    }
   ],
   "source": [
    "from tensorflow.distribute import MirroredStrategy\n",
    "from embiggen import GloVe\n",
    "from tensorflow.keras.optimizers import Nadam\n",
    "\n",
    "strategy = MirroredStrategy()\n",
    "with strategy.scope():\n",
    "    model = GloVe(\n",
    "        vocabulary_size=transformer.vocabulary_size,\n",
    "        embedding_size=embedding_size,\n",
    "    )\n",
    "\n",
    "model.summary()"
   ]
  },
  {
   "cell_type": "markdown",
   "metadata": {},
   "source": [
    "### Training the embedding model\n",
    "Now here we execute the training of the embedding model:"
   ]
  },
  {
   "cell_type": "code",
   "execution_count": 30,
   "metadata": {
    "scrolled": true
   },
   "outputs": [
    {
     "name": "stdout",
     "output_type": "stream",
     "text": [
      "Epoch 1/1000\n",
      "387/387 [==============================] - 3s 7ms/step - loss: 0.0353 - lr: 0.0010\n",
      "Epoch 2/1000\n",
      "387/387 [==============================] - 3s 7ms/step - loss: 0.0178 - lr: 0.0010\n",
      "Epoch 3/1000\n",
      "387/387 [==============================] - 3s 7ms/step - loss: 0.0069 - lr: 0.0010\n",
      "Epoch 4/1000\n",
      "387/387 [==============================] - 3s 7ms/step - loss: 0.0042 - lr: 0.0010\n",
      "Epoch 5/1000\n",
      "387/387 [==============================] - 3s 7ms/step - loss: 0.0031 - lr: 0.0010\n",
      "Epoch 6/1000\n",
      "387/387 [==============================] - 3s 7ms/step - loss: 0.0024 - lr: 0.0010\n",
      "Epoch 7/1000\n",
      "387/387 [==============================] - 3s 7ms/step - loss: 0.0020 - lr: 0.0010\n",
      "Epoch 8/1000\n",
      "387/387 [==============================] - 3s 7ms/step - loss: 0.0018 - lr: 0.0010\n",
      "Epoch 9/1000\n",
      "387/387 [==============================] - 3s 7ms/step - loss: 0.0016 - lr: 0.0010\n",
      "Epoch 10/1000\n",
      "387/387 [==============================] - 3s 7ms/step - loss: 0.0014 - lr: 0.0010\n",
      "Epoch 11/1000\n",
      "387/387 [==============================] - 3s 7ms/step - loss: 0.0013 - lr: 0.0010\n",
      "Epoch 12/1000\n",
      "387/387 [==============================] - 3s 7ms/step - loss: 0.0013 - lr: 0.0010\n",
      "Epoch 13/1000\n",
      "387/387 [==============================] - 3s 7ms/step - loss: 0.0012 - lr: 0.0010\n",
      "Epoch 14/1000\n",
      "387/387 [==============================] - 3s 7ms/step - loss: 0.0011 - lr: 0.0010\n",
      "Epoch 15/1000\n",
      "387/387 [==============================] - 3s 7ms/step - loss: 0.0011 - lr: 0.0010\n",
      "Epoch 16/1000\n",
      "387/387 [==============================] - 3s 7ms/step - loss: 0.0010 - lr: 0.0010\n",
      "Epoch 17/1000\n",
      "387/387 [==============================] - 3s 7ms/step - loss: 9.9826e-04 - lr: 0.0010\n",
      "Epoch 18/1000\n",
      "387/387 [==============================] - 3s 7ms/step - loss: 9.6276e-04 - lr: 0.0010\n",
      "Epoch 19/1000\n",
      "387/387 [==============================] - 3s 7ms/step - loss: 9.3105e-04 - lr: 0.0010\n",
      "Epoch 20/1000\n",
      "387/387 [==============================] - 3s 7ms/step - loss: 9.0250e-04 - lr: 0.0010\n",
      "Epoch 21/1000\n",
      "387/387 [==============================] - 3s 7ms/step - loss: 8.7650e-04 - lr: 0.0010\n",
      "Epoch 22/1000\n",
      "387/387 [==============================] - 3s 7ms/step - loss: 8.5291e-04 - lr: 0.0010\n",
      "Epoch 23/1000\n",
      "387/387 [==============================] - 3s 7ms/step - loss: 8.3086e-04 - lr: 0.0010\n",
      "Epoch 24/1000\n",
      "387/387 [==============================] - 3s 7ms/step - loss: 8.1043e-04 - lr: 0.0010\n",
      "Epoch 25/1000\n",
      "387/387 [==============================] - 3s 7ms/step - loss: 7.9123e-04 - lr: 0.0010\n",
      "Epoch 26/1000\n",
      "387/387 [==============================] - 3s 7ms/step - loss: 7.7320e-04 - lr: 0.0010\n",
      "Epoch 27/1000\n",
      "387/387 [==============================] - 3s 7ms/step - loss: 7.5614e-04 - lr: 0.0010\n",
      "Epoch 28/1000\n",
      "387/387 [==============================] - 3s 7ms/step - loss: 7.4135e-04 - lr: 1.0000e-04\n",
      "Epoch 29/1000\n",
      "387/387 [==============================] - 3s 7ms/step - loss: 7.3920e-04 - lr: 1.0000e-04\n",
      "Epoch 30/1000\n",
      "387/387 [==============================] - 3s 7ms/step - loss: 7.3737e-04 - lr: 1.0000e-04\n",
      "Epoch 31/1000\n",
      "387/387 [==============================] - 3s 7ms/step - loss: 7.3568e-04 - lr: 1.0000e-04\n",
      "Epoch 32/1000\n",
      "387/387 [==============================] - 3s 7ms/step - loss: 7.3405e-04 - lr: 1.0000e-04\n",
      "Epoch 33/1000\n",
      "387/387 [==============================] - 3s 7ms/step - loss: 7.3245e-04 - lr: 1.0000e-04\n",
      "Epoch 34/1000\n",
      "387/387 [==============================] - 3s 7ms/step - loss: 7.3077e-04 - lr: 1.0000e-05\n",
      "Epoch 35/1000\n",
      "387/387 [==============================] - 3s 7ms/step - loss: 7.3061e-04 - lr: 1.0000e-05\n",
      "Epoch 36/1000\n",
      "387/387 [==============================] - 3s 7ms/step - loss: 7.3046e-04 - lr: 1.0000e-05\n",
      "Epoch 37/1000\n",
      "387/387 [==============================] - 3s 7ms/step - loss: 7.3030e-04 - lr: 1.0000e-05\n",
      "Epoch 38/1000\n",
      "387/387 [==============================] - 3s 7ms/step - loss: 7.3015e-04 - lr: 1.0000e-05\n",
      "Epoch 39/1000\n",
      "387/387 [==============================] - 3s 7ms/step - loss: 7.2998e-04 - lr: 1.0000e-06\n",
      "Epoch 40/1000\n",
      "387/387 [==============================] - 3s 7ms/step - loss: 7.2996e-04 - lr: 1.0000e-06\n",
      "Epoch 41/1000\n",
      "387/387 [==============================] - 3s 7ms/step - loss: 7.2995e-04 - lr: 1.0000e-06\n",
      "Epoch 42/1000\n",
      "387/387 [==============================] - 3s 7ms/step - loss: 7.2993e-04 - lr: 1.0000e-06\n",
      "Epoch 43/1000\n",
      "387/387 [==============================] - 3s 7ms/step - loss: 7.2992e-04 - lr: 1.0000e-06\n",
      "Epoch 44/1000\n",
      "387/387 [==============================] - 3s 7ms/step - loss: 7.2990e-04 - lr: 1.0000e-07\n",
      "Epoch 45/1000\n",
      "387/387 [==============================] - 3s 7ms/step - loss: 7.2990e-04 - lr: 1.0000e-07\n",
      "Epoch 46/1000\n",
      "387/387 [==============================] - 3s 7ms/step - loss: 7.2990e-04 - lr: 1.0000e-07\n",
      "Epoch 47/1000\n",
      "387/387 [==============================] - 3s 7ms/step - loss: 7.2990e-04 - lr: 1.0000e-07\n",
      "Epoch 48/1000\n",
      "387/387 [==============================] - 3s 7ms/step - loss: 7.2989e-04 - lr: 1.0000e-07\n",
      "Epoch 49/1000\n",
      "387/387 [==============================] - 3s 7ms/step - loss: 7.2989e-04 - lr: 1.0000e-08\n",
      "Epoch 50/1000\n",
      "387/387 [==============================] - 3s 7ms/step - loss: 7.2989e-04 - lr: 1.0000e-08\n",
      "Epoch 51/1000\n",
      "387/387 [==============================] - 3s 7ms/step - loss: 7.2989e-04 - lr: 1.0000e-08\n",
      "Epoch 52/1000\n",
      "387/387 [==============================] - 3s 7ms/step - loss: 7.2989e-04 - lr: 1.0000e-08\n",
      "Epoch 53/1000\n",
      "387/387 [==============================] - 3s 7ms/step - loss: 7.2989e-04 - lr: 1.0000e-08\n",
      "Epoch 54/1000\n",
      "387/387 [==============================] - 3s 7ms/step - loss: 7.2989e-04 - lr: 1.0000e-09\n"
     ]
    }
   ],
   "source": [
    "from tensorflow.keras.callbacks import EarlyStopping, ReduceLROnPlateau\n",
    "\n",
    "history = model.fit(\n",
    "    (words, ctxs), freq,\n",
    "    epochs=1000,\n",
    "    batch_size=batch_size,\n",
    "    callbacks=[\n",
    "        EarlyStopping(\n",
    "            \"loss\",\n",
    "            min_delta=delta,\n",
    "            patience=patience,\n",
    "            restore_best_weights=True\n",
    "        ),\n",
    "        ReduceLROnPlateau(monitor=\"loss\", patience=patience//2)\n",
    "    ]\n",
    ")"
   ]
  },
  {
   "cell_type": "markdown",
   "metadata": {},
   "source": [
    "### Plotting the history\n",
    "We plot the training history:"
   ]
  },
  {
   "cell_type": "code",
   "execution_count": 31,
   "metadata": {},
   "outputs": [
    {
     "data": {
      "image/png": "[encoded data removed]",
      "text/plain": [
       "<Figure size 720x360 with 2 Axes>"
      ]
     },
     "metadata": {
      "needs_background": "light"
     },
     "output_type": "display_data"
    }
   ],
   "source": [
    "from plot_keras_history import plot_history\n",
    "plot_history(history)"
   ]
  },
  {
   "cell_type": "markdown",
   "metadata": {},
   "source": [
    "## Computing the cosine similarities"
   ]
  },
  {
   "cell_type": "code",
   "execution_count": 35,
   "metadata": {},
   "outputs": [],
   "source": [
    "from sklearn.metrics.pairwise import cosine_similarity\n",
    "similarities = cosine_similarity(model.embedding)"
   ]
  },
  {
   "cell_type": "code",
   "execution_count": 36,
   "metadata": {},
   "outputs": [
    {
     "data": {
      "text/plain": [
       "['abedin best office go security — original raise millscd one']"
      ]
     },
     "execution_count": 36,
     "metadata": {},
     "output_type": "execute_result"
    }
   ],
   "source": [
    "word = \"one\"\n",
    "similarity = similarities[transformer.get_word_id(transformer.get_synonim(word))]\n",
    "transformer.reverse_transform([\n",
    "    similarity.argsort()[-10:]\n",
    "])"
   ]
  },
  {
   "cell_type": "code",
   "execution_count": 37,
   "metadata": {},
   "outputs": [
    {
     "data": {
      "text/plain": [
       "array([0.9443527 , 0.94543827, 0.94576085, 0.94579947, 0.9460854 ,\n",
       "       0.9464254 , 0.94704115, 0.9503475 , 0.951759  , 1.        ],\n",
       "      dtype=float32)"
      ]
     },
     "execution_count": 37,
     "metadata": {},
     "output_type": "execute_result"
    }
   ],
   "source": [
    "similarity[similarity.argsort()[-10:]]"
   ]
  }
 ],
 "metadata": {
  "kernelspec": {
   "display_name": "Python 3",
   "language": "python",
   "name": "python3"
  },
  "language_info": {
   "codemirror_mode": {
    "name": "ipython",
    "version": 3
   },
   "file_extension": ".py",
   "mimetype": "text/x-python",
   "name": "python",
   "nbconvert_exporter": "python",
   "pygments_lexer": "ipython3",
   "version": "3.7.6"
  }
 },
 "nbformat": 4,
 "nbformat_minor": 4
}
