{
 "cells": [
  {
   "cell_type": "markdown",
   "metadata": {},
   "source": [
    "# Word embedding using SkipGram\n",
    "The SkipGram model predicts the context using the central word.\n",
    "\n",
    "In our implementatation, as for both the Binary SkipGram model and the CBOW model, since the batches walks are lazily generated, the memory requirements are minimal and the method can scale to very big texts."
   ]
  },
  {
   "cell_type": "code",
   "execution_count": 1,
   "metadata": {},
   "outputs": [],
   "source": [
    "import silence_tensorflow.auto # Import needed to avoid TensorFlow warnings and general useless infos."
   ]
  },
  {
   "cell_type": "markdown",
   "metadata": {},
   "source": [
    "## The parameters for this example\n",
    "We are going to use as batch size $512$, the number of texts to use for each training epoch. The result embedding size, the space of the resulting vectors, is $100$. The window size is $3$, meaning the context will be formed of the four words after and before the one we are considering as the center. \n",
    "\n",
    "The negative samples are the number of samples to randomly extract as negatives during the NCE. We are going to use $10$ for these values. \n",
    "\n",
    "Relative to the early stopping mechanism, we are going to monitor the training loss, using a variation delta $0.0001$ and a patience of $50$ epochs."
   ]
  },
  {
   "cell_type": "code",
   "execution_count": 2,
   "metadata": {},
   "outputs": [],
   "source": [
    "batch_size = 128\n",
    "embedding_size = 30\n",
    "window_size=10\n",
    "negative_samples=20\n",
    "delta=0.0001\n",
    "patience=20\n",
    "min_counts=5"
   ]
  },
  {
   "cell_type": "markdown",
   "metadata": {},
   "source": [
    "## Using NLTK\n",
    "Since we are going to use NLTK, other than installing the package, don't forget to also [execute the download of the data related to the package](https://www.nltk.org/data.html), such as the stopwords:\n",
    "\n",
    "```bash\n",
    "python -m nltk.downloader all\n",
    "```\n",
    "\n",
    "NLTK is a library with *many* tools for executing NLP, that here we are not exploring in the necessary depth.\n",
    "\n",
    "Before starting to write your custom tokenizer, please to look into NLTK and choose the tools and are useful for your use case."
   ]
  },
  {
   "cell_type": "markdown",
   "metadata": {},
   "source": [
    "## Loading the texts\n",
    "Here we are going to take in consideration the Hillary emails:"
   ]
  },
  {
   "cell_type": "code",
   "execution_count": 3,
   "metadata": {},
   "outputs": [],
   "source": [
    "import pandas as pd\n",
    "import numpy as np\n",
    "emails = pd.read_csv(\"../data/texts/Emails.csv\")[\"RawText\"].tolist()"
   ]
  },
  {
   "cell_type": "markdown",
   "metadata": {},
   "source": [
    "## Encoding the texts"
   ]
  },
  {
   "cell_type": "markdown",
   "metadata": {},
   "source": [
    "Here we use the [the Keras Tokenizer](https://keras.io/api/preprocessing/text/). This tokenizer **is NOT by any means complete** and should only be used for examples and educational porposes.\n",
    "\n",
    "In this **very simple** tokenizer, we apply stemming using Porter stemming and drop english stop words.\n",
    "\n",
    "For any real world application, you will also need a custom synonyms' dictionary: here we are using a general porpose synonyms dictionary that may apply or not in your own application."
   ]
  },
  {
   "cell_type": "code",
   "execution_count": 4,
   "metadata": {},
   "outputs": [
    {
     "data": {
      "application/vnd.jupyter.widget-view+json": {
       "model_id": "6600c28b9957435ba6c53cc3502cc1c6",
       "version_major": 2,
       "version_minor": 0
      },
      "text/plain": [
       "HBox(children=(FloatProgress(value=0.0, description='Tokenizing', max=7945.0, style=ProgressStyle(description_…"
      ]
     },
     "metadata": {},
     "output_type": "display_data"
    },
    {
     "name": "stdout",
     "output_type": "stream",
     "text": [
      "\n"
     ]
    },
    {
     "data": {
      "application/vnd.jupyter.widget-view+json": {
       "model_id": "f827af2da6484fe1b1a68bfeb7a0dc68",
       "version_major": 2,
       "version_minor": 0
      },
      "text/plain": [
       "HBox(children=(FloatProgress(value=0.0, description='Tokenizing', max=7945.0, style=ProgressStyle(description_…"
      ]
     },
     "metadata": {},
     "output_type": "display_data"
    },
    {
     "name": "stdout",
     "output_type": "stream",
     "text": [
      "\n"
     ]
    },
    {
     "data": {
      "application/vnd.jupyter.widget-view+json": {
       "model_id": "bb9963af6f13494f9bf5834333e10634",
       "version_major": 2,
       "version_minor": 0
      },
      "text/plain": [
       "HBox(children=(FloatProgress(value=0.0, description='Tokenizing', max=7945.0, style=ProgressStyle(description_…"
      ]
     },
     "metadata": {},
     "output_type": "display_data"
    },
    {
     "name": "stdout",
     "output_type": "stream",
     "text": [
      "\n"
     ]
    }
   ],
   "source": [
    "from embiggen import CorpusTransformer\n",
    "\n",
    "transformer = CorpusTransformer()\n",
    "transformer.fit(emails, min_count=min_counts)\n",
    "encoded_emails = transformer.transform(emails, min_length=window_size*2+1)"
   ]
  },
  {
   "cell_type": "code",
   "execution_count": 5,
   "metadata": {},
   "outputs": [
    {
     "name": "stdout",
     "output_type": "stream",
     "text": [
      "The transformer will use 16064 different terms.\n"
     ]
    }
   ],
   "source": [
    "print(f\"The transformer will use {transformer.vocabulary_size} different terms.\")"
   ]
  },
  {
   "cell_type": "markdown",
   "metadata": {},
   "source": [
    "## Creating the training sequences\n",
    "We create the training sequence:"
   ]
  },
  {
   "cell_type": "code",
   "execution_count": 6,
   "metadata": {},
   "outputs": [],
   "source": [
    "from embiggen import Word2VecSequence\n",
    "\n",
    "word2vec_sequence = Word2VecSequence(\n",
    "    encoded_emails,\n",
    "    batch_size=batch_size,\n",
    "    window_size=window_size\n",
    ")"
   ]
  },
  {
   "cell_type": "markdown",
   "metadata": {},
   "source": [
    "## Creating the embedding model\n",
    "Here, finally, we create the embedding model. If available, we setup the model so to run on multiple GPUs:"
   ]
  },
  {
   "cell_type": "code",
   "execution_count": 12,
   "metadata": {},
   "outputs": [
    {
     "name": "stdout",
     "output_type": "stream",
     "text": [
      "Model: \"SkipGram\"\n",
      "__________________________________________________________________________________________________\n",
      "Layer (type)                    Output Shape         Param #     Connected to                     \n",
      "==================================================================================================\n",
      "words_embedding (InputLayer)    [(None, 1)]          0                                            \n",
      "__________________________________________________________________________________________________\n",
      "embedding_2 (Embedding)         (None, 1, 30)        481920      words_embedding[0][0]            \n",
      "__________________________________________________________________________________________________\n",
      "flatten_2 (Flatten)             (None, 30)           0           embedding_2[0][0]                \n",
      "__________________________________________________________________________________________________\n",
      "input_3 (InputLayer)            [(None, 20)]         0                                            \n",
      "__________________________________________________________________________________________________\n",
      "noise_contrastive_estimation_2  (None, 16064)        497984      flatten_2[0][0]                  \n",
      "                                                                 input_3[0][0]                    \n",
      "==================================================================================================\n",
      "Total params: 979,904\n",
      "Trainable params: 979,904\n",
      "Non-trainable params: 0\n",
      "__________________________________________________________________________________________________\n"
     ]
    }
   ],
   "source": [
    "from tensorflow.distribute import MirroredStrategy\n",
    "from embiggen import SkipGram\n",
    "from tensorflow.keras.optimizers import Nadam\n",
    "\n",
    "strategy = MirroredStrategy()\n",
    "with strategy.scope():\n",
    "    model = SkipGram(\n",
    "        vocabulary_size=transformer.vocabulary_size,\n",
    "        embedding_size=embedding_size,\n",
    "        optimizer=Nadam(0.1),\n",
    "        window_size=window_size,\n",
    "        negative_samples=negative_samples,\n",
    "    )\n",
    "\n",
    "model.summary()"
   ]
  },
  {
   "cell_type": "markdown",
   "metadata": {},
   "source": [
    "### Training the embedding model\n",
    "Now here we execute the training of the embedding model:"
   ]
  },
  {
   "cell_type": "code",
   "execution_count": 13,
   "metadata": {
    "scrolled": true
   },
   "outputs": [
    {
     "name": "stdout",
     "output_type": "stream",
     "text": [
      "Epoch 1/1000\n",
      "63/63 [==============================] - 4s 70ms/step - loss: 30.7718 - lr: 0.1000\n",
      "Epoch 2/1000\n",
      "63/63 [==============================] - 4s 69ms/step - loss: 7.0196 - lr: 0.1000\n",
      "Epoch 3/1000\n",
      "63/63 [==============================] - 4s 71ms/step - loss: 6.3107 - lr: 0.1000\n",
      "Epoch 4/1000\n",
      "63/63 [==============================] - 4s 69ms/step - loss: 6.2308 - lr: 0.1000\n",
      "Epoch 5/1000\n",
      "63/63 [==============================] - 4s 69ms/step - loss: 6.1465 - lr: 0.1000\n",
      "Epoch 6/1000\n",
      "63/63 [==============================] - 4s 69ms/step - loss: 6.0734 - lr: 0.1000\n",
      "Epoch 7/1000\n",
      "63/63 [==============================] - 4s 70ms/step - loss: 6.1064 - lr: 0.1000\n",
      "Epoch 8/1000\n",
      "63/63 [==============================] - 4s 70ms/step - loss: 6.0308 - lr: 0.1000\n",
      "Epoch 9/1000\n",
      "63/63 [==============================] - 4s 69ms/step - loss: 5.9084 - lr: 0.1000\n",
      "Epoch 10/1000\n",
      "63/63 [==============================] - 4s 71ms/step - loss: 5.8937 - lr: 0.1000\n",
      "Epoch 11/1000\n",
      "63/63 [==============================] - 4s 67ms/step - loss: 5.8398 - lr: 0.1000\n",
      "Epoch 12/1000\n",
      "63/63 [==============================] - 4s 67ms/step - loss: 5.8774 - lr: 0.1000\n",
      "Epoch 13/1000\n",
      "63/63 [==============================] - 4s 69ms/step - loss: 5.7899 - lr: 0.1000\n",
      "Epoch 14/1000\n",
      "63/63 [==============================] - 4s 70ms/step - loss: 5.7544 - lr: 0.1000\n",
      "Epoch 15/1000\n",
      "63/63 [==============================] - 4s 70ms/step - loss: 5.7057 - lr: 0.1000\n",
      "Epoch 16/1000\n",
      "63/63 [==============================] - 4s 68ms/step - loss: 5.6719 - lr: 0.1000\n",
      "Epoch 17/1000\n",
      "63/63 [==============================] - 4s 69ms/step - loss: 5.7340 - lr: 0.1000\n",
      "Epoch 18/1000\n",
      "63/63 [==============================] - 4s 70ms/step - loss: 5.6593 - lr: 0.1000\n",
      "Epoch 19/1000\n",
      "63/63 [==============================] - 4s 71ms/step - loss: 5.6220 - lr: 0.1000\n",
      "Epoch 20/1000\n",
      "63/63 [==============================] - 4s 68ms/step - loss: 5.5879 - lr: 0.1000\n",
      "Epoch 21/1000\n",
      "63/63 [==============================] - 4s 69ms/step - loss: 5.5957 - lr: 0.1000\n",
      "Epoch 22/1000\n",
      "63/63 [==============================] - 4s 69ms/step - loss: 5.6293 - lr: 0.1000\n",
      "Epoch 23/1000\n",
      "63/63 [==============================] - 4s 70ms/step - loss: 5.5529 - lr: 0.1000\n",
      "Epoch 24/1000\n",
      "63/63 [==============================] - 4s 67ms/step - loss: 5.5391 - lr: 0.1000\n",
      "Epoch 25/1000\n",
      "63/63 [==============================] - 4s 70ms/step - loss: 5.5370 - lr: 0.1000\n",
      "Epoch 26/1000\n",
      "63/63 [==============================] - 4s 69ms/step - loss: 5.4988 - lr: 0.1000\n",
      "Epoch 27/1000\n",
      "63/63 [==============================] - 4s 68ms/step - loss: 5.4730 - lr: 0.1000\n",
      "Epoch 28/1000\n",
      "63/63 [==============================] - 4s 70ms/step - loss: 5.4323 - lr: 0.1000\n",
      "Epoch 29/1000\n",
      "63/63 [==============================] - 4s 68ms/step - loss: 5.3998 - lr: 0.1000\n",
      "Epoch 30/1000\n",
      "63/63 [==============================] - 4s 67ms/step - loss: 5.4032 - lr: 0.1000\n",
      "Epoch 31/1000\n",
      "63/63 [==============================] - 4s 67ms/step - loss: 5.4009 - lr: 0.1000\n",
      "Epoch 32/1000\n",
      "63/63 [==============================] - 4s 67ms/step - loss: 5.4307 - lr: 0.1000\n",
      "Epoch 33/1000\n",
      "63/63 [==============================] - 4s 69ms/step - loss: 5.4164 - lr: 0.1000\n",
      "Epoch 34/1000\n",
      "63/63 [==============================] - 4s 69ms/step - loss: 5.3434 - lr: 0.1000\n",
      "Epoch 35/1000\n",
      "63/63 [==============================] - 4s 67ms/step - loss: 5.3161 - lr: 0.1000\n",
      "Epoch 36/1000\n",
      "63/63 [==============================] - 4s 69ms/step - loss: 5.3065 - lr: 0.1000\n",
      "Epoch 37/1000\n",
      "63/63 [==============================] - 5s 71ms/step - loss: 5.2784 - lr: 0.1000\n",
      "Epoch 38/1000\n",
      "63/63 [==============================] - 4s 70ms/step - loss: 5.2977 - lr: 0.1000\n",
      "Epoch 39/1000\n",
      "63/63 [==============================] - 4s 70ms/step - loss: 5.2455 - lr: 0.1000\n",
      "Epoch 40/1000\n",
      "63/63 [==============================] - 4s 68ms/step - loss: 5.2452 - lr: 0.1000\n",
      "Epoch 41/1000\n",
      "63/63 [==============================] - 4s 68ms/step - loss: 5.2300 - lr: 0.1000\n",
      "Epoch 42/1000\n",
      "63/63 [==============================] - 4s 70ms/step - loss: 5.2340 - lr: 0.1000\n",
      "Epoch 43/1000\n",
      "63/63 [==============================] - 4s 69ms/step - loss: 5.2566 - lr: 0.1000\n",
      "Epoch 44/1000\n",
      "63/63 [==============================] - 4s 70ms/step - loss: 5.2218 - lr: 0.1000\n",
      "Epoch 45/1000\n",
      "63/63 [==============================] - 4s 68ms/step - loss: 5.1904 - lr: 0.1000\n",
      "Epoch 46/1000\n",
      "63/63 [==============================] - 4s 70ms/step - loss: 5.1926 - lr: 0.1000\n",
      "Epoch 47/1000\n",
      "63/63 [==============================] - 4s 69ms/step - loss: 5.2048 - lr: 0.1000\n",
      "Epoch 48/1000\n",
      "63/63 [==============================] - 4s 68ms/step - loss: 5.1691 - lr: 0.1000\n",
      "Epoch 49/1000\n",
      "63/63 [==============================] - 4s 68ms/step - loss: 5.1773 - lr: 0.1000\n",
      "Epoch 50/1000\n",
      "63/63 [==============================] - 4s 68ms/step - loss: 5.2208 - lr: 0.1000\n",
      "Epoch 51/1000\n",
      "63/63 [==============================] - 4s 69ms/step - loss: 5.1952 - lr: 0.1000\n",
      "Epoch 52/1000\n",
      "63/63 [==============================] - 4s 68ms/step - loss: 5.1521 - lr: 0.1000\n",
      "Epoch 53/1000\n",
      "63/63 [==============================] - 5s 72ms/step - loss: 5.1201 - lr: 0.1000\n",
      "Epoch 54/1000\n",
      "63/63 [==============================] - 4s 69ms/step - loss: 5.1592 - lr: 0.1000\n",
      "Epoch 55/1000\n",
      "63/63 [==============================] - 4s 68ms/step - loss: 5.1277 - lr: 0.1000\n",
      "Epoch 56/1000\n",
      "63/63 [==============================] - 4s 69ms/step - loss: 5.1244 - lr: 0.1000\n",
      "Epoch 57/1000\n",
      "63/63 [==============================] - 4s 70ms/step - loss: 5.1034 - lr: 0.1000\n",
      "Epoch 58/1000\n",
      "63/63 [==============================] - 4s 68ms/step - loss: 5.1180 - lr: 0.1000\n",
      "Epoch 59/1000\n",
      "63/63 [==============================] - 4s 68ms/step - loss: 5.1051 - lr: 0.1000\n",
      "Epoch 60/1000\n",
      "63/63 [==============================] - 4s 69ms/step - loss: 5.1013 - lr: 0.1000\n",
      "Epoch 61/1000\n",
      "63/63 [==============================] - 4s 68ms/step - loss: 5.1135 - lr: 0.1000\n",
      "Epoch 62/1000\n",
      "63/63 [==============================] - 4s 71ms/step - loss: 5.0787 - lr: 0.1000\n",
      "Epoch 63/1000\n",
      "63/63 [==============================] - 4s 68ms/step - loss: 5.1025 - lr: 0.1000\n",
      "Epoch 64/1000\n",
      "63/63 [==============================] - 4s 68ms/step - loss: 5.0717 - lr: 0.1000\n",
      "Epoch 65/1000\n",
      "63/63 [==============================] - 4s 68ms/step - loss: 5.0767 - lr: 0.1000\n",
      "Epoch 66/1000\n",
      "63/63 [==============================] - 4s 68ms/step - loss: 5.0628 - lr: 0.1000\n",
      "Epoch 67/1000\n",
      "63/63 [==============================] - 4s 68ms/step - loss: 5.0558 - lr: 0.1000\n",
      "Epoch 68/1000\n",
      "63/63 [==============================] - 4s 69ms/step - loss: 5.0500 - lr: 0.1000\n",
      "Epoch 69/1000\n",
      "63/63 [==============================] - 4s 69ms/step - loss: 5.0522 - lr: 0.1000\n",
      "Epoch 70/1000\n",
      "63/63 [==============================] - 4s 69ms/step - loss: 5.0460 - lr: 0.1000\n",
      "Epoch 71/1000\n",
      "63/63 [==============================] - 4s 69ms/step - loss: 5.0296 - lr: 0.1000\n",
      "Epoch 72/1000\n",
      "63/63 [==============================] - 4s 68ms/step - loss: 5.0310 - lr: 0.1000\n",
      "Epoch 73/1000\n",
      "63/63 [==============================] - 4s 68ms/step - loss: 5.0361 - lr: 0.1000\n",
      "Epoch 74/1000\n",
      "63/63 [==============================] - 4s 68ms/step - loss: 5.0298 - lr: 0.1000\n",
      "Epoch 75/1000\n",
      "63/63 [==============================] - 4s 69ms/step - loss: 5.0209 - lr: 0.1000\n",
      "Epoch 76/1000\n",
      "63/63 [==============================] - 4s 68ms/step - loss: 4.9996 - lr: 0.1000\n",
      "Epoch 77/1000\n",
      "63/63 [==============================] - 4s 67ms/step - loss: 5.0149 - lr: 0.1000\n",
      "Epoch 78/1000\n",
      "63/63 [==============================] - 4s 70ms/step - loss: 4.9691 - lr: 0.1000\n",
      "Epoch 79/1000\n",
      "63/63 [==============================] - 4s 69ms/step - loss: 4.9717 - lr: 0.1000\n",
      "Epoch 80/1000\n",
      "63/63 [==============================] - 4s 68ms/step - loss: 4.9850 - lr: 0.1000\n",
      "Epoch 81/1000\n",
      "63/63 [==============================] - 4s 69ms/step - loss: 5.0172 - lr: 0.1000\n",
      "Epoch 82/1000\n",
      "63/63 [==============================] - 4s 70ms/step - loss: 4.9912 - lr: 0.1000\n",
      "Epoch 83/1000\n",
      "63/63 [==============================] - 4s 69ms/step - loss: 4.9835 - lr: 0.1000\n",
      "Epoch 84/1000\n",
      "63/63 [==============================] - 4s 69ms/step - loss: 4.9782 - lr: 0.1000\n",
      "Epoch 85/1000\n",
      "63/63 [==============================] - 4s 71ms/step - loss: 4.9756 - lr: 0.1000\n",
      "Epoch 86/1000\n",
      "63/63 [==============================] - 4s 67ms/step - loss: 4.9796 - lr: 0.1000\n",
      "Epoch 87/1000\n",
      "63/63 [==============================] - 4s 68ms/step - loss: 4.9562 - lr: 0.1000\n",
      "Epoch 88/1000\n",
      "63/63 [==============================] - 4s 67ms/step - loss: 4.9598 - lr: 0.1000\n",
      "Epoch 89/1000\n",
      "63/63 [==============================] - 4s 68ms/step - loss: 4.9838 - lr: 0.1000\n",
      "Epoch 90/1000\n",
      "63/63 [==============================] - 4s 69ms/step - loss: 4.9653 - lr: 0.1000\n",
      "Epoch 91/1000\n",
      "63/63 [==============================] - 4s 69ms/step - loss: 4.9538 - lr: 0.1000\n",
      "Epoch 92/1000\n",
      "63/63 [==============================] - 4s 70ms/step - loss: 4.9444 - lr: 0.1000\n",
      "Epoch 93/1000\n",
      "63/63 [==============================] - 4s 68ms/step - loss: 4.9487 - lr: 0.1000\n",
      "Epoch 94/1000\n",
      "63/63 [==============================] - 4s 69ms/step - loss: 4.9356 - lr: 0.1000\n",
      "Epoch 95/1000\n",
      "63/63 [==============================] - 4s 68ms/step - loss: 4.9533 - lr: 0.1000\n",
      "Epoch 96/1000\n",
      "63/63 [==============================] - 4s 68ms/step - loss: 4.9444 - lr: 0.1000\n",
      "Epoch 97/1000\n",
      "63/63 [==============================] - 4s 68ms/step - loss: 4.9363 - lr: 0.1000\n",
      "Epoch 98/1000\n",
      "63/63 [==============================] - 4s 68ms/step - loss: 4.9250 - lr: 0.1000\n"
     ]
    }
   ],
   "source": [
    "from tensorflow.keras.callbacks import EarlyStopping, ReduceLROnPlateau\n",
    "\n",
    "history = model.fit(\n",
    "    word2vec_sequence,\n",
    "    steps_per_epoch=word2vec_sequence.steps_per_epoch,\n",
    "    epochs=1000,\n",
    "    callbacks=[\n",
    "        EarlyStopping(\n",
    "            \"loss\",\n",
    "            min_delta=delta,\n",
    "            patience=patience,\n",
    "            restore_best_weights=True\n",
    "        ),\n",
    "        ReduceLROnPlateau(monitor=\"loss\", patience=patience//4)\n",
    "    ]\n",
    ")"
   ]
  },
  {
   "cell_type": "markdown",
   "metadata": {},
   "source": [
    "### Plotting the history\n",
    "We plot the training history:"
   ]
  },
  {
   "cell_type": "code",
   "execution_count": 14,
   "metadata": {},
   "outputs": [
    {
     "data": {
      "image/png": "[encoded data removed]",
      "text/plain": [
       "<Figure size 720x360 with 2 Axes>"
      ]
     },
     "metadata": {
      "needs_background": "light"
     },
     "output_type": "display_data"
    }
   ],
   "source": [
    "from plot_keras_history import plot_history\n",
    "plot_history(history)"
   ]
  },
  {
   "cell_type": "markdown",
   "metadata": {},
   "source": [
    "## Computing the cosine similarities"
   ]
  },
  {
   "cell_type": "code",
   "execution_count": 15,
   "metadata": {},
   "outputs": [],
   "source": [
    "from sklearn.metrics.pairwise import cosine_similarity\n",
    "similarities = cosine_similarity(model.embedding)"
   ]
  },
  {
   "cell_type": "code",
   "execution_count": 26,
   "metadata": {},
   "outputs": [
    {
     "data": {
      "text/plain": [
       "['include 3 2010 5 become 15 turn senator point hillary']"
      ]
     },
     "execution_count": 26,
     "metadata": {},
     "output_type": "execute_result"
    }
   ],
   "source": [
    "word = \"hillary\"\n",
    "similarity = similarities[transformer.get_word_id(transformer.get_synonym(word))]\n",
    "transformer.reverse_transform([\n",
    "    similarity.argsort()[-10:]\n",
    "])"
   ]
  },
  {
   "cell_type": "code",
   "execution_count": 27,
   "metadata": {},
   "outputs": [
    {
     "data": {
      "text/plain": [
       "array([0.9441921 , 0.94471127, 0.94766057, 0.9484106 , 0.94849694,\n",
       "       0.9517511 , 0.9543548 , 0.957718  , 0.963446  , 1.0000001 ],\n",
       "      dtype=float32)"
      ]
     },
     "execution_count": 27,
     "metadata": {},
     "output_type": "execute_result"
    }
   ],
   "source": [
    "similarity[similarity.argsort()[-10:]]"
   ]
  }
 ],
 "metadata": {
  "kernelspec": {
   "display_name": "Python 3",
   "language": "python",
   "name": "python3"
  },
  "language_info": {
   "codemirror_mode": {
    "name": "ipython",
    "version": 3
   },
   "file_extension": ".py",
   "mimetype": "text/x-python",
   "name": "python",
   "nbconvert_exporter": "python",
   "pygments_lexer": "ipython3",
   "version": "3.7.6"
  }
 },
 "nbformat": 4,
 "nbformat_minor": 4
}
